{
 "cells": [
  {
   "cell_type": "markdown",
   "id": "f4f61e0a",
   "metadata": {
    "toc": true
   },
   "source": [
    "<h1>Навигация<span class=\"tocSkip\"></span></h1>\n",
    "<div class=\"toc\"><ul class=\"toc-item\"><li><span><a href=\"#Описание-данных\" data-toc-modified-id=\"Описание-данных-1\">Описание данных</a></span></li><li><span><a href=\"#План-работы\" data-toc-modified-id=\"План-работы-2\">План работы</a></span></li><li><span><a href=\"#Шаг-1.-Загрузка-данных\" data-toc-modified-id=\"Шаг-1.-Загрузка-данных-3\">Шаг 1. Загрузка данных</a></span><ul class=\"toc-item\"><li><ul class=\"toc-item\"><li><span><a href=\"#Таблица-с-пользователями\" data-toc-modified-id=\"Таблица-с-пользователями-3.0.1\">Таблица с пользователями</a></span></li><li><span><a href=\"#Таблица-с-поездками\" data-toc-modified-id=\"Таблица-с-поездками-3.0.2\">Таблица с поездками</a></span></li><li><span><a href=\"#Таблица-с-подписками\" data-toc-modified-id=\"Таблица-с-подписками-3.0.3\">Таблица с подписками</a></span></li></ul></li></ul></li><li><span><a href=\"#Шаг-2.-Предобработка-данных\" data-toc-modified-id=\"Шаг-2.-Предобработка-данных-4\">Шаг 2. Предобработка данных</a></span><ul class=\"toc-item\"><li><ul class=\"toc-item\"><li><span><a href=\"#Проверим-датафреймы-на-пропуски\" data-toc-modified-id=\"Проверим-датафреймы-на-пропуски-4.0.1\">Проверим датафреймы на пропуски</a></span></li><li><span><a href=\"#Проверим,-есть-ли-дубликаты\" data-toc-modified-id=\"Проверим,-есть-ли-дубликаты-4.0.2\">Проверим, есть ли дубликаты</a></span></li><li><span><a href=\"#Посмотрим-на-уникальные-значения\" data-toc-modified-id=\"Посмотрим-на-уникальные-значения-4.0.3\">Посмотрим на уникальные значения</a></span></li><li><span><a href=\"#Поменяем-типы-данных\" data-toc-modified-id=\"Поменяем-типы-данных-4.0.4\">Поменяем типы данных</a></span></li><li><span><a href=\"#Создадим-новый-столбец\" data-toc-modified-id=\"Создадим-новый-столбец-4.0.5\">Создадим новый столбец</a></span></li></ul></li></ul></li><li><span><a href=\"#Шаг-3.-Исследовательский-анализ-данных\" data-toc-modified-id=\"Шаг-3.-Исследовательский-анализ-данных-5\">Шаг 3. Исследовательский анализ данных</a></span><ul class=\"toc-item\"><li><ul class=\"toc-item\"><li><span><a href=\"#Частота-встречаемости-тех-или-иных-городов\" data-toc-modified-id=\"Частота-встречаемости-тех-или-иных-городов-5.0.1\">Частота встречаемости тех или иных городов</a></span></li><li><span><a href=\"#Соотношение-пользователей-с-подпиской-и-без\" data-toc-modified-id=\"Соотношение-пользователей-с-подпиской-и-без-5.0.2\">Соотношение пользователей с подпиской и без</a></span></li><li><span><a href=\"#Возраст-пользователей\" data-toc-modified-id=\"Возраст-пользователей-5.0.3\">Возраст пользователей</a></span></li><li><span><a href=\"#Расстояние-за-одну-поездку\" data-toc-modified-id=\"Расстояние-за-одну-поездку-5.0.4\">Расстояние за одну поездку</a></span></li><li><span><a href=\"#Продолжительность-поездки\" data-toc-modified-id=\"Продолжительность-поездки-5.0.5\">Продолжительность поездки</a></span></li><li><span><a href=\"#Промежуточный-вывод\" data-toc-modified-id=\"Промежуточный-вывод-5.0.6\">Промежуточный вывод</a></span></li></ul></li></ul></li><li><span><a href=\"#Шаг-4.-Объединение-данных\" data-toc-modified-id=\"Шаг-4.-Объединение-данных-6\">Шаг 4. Объединение данных</a></span><ul class=\"toc-item\"><li><ul class=\"toc-item\"><li><span><a href=\"#Объединим-три-датафрейма\" data-toc-modified-id=\"Объединим-три-датафрейма-6.0.1\">Объединим три датафрейма</a></span></li><li><span><a href=\"#Датафрейм-с-пользователями-без-подписки\" data-toc-modified-id=\"Датафрейм-с-пользователями-без-подписки-6.0.2\">Датафрейм с пользователями без подписки</a></span></li><li><span><a href=\"#Датафрейм-с-пользователями-с-подпиской\" data-toc-modified-id=\"Датафрейм-с-пользователями-с-подпиской-6.0.3\">Датафрейм с пользователями с подпиской</a></span></li><li><span><a href=\"#Сравним-данные-о-подписках\" data-toc-modified-id=\"Сравним-данные-о-подписках-6.0.4\">Сравним данные о подписках</a></span></li><li><span><a href=\"#Промежуточный-вывод\" data-toc-modified-id=\"Промежуточный-вывод-6.0.5\">Промежуточный вывод</a></span></li></ul></li></ul></li><li><span><a href=\"#Шаг-5.-Подсчёт-выручки\" data-toc-modified-id=\"Шаг-5.-Подсчёт-выручки-7\">Шаг 5. Подсчёт выручки</a></span><ul class=\"toc-item\"><li><ul class=\"toc-item\"><li><span><a href=\"#Суммарное-расстояние,-количество-поeздок-и-суммарное-время-для-каждого-пользователя-за-каждый-месяц\" data-toc-modified-id=\"Суммарное-расстояние,-количество-поeздок-и-суммарное-время-для-каждого-пользователя-за-каждый-месяц-7.0.1\">Суммарное расстояние, количество поeздок и суммарное время для каждого пользователя за каждый месяц</a></span></li><li><span><a href=\"#Помесячная-выручка\" data-toc-modified-id=\"Помесячная-выручка-7.0.2\">Помесячная выручка</a></span></li><li><span><a href=\"#Промежуточный-вывод\" data-toc-modified-id=\"Промежуточный-вывод-7.0.3\">Промежуточный вывод</a></span></li></ul></li></ul></li><li><span><a href=\"#Шаг-6.-Проверка-гипотез\" data-toc-modified-id=\"Шаг-6.-Проверка-гипотез-8\">Шаг 6. Проверка гипотез</a></span><ul class=\"toc-item\"><li><ul class=\"toc-item\"><li><span><a href=\"#Тратят-ли-пользователи-с-подпиской-больше-времени-на-поездки\" data-toc-modified-id=\"Тратят-ли-пользователи-с-подпиской-больше-времени-на-поездки-8.0.1\">Тратят ли пользователи с подпиской больше времени на поездки</a></span></li><li><span><a href=\"#Оптимальное-растояние-поездки-с-точки-зрения-износа-самоката\" data-toc-modified-id=\"Оптимальное-растояние-поездки-с-точки-зрения-износа-самоката-8.0.2\">Оптимальное растояние поездки с точки зрения износа самоката</a></span></li><li><span><a href=\"#Помесячная-выручка-от-пользователей-с-подпиской-выше,-чем-выручка-от-пользователей-без-подписки\" data-toc-modified-id=\"Помесячная-выручка-от-пользователей-с-подпиской-выше,-чем-выручка-от-пользователей-без-подписки-8.0.3\">Помесячная выручка от пользователей с подпиской выше, чем выручка от пользователей без подписки</a></span></li><li><span><a href=\"#Снизилось-ли-количество-обращений-в-техподдержку\" data-toc-modified-id=\"Снизилось-ли-количество-обращений-в-техподдержку-8.0.4\">Снизилось ли количество обращений в техподдержку</a></span></li></ul></li></ul></li><li><span><a href=\"#Шаг-7.-Вывод\" data-toc-modified-id=\"Шаг-7.-Вывод-9\">Шаг 7. Вывод</a></span></li></ul></div>"
   ]
  },
  {
   "cell_type": "markdown",
   "id": "09110f56",
   "metadata": {},
   "source": [
    "   # Исследование сервиса аренды самокатов GoFast"
   ]
  },
  {
   "cell_type": "markdown",
   "id": "9e88f0da",
   "metadata": {},
   "source": [
    "Нам передали данные о некоторых пользователях из нескольких городов, а также об их поездках. Нужно проанализировать данные и проверить некоторые гипотезы, которые могут помочь бизнесу вырасти.\n",
    "\n",
    "\n",
    "Чтобы совершать поездки по городу, пользователи сервиса GoFast пользуются мобильным приложением. Сервисом можно пользоваться:\n",
    "\n",
    "`без подписки`\n",
    " - абонентская плата отсутствует;\n",
    " - стоимость одной минуты поездки — 8 рублей;\n",
    " - стоимость старта (начала поездки) — 50 рублей;\n",
    " \n",
    "`с подпиской Ultra`\n",
    " - абонентская плата — 199 рублей в месяц;\n",
    " - стоимость одной минуты поездки — 6 рублей;\n",
    " - стоимость старта — бесплатно."
   ]
  },
  {
   "cell_type": "markdown",
   "id": "45f9d0fd",
   "metadata": {},
   "source": [
    "## Описание данных"
   ]
  },
  {
   "cell_type": "markdown",
   "id": "be0fc16e",
   "metadata": {},
   "source": [
    "**Пользователи** — `users_go.csv`\n",
    "\n",
    "- `user_id` — уникальный идентификатор пользователя;\n",
    "- `name` — имя пользователя;\n",
    "- `age` — возраст;\n",
    "- `city` — город;\n",
    "- `subscription_type` — тип подписки (free, ultra).\n",
    "\n",
    "\n",
    "**Поeздки** — `rides_go.csv`\n",
    "\n",
    "- `user_id` — уникальный идентификатор пользователя;\n",
    "- `distance` — расстояние, которое пользователь проехал в текущей сессии (в метрах);\n",
    "- `duration` — продолжительность сессии (в минутах) — время с того момента, как пользователь нажал кнопку «Начать поездку» до момента, как он нажал кнопку «Завершить поездку»;\n",
    "- `date` — дата совершения поездки.\n",
    "\n",
    "\n",
    "\n",
    "**Подписки** — `subscriptions_go.csv`\n",
    "\n",
    "- `subscription_type` — тип подписки;\n",
    "- `minute_price` — стоимость одной минуты поездки по данной подписке;\n",
    "- `start_ride_price` — стоимость начала поездки;\n",
    "- `subscription_fee` — стоимость ежемесячного платежа."
   ]
  },
  {
   "cell_type": "markdown",
   "id": "24aae19a",
   "metadata": {},
   "source": [
    "## План работы"
   ]
  },
  {
   "cell_type": "markdown",
   "id": "d9984a28",
   "metadata": {},
   "source": [
    "1. Изучить датафрейм. Открыть файлы, описать, что из себя представляют полученные массивы данных, отобразить эту иформацию на графиках.\n",
    "\n",
    "2. Выполнить преобработку. Проверить, какие данные пропущены. Найти и заполнить пропуски, где это возможно. Привести данные к типу pandas, создать новый столбец с номером месяца на основе столбца `date`.\n",
    "\n",
    "3. Описать и визуализировать общую информацию о пользователях и поездках: \n",
    " - частота встречаемости городов;\n",
    " - соотношение пользователей с подпиской и без подписки;\n",
    " - возраст пользователей;\n",
    " - расстояние, которое пользователь преодолел за одну поездку;\n",
    " - продолжительность поездок.\n",
    " \n",
    "4. Oбъединить данные о пользователях, поездках и подписках в один датафрейм. Создать ещё два датафрейма с данными о пользователях без подписки и с данными о пользователях с подпиской. Графически представить информацию о расстоянии и времени поездок для пользователей обеих категорий.\n",
    "\n",
    "5. Подсчитать выручку: cоздать датафрейм с агрегированными данными о поездках, найти суммарное расстояние, количество поездок и суммарное время для каждого пользователя за каждый месяц. Вывести помесячную выручку, которую принес каждый пользователь.\n",
    "\n",
    "6. Проверить гипотезы:\n",
    " - тратят ли пользователи с подпиской больше времени на поездки;\n",
    " - среднее расстояние, которое проезжают пользователи с подпиской за одну поездку, не превышает 3130 метров;\n",
    " - помесячная выручка от пользователей с подпиской по месяцам выше, чем выручка от пользователей без подписки;\n",
    " - снизилось ли количество обращений в техподдержку после обновления серверов.\n",
    "\n",
    "7. Составить общий вывод."
   ]
  },
  {
   "cell_type": "markdown",
   "id": "c42cbe00",
   "metadata": {},
   "source": [
    "## Шаг 1. Загрузка данных"
   ]
  },
  {
   "cell_type": "markdown",
   "id": "88753ef4",
   "metadata": {},
   "source": [
    "Импортируем библиотеки"
   ]
  },
  {
   "cell_type": "code",
   "execution_count": 1,
   "id": "9bd6bec8",
   "metadata": {
    "id": "7MZxY65pAwb9"
   },
   "outputs": [],
   "source": [
    "import pandas as pd\n",
    "import matplotlib.pyplot as plt\n",
    "import seaborn as sns\n",
    "import math\n",
    "import numpy as np\n",
    "from scipy import stats as st\n",
    "from scipy.stats import binom"
   ]
  },
  {
   "cell_type": "markdown",
   "id": "dd04cf5f",
   "metadata": {},
   "source": [
    "Прочитаем файлы"
   ]
  },
  {
   "cell_type": "markdown",
   "id": "a6e8a586",
   "metadata": {},
   "source": [
    "#### Таблица с пользователями"
   ]
  },
  {
   "cell_type": "code",
   "execution_count": 2,
   "id": "5ff36669",
   "metadata": {},
   "outputs": [
    {
     "name": "stdout",
     "output_type": "stream",
     "text": [
      "<class 'pandas.core.frame.DataFrame'>\n",
      "RangeIndex: 1565 entries, 0 to 1564\n",
      "Data columns (total 5 columns):\n",
      " #   Column             Non-Null Count  Dtype \n",
      "---  ------             --------------  ----- \n",
      " 0   user_id            1565 non-null   int64 \n",
      " 1   name               1565 non-null   object\n",
      " 2   age                1565 non-null   int64 \n",
      " 3   city               1565 non-null   object\n",
      " 4   subscription_type  1565 non-null   object\n",
      "dtypes: int64(2), object(3)\n",
      "memory usage: 61.3+ KB\n"
     ]
    }
   ],
   "source": [
    "try:\n",
    "    users_data = pd.read_csv('/datasets/users_go.csv')\n",
    "except:\n",
    "    users_data = pd.read_csv('users_go.csv')\n",
    "\n",
    "users_data.info() "
   ]
  },
  {
   "cell_type": "code",
   "execution_count": 3,
   "id": "abf5efc6",
   "metadata": {},
   "outputs": [
    {
     "data": {
      "text/html": [
       "<div>\n",
       "<style scoped>\n",
       "    .dataframe tbody tr th:only-of-type {\n",
       "        vertical-align: middle;\n",
       "    }\n",
       "\n",
       "    .dataframe tbody tr th {\n",
       "        vertical-align: top;\n",
       "    }\n",
       "\n",
       "    .dataframe thead th {\n",
       "        text-align: right;\n",
       "    }\n",
       "</style>\n",
       "<table border=\"1\" class=\"dataframe\">\n",
       "  <thead>\n",
       "    <tr style=\"text-align: right;\">\n",
       "      <th></th>\n",
       "      <th>user_id</th>\n",
       "      <th>name</th>\n",
       "      <th>age</th>\n",
       "      <th>city</th>\n",
       "      <th>subscription_type</th>\n",
       "    </tr>\n",
       "  </thead>\n",
       "  <tbody>\n",
       "    <tr>\n",
       "      <th>0</th>\n",
       "      <td>1</td>\n",
       "      <td>Кира</td>\n",
       "      <td>22</td>\n",
       "      <td>Тюмень</td>\n",
       "      <td>ultra</td>\n",
       "    </tr>\n",
       "    <tr>\n",
       "      <th>1</th>\n",
       "      <td>2</td>\n",
       "      <td>Станислав</td>\n",
       "      <td>31</td>\n",
       "      <td>Омск</td>\n",
       "      <td>ultra</td>\n",
       "    </tr>\n",
       "    <tr>\n",
       "      <th>2</th>\n",
       "      <td>3</td>\n",
       "      <td>Алексей</td>\n",
       "      <td>20</td>\n",
       "      <td>Москва</td>\n",
       "      <td>ultra</td>\n",
       "    </tr>\n",
       "    <tr>\n",
       "      <th>3</th>\n",
       "      <td>4</td>\n",
       "      <td>Константин</td>\n",
       "      <td>26</td>\n",
       "      <td>Ростов-на-Дону</td>\n",
       "      <td>ultra</td>\n",
       "    </tr>\n",
       "    <tr>\n",
       "      <th>4</th>\n",
       "      <td>5</td>\n",
       "      <td>Адель</td>\n",
       "      <td>28</td>\n",
       "      <td>Омск</td>\n",
       "      <td>ultra</td>\n",
       "    </tr>\n",
       "    <tr>\n",
       "      <th>5</th>\n",
       "      <td>6</td>\n",
       "      <td>Регина</td>\n",
       "      <td>25</td>\n",
       "      <td>Краснодар</td>\n",
       "      <td>ultra</td>\n",
       "    </tr>\n",
       "    <tr>\n",
       "      <th>6</th>\n",
       "      <td>7</td>\n",
       "      <td>Игорь</td>\n",
       "      <td>23</td>\n",
       "      <td>Омск</td>\n",
       "      <td>ultra</td>\n",
       "    </tr>\n",
       "    <tr>\n",
       "      <th>7</th>\n",
       "      <td>8</td>\n",
       "      <td>Юрий</td>\n",
       "      <td>23</td>\n",
       "      <td>Краснодар</td>\n",
       "      <td>ultra</td>\n",
       "    </tr>\n",
       "    <tr>\n",
       "      <th>8</th>\n",
       "      <td>9</td>\n",
       "      <td>Ян</td>\n",
       "      <td>21</td>\n",
       "      <td>Пятигорск</td>\n",
       "      <td>ultra</td>\n",
       "    </tr>\n",
       "    <tr>\n",
       "      <th>9</th>\n",
       "      <td>10</td>\n",
       "      <td>Валерий</td>\n",
       "      <td>18</td>\n",
       "      <td>Екатеринбург</td>\n",
       "      <td>ultra</td>\n",
       "    </tr>\n",
       "    <tr>\n",
       "      <th>10</th>\n",
       "      <td>11</td>\n",
       "      <td>Агата</td>\n",
       "      <td>31</td>\n",
       "      <td>Краснодар</td>\n",
       "      <td>ultra</td>\n",
       "    </tr>\n",
       "    <tr>\n",
       "      <th>11</th>\n",
       "      <td>12</td>\n",
       "      <td>Марк</td>\n",
       "      <td>27</td>\n",
       "      <td>Тюмень</td>\n",
       "      <td>ultra</td>\n",
       "    </tr>\n",
       "    <tr>\n",
       "      <th>12</th>\n",
       "      <td>13</td>\n",
       "      <td>Ева</td>\n",
       "      <td>24</td>\n",
       "      <td>Краснодар</td>\n",
       "      <td>ultra</td>\n",
       "    </tr>\n",
       "    <tr>\n",
       "      <th>13</th>\n",
       "      <td>14</td>\n",
       "      <td>Антонина</td>\n",
       "      <td>18</td>\n",
       "      <td>Пятигорск</td>\n",
       "      <td>ultra</td>\n",
       "    </tr>\n",
       "    <tr>\n",
       "      <th>14</th>\n",
       "      <td>15</td>\n",
       "      <td>Валерия</td>\n",
       "      <td>24</td>\n",
       "      <td>Тюмень</td>\n",
       "      <td>ultra</td>\n",
       "    </tr>\n",
       "  </tbody>\n",
       "</table>\n",
       "</div>"
      ],
      "text/plain": [
       "    user_id        name  age            city subscription_type\n",
       "0         1        Кира   22          Тюмень             ultra\n",
       "1         2   Станислав   31            Омск             ultra\n",
       "2         3     Алексей   20          Москва             ultra\n",
       "3         4  Константин   26  Ростов-на-Дону             ultra\n",
       "4         5       Адель   28            Омск             ultra\n",
       "5         6      Регина   25       Краснодар             ultra\n",
       "6         7       Игорь   23            Омск             ultra\n",
       "7         8        Юрий   23       Краснодар             ultra\n",
       "8         9          Ян   21       Пятигорск             ultra\n",
       "9        10     Валерий   18    Екатеринбург             ultra\n",
       "10       11       Агата   31       Краснодар             ultra\n",
       "11       12        Марк   27          Тюмень             ultra\n",
       "12       13         Ева   24       Краснодар             ultra\n",
       "13       14    Антонина   18       Пятигорск             ultra\n",
       "14       15     Валерия   24          Тюмень             ultra"
      ]
     },
     "execution_count": 3,
     "metadata": {},
     "output_type": "execute_result"
    }
   ],
   "source": [
    "users_data.head(15)"
   ]
  },
  {
   "cell_type": "markdown",
   "id": "0034f4c6",
   "metadata": {},
   "source": [
    "Посмотрим на размер датафрейма"
   ]
  },
  {
   "cell_type": "code",
   "execution_count": 4,
   "id": "5a5438ab",
   "metadata": {},
   "outputs": [
    {
     "name": "stdout",
     "output_type": "stream",
     "text": [
      "Размер датафрейма\n",
      "Строки: 1565\n",
      "Столбцы: 5\n"
     ]
    }
   ],
   "source": [
    "users_shape = users_data.shape \n",
    "\n",
    "print('Размер датафрейма')\n",
    "print('Строки:', users_shape[0]) \n",
    "print('Столбцы:', users_shape[1])"
   ]
  },
  {
   "cell_type": "markdown",
   "id": "5b761c31",
   "metadata": {},
   "source": [
    "#### Таблица с поездками"
   ]
  },
  {
   "cell_type": "code",
   "execution_count": 5,
   "id": "5b2a5e96",
   "metadata": {},
   "outputs": [
    {
     "name": "stdout",
     "output_type": "stream",
     "text": [
      "<class 'pandas.core.frame.DataFrame'>\n",
      "RangeIndex: 18068 entries, 0 to 18067\n",
      "Data columns (total 4 columns):\n",
      " #   Column    Non-Null Count  Dtype  \n",
      "---  ------    --------------  -----  \n",
      " 0   user_id   18068 non-null  int64  \n",
      " 1   distance  18068 non-null  float64\n",
      " 2   duration  18068 non-null  float64\n",
      " 3   date      18068 non-null  object \n",
      "dtypes: float64(2), int64(1), object(1)\n",
      "memory usage: 564.8+ KB\n"
     ]
    }
   ],
   "source": [
    "try:\n",
    "    rides_data = pd.read_csv('/datasets/rides_go.csv')\n",
    "except:\n",
    "    rides_data = pd.read_csv('rides_go.csv')\n",
    "\n",
    "rides_data.info()"
   ]
  },
  {
   "cell_type": "code",
   "execution_count": 6,
   "id": "26899a71",
   "metadata": {},
   "outputs": [
    {
     "data": {
      "text/html": [
       "<div>\n",
       "<style scoped>\n",
       "    .dataframe tbody tr th:only-of-type {\n",
       "        vertical-align: middle;\n",
       "    }\n",
       "\n",
       "    .dataframe tbody tr th {\n",
       "        vertical-align: top;\n",
       "    }\n",
       "\n",
       "    .dataframe thead th {\n",
       "        text-align: right;\n",
       "    }\n",
       "</style>\n",
       "<table border=\"1\" class=\"dataframe\">\n",
       "  <thead>\n",
       "    <tr style=\"text-align: right;\">\n",
       "      <th></th>\n",
       "      <th>user_id</th>\n",
       "      <th>distance</th>\n",
       "      <th>duration</th>\n",
       "      <th>date</th>\n",
       "    </tr>\n",
       "  </thead>\n",
       "  <tbody>\n",
       "    <tr>\n",
       "      <th>0</th>\n",
       "      <td>1</td>\n",
       "      <td>4409.919140</td>\n",
       "      <td>25.599769</td>\n",
       "      <td>2021-01-01</td>\n",
       "    </tr>\n",
       "    <tr>\n",
       "      <th>1</th>\n",
       "      <td>1</td>\n",
       "      <td>2617.592153</td>\n",
       "      <td>15.816871</td>\n",
       "      <td>2021-01-18</td>\n",
       "    </tr>\n",
       "    <tr>\n",
       "      <th>2</th>\n",
       "      <td>1</td>\n",
       "      <td>754.159807</td>\n",
       "      <td>6.232113</td>\n",
       "      <td>2021-04-20</td>\n",
       "    </tr>\n",
       "    <tr>\n",
       "      <th>3</th>\n",
       "      <td>1</td>\n",
       "      <td>2694.783254</td>\n",
       "      <td>18.511000</td>\n",
       "      <td>2021-08-11</td>\n",
       "    </tr>\n",
       "    <tr>\n",
       "      <th>4</th>\n",
       "      <td>1</td>\n",
       "      <td>4028.687306</td>\n",
       "      <td>26.265803</td>\n",
       "      <td>2021-08-28</td>\n",
       "    </tr>\n",
       "    <tr>\n",
       "      <th>5</th>\n",
       "      <td>1</td>\n",
       "      <td>2770.890808</td>\n",
       "      <td>16.650138</td>\n",
       "      <td>2021-10-09</td>\n",
       "    </tr>\n",
       "    <tr>\n",
       "      <th>6</th>\n",
       "      <td>1</td>\n",
       "      <td>3039.020292</td>\n",
       "      <td>14.927879</td>\n",
       "      <td>2021-10-19</td>\n",
       "    </tr>\n",
       "    <tr>\n",
       "      <th>7</th>\n",
       "      <td>1</td>\n",
       "      <td>2842.118050</td>\n",
       "      <td>23.117468</td>\n",
       "      <td>2021-11-06</td>\n",
       "    </tr>\n",
       "    <tr>\n",
       "      <th>8</th>\n",
       "      <td>1</td>\n",
       "      <td>3412.690668</td>\n",
       "      <td>15.238072</td>\n",
       "      <td>2021-11-14</td>\n",
       "    </tr>\n",
       "    <tr>\n",
       "      <th>9</th>\n",
       "      <td>1</td>\n",
       "      <td>748.690645</td>\n",
       "      <td>15.041884</td>\n",
       "      <td>2021-11-22</td>\n",
       "    </tr>\n",
       "    <tr>\n",
       "      <th>10</th>\n",
       "      <td>1</td>\n",
       "      <td>4031.020195</td>\n",
       "      <td>17.674448</td>\n",
       "      <td>2021-12-14</td>\n",
       "    </tr>\n",
       "    <tr>\n",
       "      <th>11</th>\n",
       "      <td>1</td>\n",
       "      <td>2720.609748</td>\n",
       "      <td>9.529463</td>\n",
       "      <td>2021-12-22</td>\n",
       "    </tr>\n",
       "    <tr>\n",
       "      <th>12</th>\n",
       "      <td>2</td>\n",
       "      <td>3105.086678</td>\n",
       "      <td>24.307514</td>\n",
       "      <td>2021-03-15</td>\n",
       "    </tr>\n",
       "    <tr>\n",
       "      <th>13</th>\n",
       "      <td>2</td>\n",
       "      <td>3053.519401</td>\n",
       "      <td>11.543256</td>\n",
       "      <td>2021-03-18</td>\n",
       "    </tr>\n",
       "    <tr>\n",
       "      <th>14</th>\n",
       "      <td>2</td>\n",
       "      <td>4029.116927</td>\n",
       "      <td>25.109188</td>\n",
       "      <td>2021-03-23</td>\n",
       "    </tr>\n",
       "  </tbody>\n",
       "</table>\n",
       "</div>"
      ],
      "text/plain": [
       "    user_id     distance   duration        date\n",
       "0         1  4409.919140  25.599769  2021-01-01\n",
       "1         1  2617.592153  15.816871  2021-01-18\n",
       "2         1   754.159807   6.232113  2021-04-20\n",
       "3         1  2694.783254  18.511000  2021-08-11\n",
       "4         1  4028.687306  26.265803  2021-08-28\n",
       "5         1  2770.890808  16.650138  2021-10-09\n",
       "6         1  3039.020292  14.927879  2021-10-19\n",
       "7         1  2842.118050  23.117468  2021-11-06\n",
       "8         1  3412.690668  15.238072  2021-11-14\n",
       "9         1   748.690645  15.041884  2021-11-22\n",
       "10        1  4031.020195  17.674448  2021-12-14\n",
       "11        1  2720.609748   9.529463  2021-12-22\n",
       "12        2  3105.086678  24.307514  2021-03-15\n",
       "13        2  3053.519401  11.543256  2021-03-18\n",
       "14        2  4029.116927  25.109188  2021-03-23"
      ]
     },
     "execution_count": 6,
     "metadata": {},
     "output_type": "execute_result"
    }
   ],
   "source": [
    "rides_data.head(15)"
   ]
  },
  {
   "cell_type": "code",
   "execution_count": 7,
   "id": "4f26bf7c",
   "metadata": {},
   "outputs": [
    {
     "name": "stdout",
     "output_type": "stream",
     "text": [
      "Размер датафрейма\n",
      "Строки: 18068\n",
      "Столбцы: 4\n"
     ]
    }
   ],
   "source": [
    "rides_shape = rides_data.shape \n",
    "\n",
    "print('Размер датафрейма')\n",
    "print('Строки:', rides_shape[0]) \n",
    "print('Столбцы:', rides_shape[1])"
   ]
  },
  {
   "cell_type": "markdown",
   "id": "560f0609",
   "metadata": {},
   "source": [
    "#### Таблица с подписками"
   ]
  },
  {
   "cell_type": "code",
   "execution_count": 8,
   "id": "2e98231f",
   "metadata": {},
   "outputs": [
    {
     "name": "stdout",
     "output_type": "stream",
     "text": [
      "<class 'pandas.core.frame.DataFrame'>\n",
      "RangeIndex: 2 entries, 0 to 1\n",
      "Data columns (total 4 columns):\n",
      " #   Column             Non-Null Count  Dtype \n",
      "---  ------             --------------  ----- \n",
      " 0   subscription_type  2 non-null      object\n",
      " 1   minute_price       2 non-null      int64 \n",
      " 2   start_ride_price   2 non-null      int64 \n",
      " 3   subscription_fee   2 non-null      int64 \n",
      "dtypes: int64(3), object(1)\n",
      "memory usage: 196.0+ bytes\n"
     ]
    }
   ],
   "source": [
    "try:\n",
    "    subs_data = pd.read_csv('/datasets/subscriptions_go.csv')\n",
    "except:\n",
    "    subs_data = pd.read_csv('subscriptions_go.csv')\n",
    "\n",
    "subs_data.info()"
   ]
  },
  {
   "cell_type": "code",
   "execution_count": 9,
   "id": "eff9f206",
   "metadata": {},
   "outputs": [
    {
     "data": {
      "text/html": [
       "<div>\n",
       "<style scoped>\n",
       "    .dataframe tbody tr th:only-of-type {\n",
       "        vertical-align: middle;\n",
       "    }\n",
       "\n",
       "    .dataframe tbody tr th {\n",
       "        vertical-align: top;\n",
       "    }\n",
       "\n",
       "    .dataframe thead th {\n",
       "        text-align: right;\n",
       "    }\n",
       "</style>\n",
       "<table border=\"1\" class=\"dataframe\">\n",
       "  <thead>\n",
       "    <tr style=\"text-align: right;\">\n",
       "      <th></th>\n",
       "      <th>subscription_type</th>\n",
       "      <th>minute_price</th>\n",
       "      <th>start_ride_price</th>\n",
       "      <th>subscription_fee</th>\n",
       "    </tr>\n",
       "  </thead>\n",
       "  <tbody>\n",
       "    <tr>\n",
       "      <th>0</th>\n",
       "      <td>free</td>\n",
       "      <td>8</td>\n",
       "      <td>50</td>\n",
       "      <td>0</td>\n",
       "    </tr>\n",
       "    <tr>\n",
       "      <th>1</th>\n",
       "      <td>ultra</td>\n",
       "      <td>6</td>\n",
       "      <td>0</td>\n",
       "      <td>199</td>\n",
       "    </tr>\n",
       "  </tbody>\n",
       "</table>\n",
       "</div>"
      ],
      "text/plain": [
       "  subscription_type  minute_price  start_ride_price  subscription_fee\n",
       "0              free             8                50                 0\n",
       "1             ultra             6                 0               199"
      ]
     },
     "execution_count": 9,
     "metadata": {},
     "output_type": "execute_result"
    }
   ],
   "source": [
    "subs_data.head()"
   ]
  },
  {
   "cell_type": "code",
   "execution_count": 10,
   "id": "f032f87e",
   "metadata": {},
   "outputs": [
    {
     "name": "stdout",
     "output_type": "stream",
     "text": [
      "Размер датафрейма\n",
      "Строки: 2\n",
      "Столбцы: 4\n"
     ]
    }
   ],
   "source": [
    "subs_shape = subs_data.shape \n",
    "\n",
    "print('Размер датафрейма')\n",
    "print('Строки:', subs_shape[0]) \n",
    "print('Столбцы:', subs_shape[1])"
   ]
  },
  {
   "cell_type": "markdown",
   "id": "21914577",
   "metadata": {},
   "source": [
    "Перед нами три датафрейма с информацией о пользователе, его возрасте и городе проживания, с дистанцией, длительностью и датой поездки, с типом подписки, со стоимостью начала поездки и стоимостью ежемесячного платежа.\n",
    "\n",
    "В датафрейме `users_data` 5 столбцов и 1565 строк без пропусков.\n",
    "В `rides_data` 4 столбца и 18068 строк без пропусков. \n",
    "В датафрейме `subs_data` 4 столбца и 2 строки без пропусков. \n",
    "\n",
    "Все названия столбцов соответствуют \"змеиному_стилю\". \n",
    "\n",
    "Данные признаны полными и достаточными для исследования."
   ]
  },
  {
   "cell_type": "markdown",
   "id": "e95ebca7",
   "metadata": {},
   "source": [
    "## Шаг 2. Предобработка данных"
   ]
  },
  {
   "cell_type": "markdown",
   "id": "9b5f639f",
   "metadata": {},
   "source": [
    "#### Проверим датафреймы на пропуски"
   ]
  },
  {
   "cell_type": "code",
   "execution_count": 11,
   "id": "64b2fc66",
   "metadata": {},
   "outputs": [
    {
     "data": {
      "text/plain": [
       "user_id              0\n",
       "name                 0\n",
       "age                  0\n",
       "city                 0\n",
       "subscription_type    0\n",
       "dtype: int64"
      ]
     },
     "execution_count": 11,
     "metadata": {},
     "output_type": "execute_result"
    }
   ],
   "source": [
    "users_data.isna().sum()"
   ]
  },
  {
   "cell_type": "code",
   "execution_count": 12,
   "id": "c7b95e04",
   "metadata": {},
   "outputs": [
    {
     "data": {
      "text/plain": [
       "user_id     0\n",
       "distance    0\n",
       "duration    0\n",
       "date        0\n",
       "dtype: int64"
      ]
     },
     "execution_count": 12,
     "metadata": {},
     "output_type": "execute_result"
    }
   ],
   "source": [
    "rides_data.isna().sum()"
   ]
  },
  {
   "cell_type": "code",
   "execution_count": 13,
   "id": "fd2de674",
   "metadata": {},
   "outputs": [
    {
     "data": {
      "text/plain": [
       "subscription_type    0\n",
       "minute_price         0\n",
       "start_ride_price     0\n",
       "subscription_fee     0\n",
       "dtype: int64"
      ]
     },
     "execution_count": 13,
     "metadata": {},
     "output_type": "execute_result"
    }
   ],
   "source": [
    "subs_data.isna().sum()"
   ]
  },
  {
   "cell_type": "markdown",
   "id": "eb6024ee",
   "metadata": {},
   "source": [
    "#### Проверим, есть ли дубликаты"
   ]
  },
  {
   "cell_type": "code",
   "execution_count": 14,
   "id": "063a126e",
   "metadata": {},
   "outputs": [
    {
     "data": {
      "text/plain": [
       "31"
      ]
     },
     "execution_count": 14,
     "metadata": {},
     "output_type": "execute_result"
    }
   ],
   "source": [
    "users_data['user_id'].duplicated().sum()"
   ]
  },
  {
   "cell_type": "code",
   "execution_count": 15,
   "id": "1aafc1da",
   "metadata": {},
   "outputs": [],
   "source": [
    "users_data.drop_duplicates(inplace=True)"
   ]
  },
  {
   "cell_type": "code",
   "execution_count": 16,
   "id": "8a9c65aa",
   "metadata": {},
   "outputs": [
    {
     "data": {
      "text/plain": [
       "0"
      ]
     },
     "execution_count": 16,
     "metadata": {},
     "output_type": "execute_result"
    }
   ],
   "source": [
    "users_data['user_id'].duplicated().sum()"
   ]
  },
  {
   "cell_type": "code",
   "execution_count": 17,
   "id": "cad78346",
   "metadata": {},
   "outputs": [
    {
     "data": {
      "text/plain": [
       "0"
      ]
     },
     "execution_count": 17,
     "metadata": {},
     "output_type": "execute_result"
    }
   ],
   "source": [
    "rides_data.duplicated().sum()"
   ]
  },
  {
   "cell_type": "markdown",
   "id": "68cde31c",
   "metadata": {},
   "source": [
    "#### Посмотрим на уникальные значения"
   ]
  },
  {
   "cell_type": "code",
   "execution_count": 18,
   "id": "70e4bb9f",
   "metadata": {},
   "outputs": [
    {
     "name": "stdout",
     "output_type": "stream",
     "text": [
      "Уникальные названия городов: ['Тюмень' 'Омск' 'Москва' 'Ростов-на-Дону' 'Краснодар' 'Пятигорск'\n",
      " 'Екатеринбург' 'Сочи']\n",
      "Количество городов: 8\n"
     ]
    }
   ],
   "source": [
    "print('Уникальные названия городов:', users_data['city'].unique())\n",
    "print('Количество городов:', len(users_data['city'].unique()))"
   ]
  },
  {
   "cell_type": "code",
   "execution_count": 19,
   "id": "04850e16",
   "metadata": {},
   "outputs": [
    {
     "name": "stdout",
     "output_type": "stream",
     "text": [
      "1534 уникальных пользовательских идентификаторов\n"
     ]
    }
   ],
   "source": [
    "print(len(rides_data['user_id'].unique()), 'уникальных пользовательских идентификаторов')"
   ]
  },
  {
   "cell_type": "code",
   "execution_count": 20,
   "id": "451f2b3e",
   "metadata": {},
   "outputs": [
    {
     "name": "stdout",
     "output_type": "stream",
     "text": [
      "Доступные подписки: ['ultra' 'free']\n"
     ]
    }
   ],
   "source": [
    "print('Доступные подписки:', users_data['subscription_type'].unique())"
   ]
  },
  {
   "cell_type": "markdown",
   "id": "a48b05eb",
   "metadata": {},
   "source": [
    "#### Поменяем типы данных"
   ]
  },
  {
   "cell_type": "markdown",
   "id": "b708bf05",
   "metadata": {},
   "source": [
    "Поменяем тип `subscription_type` на `bool` в двух датафреймах"
   ]
  },
  {
   "cell_type": "code",
   "execution_count": 21,
   "id": "528c1deb",
   "metadata": {},
   "outputs": [
    {
     "data": {
      "text/plain": [
       "0    True\n",
       "1    True\n",
       "2    True\n",
       "3    True\n",
       "4    True\n",
       "Name: subscription_type, dtype: bool"
      ]
     },
     "execution_count": 21,
     "metadata": {},
     "output_type": "execute_result"
    }
   ],
   "source": [
    "users_data.loc[users_data['subscription_type'] == 'ultra', 'subscription_type'] = True \n",
    "users_data.loc[users_data['subscription_type'] == 'free', 'subscription_type'] = False \n",
    "users_data['subscription_type'] = users_data['subscription_type'].astype('bool')\n",
    "users_data['subscription_type'].head()"
   ]
  },
  {
   "cell_type": "code",
   "execution_count": 22,
   "id": "64eb2316",
   "metadata": {},
   "outputs": [
    {
     "data": {
      "text/plain": [
       "0    False\n",
       "1     True\n",
       "Name: subscription_type, dtype: bool"
      ]
     },
     "execution_count": 22,
     "metadata": {},
     "output_type": "execute_result"
    }
   ],
   "source": [
    "subs_data.loc[subs_data['subscription_type'] == 'ultra', 'subscription_type'] = True \n",
    "subs_data.loc[subs_data['subscription_type'] == 'free', 'subscription_type'] = False\n",
    "subs_data['subscription_type'] = subs_data['subscription_type'].astype('bool')\n",
    "subs_data['subscription_type'].head()"
   ]
  },
  {
   "cell_type": "markdown",
   "id": "612ccb64",
   "metadata": {},
   "source": [
    "Переведем столбец `date` в нужный формат времени"
   ]
  },
  {
   "cell_type": "code",
   "execution_count": 23,
   "id": "fb7a58ba",
   "metadata": {},
   "outputs": [
    {
     "data": {
      "text/plain": [
       "0   2021-01-01\n",
       "1   2021-01-18\n",
       "2   2021-04-20\n",
       "3   2021-08-11\n",
       "4   2021-08-28\n",
       "5   2021-10-09\n",
       "6   2021-10-19\n",
       "7   2021-11-06\n",
       "8   2021-11-14\n",
       "9   2021-11-22\n",
       "Name: date, dtype: datetime64[ns]"
      ]
     },
     "execution_count": 23,
     "metadata": {},
     "output_type": "execute_result"
    }
   ],
   "source": [
    "rides_data['date'] = pd.to_datetime(rides_data['date'], format='%Y-%m-%d')\n",
    "rides_data['date'].head(10)"
   ]
  },
  {
   "cell_type": "markdown",
   "id": "f9ab66e7",
   "metadata": {},
   "source": [
    "#### Создадим новый столбец "
   ]
  },
  {
   "cell_type": "markdown",
   "id": "50054dba",
   "metadata": {},
   "source": [
    "Сначала проверим данные за какой период нам представлены"
   ]
  },
  {
   "cell_type": "code",
   "execution_count": 24,
   "id": "bb36ad94",
   "metadata": {},
   "outputs": [
    {
     "name": "stdout",
     "output_type": "stream",
     "text": [
      "Данные в датафрейме представлены за период с 2021-01-01 00:00:00 по 2021-12-30 00:00:00.\n"
     ]
    }
   ],
   "source": [
    "print(f\"Данные в датафрейме представлены за период с {rides_data['date'].min()} по {rides_data['date'].max()}.\")"
   ]
  },
  {
   "cell_type": "markdown",
   "id": "9d9ea895",
   "metadata": {},
   "source": [
    "Выведем номер месяца на основе столбца `date`"
   ]
  },
  {
   "cell_type": "code",
   "execution_count": 25,
   "id": "5323dca7",
   "metadata": {},
   "outputs": [
    {
     "data": {
      "text/plain": [
       "count    18068.000000\n",
       "mean         6.486772\n",
       "std          3.437410\n",
       "min          1.000000\n",
       "25%          4.000000\n",
       "50%          6.000000\n",
       "75%          9.000000\n",
       "max         12.000000\n",
       "Name: month, dtype: float64"
      ]
     },
     "execution_count": 25,
     "metadata": {},
     "output_type": "execute_result"
    }
   ],
   "source": [
    "rides_data['month'] = rides_data['date'].dt.month\n",
    "rides_data['month'].describe()"
   ]
  },
  {
   "cell_type": "code",
   "execution_count": 26,
   "id": "ceaf3d7a",
   "metadata": {},
   "outputs": [
    {
     "name": "stdout",
     "output_type": "stream",
     "text": [
      "<class 'pandas.core.frame.DataFrame'>\n",
      "RangeIndex: 18068 entries, 0 to 18067\n",
      "Data columns (total 5 columns):\n",
      " #   Column    Non-Null Count  Dtype         \n",
      "---  ------    --------------  -----         \n",
      " 0   user_id   18068 non-null  int64         \n",
      " 1   distance  18068 non-null  float64       \n",
      " 2   duration  18068 non-null  float64       \n",
      " 3   date      18068 non-null  datetime64[ns]\n",
      " 4   month     18068 non-null  int32         \n",
      "dtypes: datetime64[ns](1), float64(2), int32(1), int64(1)\n",
      "memory usage: 635.3 KB\n"
     ]
    }
   ],
   "source": [
    "rides_data.info()"
   ]
  },
  {
   "cell_type": "markdown",
   "id": "5ae06c8e",
   "metadata": {},
   "source": [
    "Успешно добавили столбец `month`"
   ]
  },
  {
   "cell_type": "markdown",
   "id": "0b3db6eb",
   "metadata": {},
   "source": [
    "Была проделана работа:\n",
    " - проверили данные на пропуски и дубликаты;\n",
    " - вывели уникальные значения;\n",
    " - сменили типы данных, где надо;\n",
    " - создали столбец с номерами месяцев.\n",
    " \n",
    "Перейдем к анализу данных."
   ]
  },
  {
   "cell_type": "markdown",
   "id": "212593c7",
   "metadata": {},
   "source": [
    "## Шаг 3. Исследовательский анализ данных"
   ]
  },
  {
   "cell_type": "markdown",
   "id": "f68353a8",
   "metadata": {},
   "source": [
    "#### Частота встречаемости тех или иных городов"
   ]
  },
  {
   "cell_type": "code",
   "execution_count": 27,
   "id": "28ac9c07",
   "metadata": {},
   "outputs": [
    {
     "name": "stdout",
     "output_type": "stream",
     "text": [
      "Города и количество пользователей:\n",
      "city\n",
      "Пятигорск         219\n",
      "Екатеринбург      204\n",
      "Ростов-на-Дону    198\n",
      "Краснодар         193\n",
      "Сочи              189\n",
      "Омск              183\n",
      "Тюмень            180\n",
      "Москва            168\n",
      "Name: count, dtype: int64\n"
     ]
    }
   ],
   "source": [
    "print('Города и количество пользователей:')\n",
    "print(users_data['city'].value_counts())"
   ]
  },
  {
   "cell_type": "markdown",
   "id": "c6256b84",
   "metadata": {},
   "source": [
    "Выведем эту информацию на графике"
   ]
  },
  {
   "cell_type": "code",
   "execution_count": 75,
   "id": "3858ae24",
   "metadata": {},
   "outputs": [
    {
     "data": {
      "image/png": "[encoded data removed]",
      "text/plain": [
       "<Figure size 1000x600 with 1 Axes>"
      ]
     },
     "metadata": {},
     "output_type": "display_data"
    }
   ],
   "source": [
    "users_data['city'].value_counts().plot(kind='barh', edgecolor='black', figsize=(10, 6))\n",
    "plt.title('Распределение пользователей по городам')\n",
    "plt.xlabel('Количество пользователей')\n",
    "plt.ylabel('Название города')\n",
    "plt.show()"
   ]
  },
  {
   "cell_type": "markdown",
   "id": "b9ebfcbd",
   "metadata": {},
   "source": [
    "В первой тройке по количеству пользователей города Пятигорск, Екатеринбург и Ростов-на-Дону. На последнем месте оказалась Москва."
   ]
  },
  {
   "cell_type": "markdown",
   "id": "af59eff3",
   "metadata": {},
   "source": [
    "#### Соотношение пользователей с подпиской и без"
   ]
  },
  {
   "cell_type": "code",
   "execution_count": 29,
   "id": "ea73c270",
   "metadata": {},
   "outputs": [
    {
     "name": "stdout",
     "output_type": "stream",
     "text": [
      "Тариф и количество пользователей:\n",
      "subscription_type\n",
      "False    835\n",
      "True     699\n",
      "Name: count, dtype: int64\n"
     ]
    }
   ],
   "source": [
    "print('Тариф и количество пользователей:')\n",
    "print(users_data['subscription_type'].value_counts())"
   ]
  },
  {
   "cell_type": "code",
   "execution_count": 78,
   "id": "c63a92eb",
   "metadata": {},
   "outputs": [
    {
     "data": {
      "image/png": "[encoded data removed]",
      "text/plain": [
       "<Figure size 640x480 with 1 Axes>"
      ]
     },
     "metadata": {},
     "output_type": "display_data"
    }
   ],
   "source": [
    "colors = ['lightcoral', 'beige']\n",
    "\n",
    "(users_data.pivot_table(index='subscription_type', values='user_id', aggfunc='count') \n",
    "  .plot.pie(y='user_id', autopct='%1.1f%%', colors=colors, radius=1.8, label='')\n",
    ")\n",
    "\n",
    "plt.show()"
   ]
  },
  {
   "cell_type": "markdown",
   "id": "27c744e8",
   "metadata": {},
   "source": [
    "Больше половины пользователей пользуются бесплатной версией приложения."
   ]
  },
  {
   "cell_type": "markdown",
   "id": "bd37b8e2",
   "metadata": {},
   "source": [
    "#### Возраст пользователей"
   ]
  },
  {
   "cell_type": "code",
   "execution_count": 80,
   "id": "1fafdb6b",
   "metadata": {},
   "outputs": [
    {
     "data": {
      "image/png": "[encoded data removed]",
      "text/plain": [
       "<Figure size 1000x600 with 1 Axes>"
      ]
     },
     "metadata": {},
     "output_type": "display_data"
    }
   ],
   "source": [
    "users_data['age'].value_counts().plot(kind='barh', edgecolor='black', figsize=(10, 6))\n",
    "plt.title('Распределение пользователей по возрастным группам')\n",
    "plt.xlabel('Количество пользователей')\n",
    "plt.ylabel('Возраст')\n",
    "plt.show()"
   ]
  },
  {
   "cell_type": "code",
   "execution_count": 81,
   "id": "184beebc",
   "metadata": {},
   "outputs": [
    {
     "data": {
      "image/png": "[encoded data removed]",
      "text/plain": [
       "<Figure size 1000x600 with 1 Axes>"
      ]
     },
     "metadata": {},
     "output_type": "display_data"
    }
   ],
   "source": [
    "plt.figure(figsize=(10, 6))\n",
    "plt.hist(users_data['age'], bins = 30, edgecolor='black')\n",
    "plt.title('Распределение пользователей по возрасту')\n",
    "plt.xlabel('Возраст')\n",
    "plt.ylabel('Количество пользователей')\n",
    "plt.grid()\n",
    "plt.show()"
   ]
  },
  {
   "cell_type": "code",
   "execution_count": 85,
   "id": "c723f320",
   "metadata": {},
   "outputs": [
    {
     "data": {
      "image/png": "[encoded data removed]",
      "text/plain": [
       "<Figure size 1000x600 with 1 Axes>"
      ]
     },
     "metadata": {},
     "output_type": "display_data"
    }
   ],
   "source": [
    "plt.figure(figsize=(10, 6))\n",
    "\n",
    "sns.boxplot(x=users_data['age'], color='lightblue')\n",
    "plt.title('Возраст пользователей')\n",
    "plt.xlabel('Возвраст, лет')\n",
    "plt.xlim(12, 43)\n",
    "plt.show()"
   ]
  },
  {
   "cell_type": "markdown",
   "id": "32f8403d",
   "metadata": {},
   "source": [
    "Основные пользователи — люди от 20 до 30 лет. Максимальное количество пользователей в возрасте 25 лет, этот же возраст является медианным. У младших пользователей минимальный возраст — 12 лет, максимальный у старших — 43 года."
   ]
  },
  {
   "cell_type": "markdown",
   "id": "9826bf5a",
   "metadata": {},
   "source": [
    "#### Расстояние за одну поездку"
   ]
  },
  {
   "cell_type": "markdown",
   "id": "69cd6d69",
   "metadata": {},
   "source": [
    "Самые короткие поездки:"
   ]
  },
  {
   "cell_type": "code",
   "execution_count": 34,
   "id": "3b36f083",
   "metadata": {},
   "outputs": [
    {
     "data": {
      "text/plain": [
       "11555     0.855683\n",
       "9541      2.570787\n",
       "13690     4.329506\n",
       "8658      6.784447\n",
       "7841      7.097072\n",
       "8906     11.283615\n",
       "8324     12.233115\n",
       "13940    15.000606\n",
       "15626    15.366168\n",
       "11862    15.630873\n",
       "Name: distance, dtype: float64"
      ]
     },
     "execution_count": 34,
     "metadata": {},
     "output_type": "execute_result"
    }
   ],
   "source": [
    "rides_data['distance'].sort_values().head(10)"
   ]
  },
  {
   "cell_type": "markdown",
   "id": "5746e25b",
   "metadata": {},
   "source": [
    "Самые длинные поездки:"
   ]
  },
  {
   "cell_type": "code",
   "execution_count": 35,
   "id": "5bd28269",
   "metadata": {},
   "outputs": [
    {
     "data": {
      "text/plain": [
       "16309    7211.007745\n",
       "16484    7066.003772\n",
       "15580    6908.491343\n",
       "17171    6760.940067\n",
       "17242    6724.932981\n",
       "10341    6671.969833\n",
       "11385    6601.197575\n",
       "12086    6538.937375\n",
       "10915    6535.386520\n",
       "11319    6503.600402\n",
       "Name: distance, dtype: float64"
      ]
     },
     "execution_count": 35,
     "metadata": {},
     "output_type": "execute_result"
    }
   ],
   "source": [
    "rides_data['distance'].sort_values(ascending=False).head(10)"
   ]
  },
  {
   "cell_type": "markdown",
   "id": "edc2360c",
   "metadata": {},
   "source": [
    "Посмотрим, как распределены значения в столбце"
   ]
  },
  {
   "cell_type": "code",
   "execution_count": 36,
   "id": "4618fed9",
   "metadata": {},
   "outputs": [
    {
     "data": {
      "text/plain": [
       "count    18068.000000\n",
       "mean      3070.659976\n",
       "std       1116.831209\n",
       "min          0.855683\n",
       "25%       2543.226360\n",
       "50%       3133.609994\n",
       "75%       3776.222735\n",
       "max       7211.007745\n",
       "Name: distance, dtype: float64"
      ]
     },
     "execution_count": 36,
     "metadata": {},
     "output_type": "execute_result"
    }
   ],
   "source": [
    "rides_data['distance'].describe()"
   ]
  },
  {
   "cell_type": "code",
   "execution_count": 88,
   "id": "2933ea16",
   "metadata": {},
   "outputs": [
    {
     "data": {
      "image/png": "[encoded data removed]",
      "text/plain": [
       "<Figure size 1000x600 with 1 Axes>"
      ]
     },
     "metadata": {},
     "output_type": "display_data"
    }
   ],
   "source": [
    "plt.figure(figsize=(10, 6))\n",
    "\n",
    "plt.hist(rides_data['distance'], bins=30, edgecolor='black')\n",
    "plt.title('Расстояние, которое пользователь преодолел за одну поездку')\n",
    "plt.xlabel('Расстояние, м')\n",
    "plt.ylabel('Количество поездок')\n",
    "plt.grid(False)\n",
    "plt.show()"
   ]
  },
  {
   "cell_type": "code",
   "execution_count": 90,
   "id": "64216070",
   "metadata": {},
   "outputs": [
    {
     "data": {
      "image/png": "[encoded data removed]",
      "text/plain": [
       "<Figure size 1000x600 with 1 Axes>"
      ]
     },
     "metadata": {},
     "output_type": "display_data"
    }
   ],
   "source": [
    "plt.figure(figsize=(10, 6))\n",
    "\n",
    "sns.boxplot(x=rides_data['distance'], color='lightblue')\n",
    "plt.title('Расстояние, преодоленное на одну поездку')\n",
    "plt.xlabel('Расстояние, м')\n",
    "plt.xlim(0, 6000)\n",
    "plt.show()"
   ]
  },
  {
   "cell_type": "markdown",
   "id": "54e78a0a",
   "metadata": {},
   "source": [
    "Основная часть поездок занимает от 2500 до 3800 метров. Имеем два пика. Малый пик около 700 метров, большой пик — мединное значение в 3133 метров. Всего за поездку преодолевают от 1 до 7211 метров."
   ]
  },
  {
   "cell_type": "markdown",
   "id": "1fec9c97",
   "metadata": {},
   "source": [
    "#### Продолжительность поездки"
   ]
  },
  {
   "cell_type": "code",
   "execution_count": 91,
   "id": "7aea6db4",
   "metadata": {},
   "outputs": [
    {
     "data": {
      "image/png": "[encoded data removed]",
      "text/plain": [
       "<Figure size 1000x600 with 1 Axes>"
      ]
     },
     "metadata": {},
     "output_type": "display_data"
    }
   ],
   "source": [
    "plt.figure(figsize=(10, 6))\n",
    "\n",
    "plt.hist(rides_data['duration'], bins=30, edgecolor='black')\n",
    "plt.title('Продолжительность поездки')\n",
    "plt.xlabel('Длительность, минуты')\n",
    "plt.ylabel('Количество поездок')\n",
    "plt.grid(False)\n",
    "plt.show()"
   ]
  },
  {
   "cell_type": "code",
   "execution_count": 92,
   "id": "fdc204d1",
   "metadata": {},
   "outputs": [
    {
     "data": {
      "image/png": "[encoded data removed]",
      "text/plain": [
       "<Figure size 1000x600 with 1 Axes>"
      ]
     },
     "metadata": {},
     "output_type": "display_data"
    }
   ],
   "source": [
    "plt.figure(figsize=(10, 6))\n",
    "\n",
    "sns.boxplot(x=rides_data['duration'], color='lightblue')\n",
    "plt.title('Продолжительность поездки')\n",
    "plt.xlabel('Длительность, минуты')\n",
    "plt.xlim(0, 40)\n",
    "plt.show()"
   ]
  },
  {
   "cell_type": "code",
   "execution_count": 41,
   "id": "3fd95bc6",
   "metadata": {},
   "outputs": [
    {
     "data": {
      "text/plain": [
       "count    18068.000000\n",
       "mean        17.805011\n",
       "std          6.091051\n",
       "min          0.500000\n",
       "25%         13.597563\n",
       "50%         17.678395\n",
       "75%         21.724800\n",
       "max         40.823963\n",
       "Name: duration, dtype: float64"
      ]
     },
     "execution_count": 41,
     "metadata": {},
     "output_type": "execute_result"
    }
   ],
   "source": [
    "rides_data['duration'].describe()"
   ]
  },
  {
   "cell_type": "markdown",
   "id": "3a37bc74",
   "metadata": {},
   "source": [
    "Продолжительность поездок нормально распределена от 0 до 41 минуты. Продолжительность в 17 минут является как наиболее распространенной так и медианным значением.\n",
    "\n",
    "Выше мы разбирали расстояние одной поездки, в которой минимальным значением было 0.85 м., что вполне объясняет поездки в одну минуту."
   ]
  },
  {
   "cell_type": "markdown",
   "id": "26f505f9",
   "metadata": {},
   "source": [
    "#### Промежуточный вывод"
   ]
  },
  {
   "cell_type": "markdown",
   "id": "eebc373e",
   "metadata": {},
   "source": [
    "Сервисом аренды самокатов пользуются люди в возрасте от 12 до 43 лет. Больше всего пользователей в возрасте 25 лет, причем этот возраст является их медианным значением.\n",
    "\n",
    "Большинство пользователей выбирают тариф `Free`. В их числе 835 человек, что составляет 54.4% от общего числа пользователей, на 136 человек больше, чем пользователей с тарифом `Ultra`.\n",
    "\n",
    "Максимальное количество в 219 поездок совершено в Пятигорске. Минимальное количество в 168 поездок совершено в Москве.\n",
    "\n",
    "Расстояние, преодолеваемое за одну поездку, варьируется от 1 до 7211 метров. Медианное значение этого показателя составляет 3133 метра. Наблюдается два пика — более низкий в районе 700 метров и более высокий в районе 3133 метров. Между пиками значения распределены нормально.\n",
    "\n",
    "Продолжительность поездок также имеет нормальное распределение в диапазоне от 0 до 41 минуты. Средняя продолжительность поездки составляет от 13 до 22 минут. 17 минут — как самая распространенная, так и медианная продолжительность поездки."
   ]
  },
  {
   "cell_type": "markdown",
   "id": "4ef51331",
   "metadata": {},
   "source": [
    "## Шаг 4. Объединение данных"
   ]
  },
  {
   "cell_type": "markdown",
   "id": "86f7ac47",
   "metadata": {},
   "source": [
    "Прежде чем объединить датафремы, проверим их размеры"
   ]
  },
  {
   "cell_type": "code",
   "execution_count": 42,
   "id": "d17be987",
   "metadata": {},
   "outputs": [
    {
     "name": "stdout",
     "output_type": "stream",
     "text": [
      "Размер датафрейма users_shape\n",
      "Строки: 1565\n",
      "Столбцы: 5\n"
     ]
    }
   ],
   "source": [
    "print('Размер датафрейма users_shape')\n",
    "print('Строки:', users_shape[0]) \n",
    "print('Столбцы:', users_shape[1])"
   ]
  },
  {
   "cell_type": "code",
   "execution_count": 43,
   "id": "2cbbdb69",
   "metadata": {},
   "outputs": [
    {
     "name": "stdout",
     "output_type": "stream",
     "text": [
      "Размер датафрейма rides_shape\n",
      "Строки: 18068\n",
      "Столбцы: 4\n"
     ]
    }
   ],
   "source": [
    "print('Размер датафрейма rides_shape')\n",
    "print('Строки:', rides_shape[0]) \n",
    "print('Столбцы:', rides_shape[1])"
   ]
  },
  {
   "cell_type": "code",
   "execution_count": 44,
   "id": "8e694c85",
   "metadata": {},
   "outputs": [
    {
     "name": "stdout",
     "output_type": "stream",
     "text": [
      "Размер датафрейма subs_shape\n",
      "Строки: 2\n",
      "Столбцы: 4\n"
     ]
    }
   ],
   "source": [
    "print('Размер датафрейма subs_shape')\n",
    "print('Строки:', subs_shape[0]) \n",
    "print('Столбцы:', subs_shape[1])"
   ]
  },
  {
   "cell_type": "markdown",
   "id": "c73dde4c",
   "metadata": {},
   "source": [
    "Так как два столбца повторяются дважды (в двух датафреймах), в итоговой таблице должно получится 11 столбцов + `month`"
   ]
  },
  {
   "cell_type": "markdown",
   "id": "708f3d96",
   "metadata": {},
   "source": [
    "#### Объединим три датафрейма"
   ]
  },
  {
   "cell_type": "code",
   "execution_count": 45,
   "id": "a71f4833",
   "metadata": {},
   "outputs": [],
   "source": [
    "data = users_data.merge(rides_data, on='user_id').merge(subs_data, on='subscription_type')"
   ]
  },
  {
   "cell_type": "code",
   "execution_count": 93,
   "id": "383b1566",
   "metadata": {},
   "outputs": [
    {
     "data": {
      "text/html": [
       "<div>\n",
       "<style scoped>\n",
       "    .dataframe tbody tr th:only-of-type {\n",
       "        vertical-align: middle;\n",
       "    }\n",
       "\n",
       "    .dataframe tbody tr th {\n",
       "        vertical-align: top;\n",
       "    }\n",
       "\n",
       "    .dataframe thead th {\n",
       "        text-align: right;\n",
       "    }\n",
       "</style>\n",
       "<table border=\"1\" class=\"dataframe\">\n",
       "  <thead>\n",
       "    <tr style=\"text-align: right;\">\n",
       "      <th></th>\n",
       "      <th>user_id</th>\n",
       "      <th>name</th>\n",
       "      <th>age</th>\n",
       "      <th>city</th>\n",
       "      <th>subscription_type</th>\n",
       "      <th>distance</th>\n",
       "      <th>duration</th>\n",
       "      <th>date</th>\n",
       "      <th>month</th>\n",
       "      <th>minute_price</th>\n",
       "      <th>start_ride_price</th>\n",
       "      <th>subscription_fee</th>\n",
       "    </tr>\n",
       "  </thead>\n",
       "  <tbody>\n",
       "    <tr>\n",
       "      <th>0</th>\n",
       "      <td>1</td>\n",
       "      <td>Кира</td>\n",
       "      <td>22</td>\n",
       "      <td>Тюмень</td>\n",
       "      <td>True</td>\n",
       "      <td>4409.919140</td>\n",
       "      <td>26.0</td>\n",
       "      <td>2021-01-01</td>\n",
       "      <td>1</td>\n",
       "      <td>6</td>\n",
       "      <td>0</td>\n",
       "      <td>199</td>\n",
       "    </tr>\n",
       "    <tr>\n",
       "      <th>1</th>\n",
       "      <td>1</td>\n",
       "      <td>Кира</td>\n",
       "      <td>22</td>\n",
       "      <td>Тюмень</td>\n",
       "      <td>True</td>\n",
       "      <td>2617.592153</td>\n",
       "      <td>16.0</td>\n",
       "      <td>2021-01-18</td>\n",
       "      <td>1</td>\n",
       "      <td>6</td>\n",
       "      <td>0</td>\n",
       "      <td>199</td>\n",
       "    </tr>\n",
       "    <tr>\n",
       "      <th>2</th>\n",
       "      <td>1</td>\n",
       "      <td>Кира</td>\n",
       "      <td>22</td>\n",
       "      <td>Тюмень</td>\n",
       "      <td>True</td>\n",
       "      <td>754.159807</td>\n",
       "      <td>7.0</td>\n",
       "      <td>2021-04-20</td>\n",
       "      <td>4</td>\n",
       "      <td>6</td>\n",
       "      <td>0</td>\n",
       "      <td>199</td>\n",
       "    </tr>\n",
       "    <tr>\n",
       "      <th>3</th>\n",
       "      <td>1</td>\n",
       "      <td>Кира</td>\n",
       "      <td>22</td>\n",
       "      <td>Тюмень</td>\n",
       "      <td>True</td>\n",
       "      <td>2694.783254</td>\n",
       "      <td>19.0</td>\n",
       "      <td>2021-08-11</td>\n",
       "      <td>8</td>\n",
       "      <td>6</td>\n",
       "      <td>0</td>\n",
       "      <td>199</td>\n",
       "    </tr>\n",
       "    <tr>\n",
       "      <th>4</th>\n",
       "      <td>1</td>\n",
       "      <td>Кира</td>\n",
       "      <td>22</td>\n",
       "      <td>Тюмень</td>\n",
       "      <td>True</td>\n",
       "      <td>4028.687306</td>\n",
       "      <td>27.0</td>\n",
       "      <td>2021-08-28</td>\n",
       "      <td>8</td>\n",
       "      <td>6</td>\n",
       "      <td>0</td>\n",
       "      <td>199</td>\n",
       "    </tr>\n",
       "    <tr>\n",
       "      <th>5</th>\n",
       "      <td>1</td>\n",
       "      <td>Кира</td>\n",
       "      <td>22</td>\n",
       "      <td>Тюмень</td>\n",
       "      <td>True</td>\n",
       "      <td>2770.890808</td>\n",
       "      <td>17.0</td>\n",
       "      <td>2021-10-09</td>\n",
       "      <td>10</td>\n",
       "      <td>6</td>\n",
       "      <td>0</td>\n",
       "      <td>199</td>\n",
       "    </tr>\n",
       "    <tr>\n",
       "      <th>6</th>\n",
       "      <td>1</td>\n",
       "      <td>Кира</td>\n",
       "      <td>22</td>\n",
       "      <td>Тюмень</td>\n",
       "      <td>True</td>\n",
       "      <td>3039.020292</td>\n",
       "      <td>15.0</td>\n",
       "      <td>2021-10-19</td>\n",
       "      <td>10</td>\n",
       "      <td>6</td>\n",
       "      <td>0</td>\n",
       "      <td>199</td>\n",
       "    </tr>\n",
       "    <tr>\n",
       "      <th>7</th>\n",
       "      <td>1</td>\n",
       "      <td>Кира</td>\n",
       "      <td>22</td>\n",
       "      <td>Тюмень</td>\n",
       "      <td>True</td>\n",
       "      <td>2842.118050</td>\n",
       "      <td>24.0</td>\n",
       "      <td>2021-11-06</td>\n",
       "      <td>11</td>\n",
       "      <td>6</td>\n",
       "      <td>0</td>\n",
       "      <td>199</td>\n",
       "    </tr>\n",
       "    <tr>\n",
       "      <th>8</th>\n",
       "      <td>1</td>\n",
       "      <td>Кира</td>\n",
       "      <td>22</td>\n",
       "      <td>Тюмень</td>\n",
       "      <td>True</td>\n",
       "      <td>3412.690668</td>\n",
       "      <td>16.0</td>\n",
       "      <td>2021-11-14</td>\n",
       "      <td>11</td>\n",
       "      <td>6</td>\n",
       "      <td>0</td>\n",
       "      <td>199</td>\n",
       "    </tr>\n",
       "    <tr>\n",
       "      <th>9</th>\n",
       "      <td>1</td>\n",
       "      <td>Кира</td>\n",
       "      <td>22</td>\n",
       "      <td>Тюмень</td>\n",
       "      <td>True</td>\n",
       "      <td>748.690645</td>\n",
       "      <td>16.0</td>\n",
       "      <td>2021-11-22</td>\n",
       "      <td>11</td>\n",
       "      <td>6</td>\n",
       "      <td>0</td>\n",
       "      <td>199</td>\n",
       "    </tr>\n",
       "    <tr>\n",
       "      <th>10</th>\n",
       "      <td>1</td>\n",
       "      <td>Кира</td>\n",
       "      <td>22</td>\n",
       "      <td>Тюмень</td>\n",
       "      <td>True</td>\n",
       "      <td>4031.020195</td>\n",
       "      <td>18.0</td>\n",
       "      <td>2021-12-14</td>\n",
       "      <td>12</td>\n",
       "      <td>6</td>\n",
       "      <td>0</td>\n",
       "      <td>199</td>\n",
       "    </tr>\n",
       "    <tr>\n",
       "      <th>11</th>\n",
       "      <td>1</td>\n",
       "      <td>Кира</td>\n",
       "      <td>22</td>\n",
       "      <td>Тюмень</td>\n",
       "      <td>True</td>\n",
       "      <td>2720.609748</td>\n",
       "      <td>10.0</td>\n",
       "      <td>2021-12-22</td>\n",
       "      <td>12</td>\n",
       "      <td>6</td>\n",
       "      <td>0</td>\n",
       "      <td>199</td>\n",
       "    </tr>\n",
       "    <tr>\n",
       "      <th>12</th>\n",
       "      <td>2</td>\n",
       "      <td>Станислав</td>\n",
       "      <td>31</td>\n",
       "      <td>Омск</td>\n",
       "      <td>True</td>\n",
       "      <td>3105.086678</td>\n",
       "      <td>25.0</td>\n",
       "      <td>2021-03-15</td>\n",
       "      <td>3</td>\n",
       "      <td>6</td>\n",
       "      <td>0</td>\n",
       "      <td>199</td>\n",
       "    </tr>\n",
       "    <tr>\n",
       "      <th>13</th>\n",
       "      <td>2</td>\n",
       "      <td>Станислав</td>\n",
       "      <td>31</td>\n",
       "      <td>Омск</td>\n",
       "      <td>True</td>\n",
       "      <td>3053.519401</td>\n",
       "      <td>12.0</td>\n",
       "      <td>2021-03-18</td>\n",
       "      <td>3</td>\n",
       "      <td>6</td>\n",
       "      <td>0</td>\n",
       "      <td>199</td>\n",
       "    </tr>\n",
       "    <tr>\n",
       "      <th>14</th>\n",
       "      <td>2</td>\n",
       "      <td>Станислав</td>\n",
       "      <td>31</td>\n",
       "      <td>Омск</td>\n",
       "      <td>True</td>\n",
       "      <td>4029.116927</td>\n",
       "      <td>26.0</td>\n",
       "      <td>2021-03-23</td>\n",
       "      <td>3</td>\n",
       "      <td>6</td>\n",
       "      <td>0</td>\n",
       "      <td>199</td>\n",
       "    </tr>\n",
       "    <tr>\n",
       "      <th>15</th>\n",
       "      <td>2</td>\n",
       "      <td>Станислав</td>\n",
       "      <td>31</td>\n",
       "      <td>Омск</td>\n",
       "      <td>True</td>\n",
       "      <td>2805.786329</td>\n",
       "      <td>21.0</td>\n",
       "      <td>2021-04-08</td>\n",
       "      <td>4</td>\n",
       "      <td>6</td>\n",
       "      <td>0</td>\n",
       "      <td>199</td>\n",
       "    </tr>\n",
       "    <tr>\n",
       "      <th>16</th>\n",
       "      <td>2</td>\n",
       "      <td>Станислав</td>\n",
       "      <td>31</td>\n",
       "      <td>Омск</td>\n",
       "      <td>True</td>\n",
       "      <td>3358.595495</td>\n",
       "      <td>19.0</td>\n",
       "      <td>2021-04-13</td>\n",
       "      <td>4</td>\n",
       "      <td>6</td>\n",
       "      <td>0</td>\n",
       "      <td>199</td>\n",
       "    </tr>\n",
       "    <tr>\n",
       "      <th>17</th>\n",
       "      <td>2</td>\n",
       "      <td>Станислав</td>\n",
       "      <td>31</td>\n",
       "      <td>Омск</td>\n",
       "      <td>True</td>\n",
       "      <td>3255.338202</td>\n",
       "      <td>14.0</td>\n",
       "      <td>2021-06-20</td>\n",
       "      <td>6</td>\n",
       "      <td>6</td>\n",
       "      <td>0</td>\n",
       "      <td>199</td>\n",
       "    </tr>\n",
       "    <tr>\n",
       "      <th>18</th>\n",
       "      <td>2</td>\n",
       "      <td>Станислав</td>\n",
       "      <td>31</td>\n",
       "      <td>Омск</td>\n",
       "      <td>True</td>\n",
       "      <td>3942.817648</td>\n",
       "      <td>21.0</td>\n",
       "      <td>2021-07-02</td>\n",
       "      <td>7</td>\n",
       "      <td>6</td>\n",
       "      <td>0</td>\n",
       "      <td>199</td>\n",
       "    </tr>\n",
       "    <tr>\n",
       "      <th>19</th>\n",
       "      <td>2</td>\n",
       "      <td>Станислав</td>\n",
       "      <td>31</td>\n",
       "      <td>Омск</td>\n",
       "      <td>True</td>\n",
       "      <td>2837.905316</td>\n",
       "      <td>27.0</td>\n",
       "      <td>2021-07-18</td>\n",
       "      <td>7</td>\n",
       "      <td>6</td>\n",
       "      <td>0</td>\n",
       "      <td>199</td>\n",
       "    </tr>\n",
       "  </tbody>\n",
       "</table>\n",
       "</div>"
      ],
      "text/plain": [
       "    user_id       name  age    city  subscription_type     distance  duration  \\\n",
       "0         1       Кира   22  Тюмень               True  4409.919140      26.0   \n",
       "1         1       Кира   22  Тюмень               True  2617.592153      16.0   \n",
       "2         1       Кира   22  Тюмень               True   754.159807       7.0   \n",
       "3         1       Кира   22  Тюмень               True  2694.783254      19.0   \n",
       "4         1       Кира   22  Тюмень               True  4028.687306      27.0   \n",
       "5         1       Кира   22  Тюмень               True  2770.890808      17.0   \n",
       "6         1       Кира   22  Тюмень               True  3039.020292      15.0   \n",
       "7         1       Кира   22  Тюмень               True  2842.118050      24.0   \n",
       "8         1       Кира   22  Тюмень               True  3412.690668      16.0   \n",
       "9         1       Кира   22  Тюмень               True   748.690645      16.0   \n",
       "10        1       Кира   22  Тюмень               True  4031.020195      18.0   \n",
       "11        1       Кира   22  Тюмень               True  2720.609748      10.0   \n",
       "12        2  Станислав   31    Омск               True  3105.086678      25.0   \n",
       "13        2  Станислав   31    Омск               True  3053.519401      12.0   \n",
       "14        2  Станислав   31    Омск               True  4029.116927      26.0   \n",
       "15        2  Станислав   31    Омск               True  2805.786329      21.0   \n",
       "16        2  Станислав   31    Омск               True  3358.595495      19.0   \n",
       "17        2  Станислав   31    Омск               True  3255.338202      14.0   \n",
       "18        2  Станислав   31    Омск               True  3942.817648      21.0   \n",
       "19        2  Станислав   31    Омск               True  2837.905316      27.0   \n",
       "\n",
       "         date  month  minute_price  start_ride_price  subscription_fee  \n",
       "0  2021-01-01      1             6                 0               199  \n",
       "1  2021-01-18      1             6                 0               199  \n",
       "2  2021-04-20      4             6                 0               199  \n",
       "3  2021-08-11      8             6                 0               199  \n",
       "4  2021-08-28      8             6                 0               199  \n",
       "5  2021-10-09     10             6                 0               199  \n",
       "6  2021-10-19     10             6                 0               199  \n",
       "7  2021-11-06     11             6                 0               199  \n",
       "8  2021-11-14     11             6                 0               199  \n",
       "9  2021-11-22     11             6                 0               199  \n",
       "10 2021-12-14     12             6                 0               199  \n",
       "11 2021-12-22     12             6                 0               199  \n",
       "12 2021-03-15      3             6                 0               199  \n",
       "13 2021-03-18      3             6                 0               199  \n",
       "14 2021-03-23      3             6                 0               199  \n",
       "15 2021-04-08      4             6                 0               199  \n",
       "16 2021-04-13      4             6                 0               199  \n",
       "17 2021-06-20      6             6                 0               199  \n",
       "18 2021-07-02      7             6                 0               199  \n",
       "19 2021-07-18      7             6                 0               199  "
      ]
     },
     "execution_count": 93,
     "metadata": {},
     "output_type": "execute_result"
    }
   ],
   "source": [
    "data.head(20)"
   ]
  },
  {
   "cell_type": "code",
   "execution_count": 47,
   "id": "547af14f",
   "metadata": {},
   "outputs": [
    {
     "name": "stdout",
     "output_type": "stream",
     "text": [
      "Размер объединенного датафрейма: (18068, 12)\n"
     ]
    }
   ],
   "source": [
    "print(\"Размер объединенного датафрейма:\", data.shape)"
   ]
  },
  {
   "cell_type": "markdown",
   "id": "49ec00dc",
   "metadata": {},
   "source": [
    "#### Датафрейм с пользователями без подписки"
   ]
  },
  {
   "cell_type": "code",
   "execution_count": 48,
   "id": "c8b5b4e2",
   "metadata": {},
   "outputs": [],
   "source": [
    "free_data = data.loc[data['subscription_type'] == False]"
   ]
  },
  {
   "cell_type": "code",
   "execution_count": 49,
   "id": "c2136eec",
   "metadata": {},
   "outputs": [
    {
     "data": {
      "text/html": [
       "<div>\n",
       "<style scoped>\n",
       "    .dataframe tbody tr th:only-of-type {\n",
       "        vertical-align: middle;\n",
       "    }\n",
       "\n",
       "    .dataframe tbody tr th {\n",
       "        vertical-align: top;\n",
       "    }\n",
       "\n",
       "    .dataframe thead th {\n",
       "        text-align: right;\n",
       "    }\n",
       "</style>\n",
       "<table border=\"1\" class=\"dataframe\">\n",
       "  <thead>\n",
       "    <tr style=\"text-align: right;\">\n",
       "      <th></th>\n",
       "      <th>user_id</th>\n",
       "      <th>name</th>\n",
       "      <th>age</th>\n",
       "      <th>city</th>\n",
       "      <th>subscription_type</th>\n",
       "      <th>distance</th>\n",
       "      <th>duration</th>\n",
       "      <th>date</th>\n",
       "      <th>month</th>\n",
       "      <th>minute_price</th>\n",
       "      <th>start_ride_price</th>\n",
       "      <th>subscription_fee</th>\n",
       "    </tr>\n",
       "  </thead>\n",
       "  <tbody>\n",
       "    <tr>\n",
       "      <th>6500</th>\n",
       "      <td>700</td>\n",
       "      <td>Айдар</td>\n",
       "      <td>22</td>\n",
       "      <td>Омск</td>\n",
       "      <td>False</td>\n",
       "      <td>2515.690719</td>\n",
       "      <td>14.944286</td>\n",
       "      <td>2021-01-02</td>\n",
       "      <td>1</td>\n",
       "      <td>8</td>\n",
       "      <td>50</td>\n",
       "      <td>0</td>\n",
       "    </tr>\n",
       "    <tr>\n",
       "      <th>6501</th>\n",
       "      <td>700</td>\n",
       "      <td>Айдар</td>\n",
       "      <td>22</td>\n",
       "      <td>Омск</td>\n",
       "      <td>False</td>\n",
       "      <td>846.932642</td>\n",
       "      <td>16.234663</td>\n",
       "      <td>2021-02-01</td>\n",
       "      <td>2</td>\n",
       "      <td>8</td>\n",
       "      <td>50</td>\n",
       "      <td>0</td>\n",
       "    </tr>\n",
       "    <tr>\n",
       "      <th>6502</th>\n",
       "      <td>700</td>\n",
       "      <td>Айдар</td>\n",
       "      <td>22</td>\n",
       "      <td>Омск</td>\n",
       "      <td>False</td>\n",
       "      <td>4004.434142</td>\n",
       "      <td>20.016628</td>\n",
       "      <td>2021-02-04</td>\n",
       "      <td>2</td>\n",
       "      <td>8</td>\n",
       "      <td>50</td>\n",
       "      <td>0</td>\n",
       "    </tr>\n",
       "    <tr>\n",
       "      <th>6503</th>\n",
       "      <td>700</td>\n",
       "      <td>Айдар</td>\n",
       "      <td>22</td>\n",
       "      <td>Омск</td>\n",
       "      <td>False</td>\n",
       "      <td>1205.911290</td>\n",
       "      <td>9.782872</td>\n",
       "      <td>2021-02-10</td>\n",
       "      <td>2</td>\n",
       "      <td>8</td>\n",
       "      <td>50</td>\n",
       "      <td>0</td>\n",
       "    </tr>\n",
       "    <tr>\n",
       "      <th>6504</th>\n",
       "      <td>700</td>\n",
       "      <td>Айдар</td>\n",
       "      <td>22</td>\n",
       "      <td>Омск</td>\n",
       "      <td>False</td>\n",
       "      <td>3047.379435</td>\n",
       "      <td>17.427673</td>\n",
       "      <td>2021-02-14</td>\n",
       "      <td>2</td>\n",
       "      <td>8</td>\n",
       "      <td>50</td>\n",
       "      <td>0</td>\n",
       "    </tr>\n",
       "    <tr>\n",
       "      <th>6505</th>\n",
       "      <td>700</td>\n",
       "      <td>Айдар</td>\n",
       "      <td>22</td>\n",
       "      <td>Омск</td>\n",
       "      <td>False</td>\n",
       "      <td>4342.002254</td>\n",
       "      <td>22.368009</td>\n",
       "      <td>2021-02-23</td>\n",
       "      <td>2</td>\n",
       "      <td>8</td>\n",
       "      <td>50</td>\n",
       "      <td>0</td>\n",
       "    </tr>\n",
       "    <tr>\n",
       "      <th>6506</th>\n",
       "      <td>700</td>\n",
       "      <td>Айдар</td>\n",
       "      <td>22</td>\n",
       "      <td>Омск</td>\n",
       "      <td>False</td>\n",
       "      <td>3798.334905</td>\n",
       "      <td>18.243756</td>\n",
       "      <td>2021-03-03</td>\n",
       "      <td>3</td>\n",
       "      <td>8</td>\n",
       "      <td>50</td>\n",
       "      <td>0</td>\n",
       "    </tr>\n",
       "    <tr>\n",
       "      <th>6507</th>\n",
       "      <td>700</td>\n",
       "      <td>Айдар</td>\n",
       "      <td>22</td>\n",
       "      <td>Омск</td>\n",
       "      <td>False</td>\n",
       "      <td>2984.551206</td>\n",
       "      <td>15.424899</td>\n",
       "      <td>2021-04-09</td>\n",
       "      <td>4</td>\n",
       "      <td>8</td>\n",
       "      <td>50</td>\n",
       "      <td>0</td>\n",
       "    </tr>\n",
       "    <tr>\n",
       "      <th>6508</th>\n",
       "      <td>700</td>\n",
       "      <td>Айдар</td>\n",
       "      <td>22</td>\n",
       "      <td>Омск</td>\n",
       "      <td>False</td>\n",
       "      <td>3360.107141</td>\n",
       "      <td>16.765497</td>\n",
       "      <td>2021-06-12</td>\n",
       "      <td>6</td>\n",
       "      <td>8</td>\n",
       "      <td>50</td>\n",
       "      <td>0</td>\n",
       "    </tr>\n",
       "    <tr>\n",
       "      <th>6509</th>\n",
       "      <td>700</td>\n",
       "      <td>Айдар</td>\n",
       "      <td>22</td>\n",
       "      <td>Омск</td>\n",
       "      <td>False</td>\n",
       "      <td>2567.543847</td>\n",
       "      <td>11.312160</td>\n",
       "      <td>2021-06-23</td>\n",
       "      <td>6</td>\n",
       "      <td>8</td>\n",
       "      <td>50</td>\n",
       "      <td>0</td>\n",
       "    </tr>\n",
       "    <tr>\n",
       "      <th>6510</th>\n",
       "      <td>700</td>\n",
       "      <td>Айдар</td>\n",
       "      <td>22</td>\n",
       "      <td>Омск</td>\n",
       "      <td>False</td>\n",
       "      <td>4110.232038</td>\n",
       "      <td>15.807640</td>\n",
       "      <td>2021-07-08</td>\n",
       "      <td>7</td>\n",
       "      <td>8</td>\n",
       "      <td>50</td>\n",
       "      <td>0</td>\n",
       "    </tr>\n",
       "    <tr>\n",
       "      <th>6511</th>\n",
       "      <td>700</td>\n",
       "      <td>Айдар</td>\n",
       "      <td>22</td>\n",
       "      <td>Омск</td>\n",
       "      <td>False</td>\n",
       "      <td>288.974241</td>\n",
       "      <td>4.788112</td>\n",
       "      <td>2021-07-18</td>\n",
       "      <td>7</td>\n",
       "      <td>8</td>\n",
       "      <td>50</td>\n",
       "      <td>0</td>\n",
       "    </tr>\n",
       "    <tr>\n",
       "      <th>6512</th>\n",
       "      <td>700</td>\n",
       "      <td>Айдар</td>\n",
       "      <td>22</td>\n",
       "      <td>Омск</td>\n",
       "      <td>False</td>\n",
       "      <td>4071.654669</td>\n",
       "      <td>16.370546</td>\n",
       "      <td>2021-08-17</td>\n",
       "      <td>8</td>\n",
       "      <td>8</td>\n",
       "      <td>50</td>\n",
       "      <td>0</td>\n",
       "    </tr>\n",
       "    <tr>\n",
       "      <th>6513</th>\n",
       "      <td>700</td>\n",
       "      <td>Айдар</td>\n",
       "      <td>22</td>\n",
       "      <td>Омск</td>\n",
       "      <td>False</td>\n",
       "      <td>1920.188901</td>\n",
       "      <td>9.608453</td>\n",
       "      <td>2021-10-08</td>\n",
       "      <td>10</td>\n",
       "      <td>8</td>\n",
       "      <td>50</td>\n",
       "      <td>0</td>\n",
       "    </tr>\n",
       "    <tr>\n",
       "      <th>6514</th>\n",
       "      <td>700</td>\n",
       "      <td>Айдар</td>\n",
       "      <td>22</td>\n",
       "      <td>Омск</td>\n",
       "      <td>False</td>\n",
       "      <td>4402.389717</td>\n",
       "      <td>33.013035</td>\n",
       "      <td>2021-10-15</td>\n",
       "      <td>10</td>\n",
       "      <td>8</td>\n",
       "      <td>50</td>\n",
       "      <td>0</td>\n",
       "    </tr>\n",
       "    <tr>\n",
       "      <th>6515</th>\n",
       "      <td>700</td>\n",
       "      <td>Айдар</td>\n",
       "      <td>22</td>\n",
       "      <td>Омск</td>\n",
       "      <td>False</td>\n",
       "      <td>2409.555418</td>\n",
       "      <td>8.560513</td>\n",
       "      <td>2021-11-03</td>\n",
       "      <td>11</td>\n",
       "      <td>8</td>\n",
       "      <td>50</td>\n",
       "      <td>0</td>\n",
       "    </tr>\n",
       "    <tr>\n",
       "      <th>6516</th>\n",
       "      <td>700</td>\n",
       "      <td>Айдар</td>\n",
       "      <td>22</td>\n",
       "      <td>Омск</td>\n",
       "      <td>False</td>\n",
       "      <td>2639.817512</td>\n",
       "      <td>8.656752</td>\n",
       "      <td>2021-11-14</td>\n",
       "      <td>11</td>\n",
       "      <td>8</td>\n",
       "      <td>50</td>\n",
       "      <td>0</td>\n",
       "    </tr>\n",
       "    <tr>\n",
       "      <th>6517</th>\n",
       "      <td>700</td>\n",
       "      <td>Айдар</td>\n",
       "      <td>22</td>\n",
       "      <td>Омск</td>\n",
       "      <td>False</td>\n",
       "      <td>3686.409695</td>\n",
       "      <td>13.899449</td>\n",
       "      <td>2021-11-21</td>\n",
       "      <td>11</td>\n",
       "      <td>8</td>\n",
       "      <td>50</td>\n",
       "      <td>0</td>\n",
       "    </tr>\n",
       "    <tr>\n",
       "      <th>6518</th>\n",
       "      <td>701</td>\n",
       "      <td>Иван</td>\n",
       "      <td>31</td>\n",
       "      <td>Екатеринбург</td>\n",
       "      <td>False</td>\n",
       "      <td>2676.472894</td>\n",
       "      <td>17.470598</td>\n",
       "      <td>2021-01-23</td>\n",
       "      <td>1</td>\n",
       "      <td>8</td>\n",
       "      <td>50</td>\n",
       "      <td>0</td>\n",
       "    </tr>\n",
       "    <tr>\n",
       "      <th>6519</th>\n",
       "      <td>701</td>\n",
       "      <td>Иван</td>\n",
       "      <td>31</td>\n",
       "      <td>Екатеринбург</td>\n",
       "      <td>False</td>\n",
       "      <td>2743.677431</td>\n",
       "      <td>14.974710</td>\n",
       "      <td>2021-02-13</td>\n",
       "      <td>2</td>\n",
       "      <td>8</td>\n",
       "      <td>50</td>\n",
       "      <td>0</td>\n",
       "    </tr>\n",
       "  </tbody>\n",
       "</table>\n",
       "</div>"
      ],
      "text/plain": [
       "      user_id   name  age          city  subscription_type     distance  \\\n",
       "6500      700  Айдар   22          Омск              False  2515.690719   \n",
       "6501      700  Айдар   22          Омск              False   846.932642   \n",
       "6502      700  Айдар   22          Омск              False  4004.434142   \n",
       "6503      700  Айдар   22          Омск              False  1205.911290   \n",
       "6504      700  Айдар   22          Омск              False  3047.379435   \n",
       "6505      700  Айдар   22          Омск              False  4342.002254   \n",
       "6506      700  Айдар   22          Омск              False  3798.334905   \n",
       "6507      700  Айдар   22          Омск              False  2984.551206   \n",
       "6508      700  Айдар   22          Омск              False  3360.107141   \n",
       "6509      700  Айдар   22          Омск              False  2567.543847   \n",
       "6510      700  Айдар   22          Омск              False  4110.232038   \n",
       "6511      700  Айдар   22          Омск              False   288.974241   \n",
       "6512      700  Айдар   22          Омск              False  4071.654669   \n",
       "6513      700  Айдар   22          Омск              False  1920.188901   \n",
       "6514      700  Айдар   22          Омск              False  4402.389717   \n",
       "6515      700  Айдар   22          Омск              False  2409.555418   \n",
       "6516      700  Айдар   22          Омск              False  2639.817512   \n",
       "6517      700  Айдар   22          Омск              False  3686.409695   \n",
       "6518      701   Иван   31  Екатеринбург              False  2676.472894   \n",
       "6519      701   Иван   31  Екатеринбург              False  2743.677431   \n",
       "\n",
       "       duration       date  month  minute_price  start_ride_price  \\\n",
       "6500  14.944286 2021-01-02      1             8                50   \n",
       "6501  16.234663 2021-02-01      2             8                50   \n",
       "6502  20.016628 2021-02-04      2             8                50   \n",
       "6503   9.782872 2021-02-10      2             8                50   \n",
       "6504  17.427673 2021-02-14      2             8                50   \n",
       "6505  22.368009 2021-02-23      2             8                50   \n",
       "6506  18.243756 2021-03-03      3             8                50   \n",
       "6507  15.424899 2021-04-09      4             8                50   \n",
       "6508  16.765497 2021-06-12      6             8                50   \n",
       "6509  11.312160 2021-06-23      6             8                50   \n",
       "6510  15.807640 2021-07-08      7             8                50   \n",
       "6511   4.788112 2021-07-18      7             8                50   \n",
       "6512  16.370546 2021-08-17      8             8                50   \n",
       "6513   9.608453 2021-10-08     10             8                50   \n",
       "6514  33.013035 2021-10-15     10             8                50   \n",
       "6515   8.560513 2021-11-03     11             8                50   \n",
       "6516   8.656752 2021-11-14     11             8                50   \n",
       "6517  13.899449 2021-11-21     11             8                50   \n",
       "6518  17.470598 2021-01-23      1             8                50   \n",
       "6519  14.974710 2021-02-13      2             8                50   \n",
       "\n",
       "      subscription_fee  \n",
       "6500                 0  \n",
       "6501                 0  \n",
       "6502                 0  \n",
       "6503                 0  \n",
       "6504                 0  \n",
       "6505                 0  \n",
       "6506                 0  \n",
       "6507                 0  \n",
       "6508                 0  \n",
       "6509                 0  \n",
       "6510                 0  \n",
       "6511                 0  \n",
       "6512                 0  \n",
       "6513                 0  \n",
       "6514                 0  \n",
       "6515                 0  \n",
       "6516                 0  \n",
       "6517                 0  \n",
       "6518                 0  \n",
       "6519                 0  "
      ]
     },
     "execution_count": 49,
     "metadata": {},
     "output_type": "execute_result"
    }
   ],
   "source": [
    "free_data.head(20)"
   ]
  },
  {
   "cell_type": "code",
   "execution_count": 50,
   "id": "0dc2754b",
   "metadata": {},
   "outputs": [
    {
     "name": "stdout",
     "output_type": "stream",
     "text": [
      "<class 'pandas.core.frame.DataFrame'>\n",
      "Index: 11568 entries, 6500 to 18067\n",
      "Data columns (total 12 columns):\n",
      " #   Column             Non-Null Count  Dtype         \n",
      "---  ------             --------------  -----         \n",
      " 0   user_id            11568 non-null  int64         \n",
      " 1   name               11568 non-null  object        \n",
      " 2   age                11568 non-null  int64         \n",
      " 3   city               11568 non-null  object        \n",
      " 4   subscription_type  11568 non-null  bool          \n",
      " 5   distance           11568 non-null  float64       \n",
      " 6   duration           11568 non-null  float64       \n",
      " 7   date               11568 non-null  datetime64[ns]\n",
      " 8   month              11568 non-null  int32         \n",
      " 9   minute_price       11568 non-null  int64         \n",
      " 10  start_ride_price   11568 non-null  int64         \n",
      " 11  subscription_fee   11568 non-null  int64         \n",
      "dtypes: bool(1), datetime64[ns](1), float64(2), int32(1), int64(5), object(2)\n",
      "memory usage: 1.0+ MB\n"
     ]
    }
   ],
   "source": [
    "free_data.info()"
   ]
  },
  {
   "cell_type": "markdown",
   "id": "36bb4af5",
   "metadata": {},
   "source": [
    "#### Датафрейм с пользователями с подпиской"
   ]
  },
  {
   "cell_type": "code",
   "execution_count": 51,
   "id": "20218517",
   "metadata": {},
   "outputs": [],
   "source": [
    "ultra_data = data.loc[data['subscription_type'] == True]"
   ]
  },
  {
   "cell_type": "code",
   "execution_count": 52,
   "id": "13fd9bd7",
   "metadata": {},
   "outputs": [
    {
     "data": {
      "text/html": [
       "<div>\n",
       "<style scoped>\n",
       "    .dataframe tbody tr th:only-of-type {\n",
       "        vertical-align: middle;\n",
       "    }\n",
       "\n",
       "    .dataframe tbody tr th {\n",
       "        vertical-align: top;\n",
       "    }\n",
       "\n",
       "    .dataframe thead th {\n",
       "        text-align: right;\n",
       "    }\n",
       "</style>\n",
       "<table border=\"1\" class=\"dataframe\">\n",
       "  <thead>\n",
       "    <tr style=\"text-align: right;\">\n",
       "      <th></th>\n",
       "      <th>user_id</th>\n",
       "      <th>name</th>\n",
       "      <th>age</th>\n",
       "      <th>city</th>\n",
       "      <th>subscription_type</th>\n",
       "      <th>distance</th>\n",
       "      <th>duration</th>\n",
       "      <th>date</th>\n",
       "      <th>month</th>\n",
       "      <th>minute_price</th>\n",
       "      <th>start_ride_price</th>\n",
       "      <th>subscription_fee</th>\n",
       "    </tr>\n",
       "  </thead>\n",
       "  <tbody>\n",
       "    <tr>\n",
       "      <th>0</th>\n",
       "      <td>1</td>\n",
       "      <td>Кира</td>\n",
       "      <td>22</td>\n",
       "      <td>Тюмень</td>\n",
       "      <td>True</td>\n",
       "      <td>4409.919140</td>\n",
       "      <td>25.599769</td>\n",
       "      <td>2021-01-01</td>\n",
       "      <td>1</td>\n",
       "      <td>6</td>\n",
       "      <td>0</td>\n",
       "      <td>199</td>\n",
       "    </tr>\n",
       "    <tr>\n",
       "      <th>1</th>\n",
       "      <td>1</td>\n",
       "      <td>Кира</td>\n",
       "      <td>22</td>\n",
       "      <td>Тюмень</td>\n",
       "      <td>True</td>\n",
       "      <td>2617.592153</td>\n",
       "      <td>15.816871</td>\n",
       "      <td>2021-01-18</td>\n",
       "      <td>1</td>\n",
       "      <td>6</td>\n",
       "      <td>0</td>\n",
       "      <td>199</td>\n",
       "    </tr>\n",
       "    <tr>\n",
       "      <th>2</th>\n",
       "      <td>1</td>\n",
       "      <td>Кира</td>\n",
       "      <td>22</td>\n",
       "      <td>Тюмень</td>\n",
       "      <td>True</td>\n",
       "      <td>754.159807</td>\n",
       "      <td>6.232113</td>\n",
       "      <td>2021-04-20</td>\n",
       "      <td>4</td>\n",
       "      <td>6</td>\n",
       "      <td>0</td>\n",
       "      <td>199</td>\n",
       "    </tr>\n",
       "    <tr>\n",
       "      <th>3</th>\n",
       "      <td>1</td>\n",
       "      <td>Кира</td>\n",
       "      <td>22</td>\n",
       "      <td>Тюмень</td>\n",
       "      <td>True</td>\n",
       "      <td>2694.783254</td>\n",
       "      <td>18.511000</td>\n",
       "      <td>2021-08-11</td>\n",
       "      <td>8</td>\n",
       "      <td>6</td>\n",
       "      <td>0</td>\n",
       "      <td>199</td>\n",
       "    </tr>\n",
       "    <tr>\n",
       "      <th>4</th>\n",
       "      <td>1</td>\n",
       "      <td>Кира</td>\n",
       "      <td>22</td>\n",
       "      <td>Тюмень</td>\n",
       "      <td>True</td>\n",
       "      <td>4028.687306</td>\n",
       "      <td>26.265803</td>\n",
       "      <td>2021-08-28</td>\n",
       "      <td>8</td>\n",
       "      <td>6</td>\n",
       "      <td>0</td>\n",
       "      <td>199</td>\n",
       "    </tr>\n",
       "    <tr>\n",
       "      <th>5</th>\n",
       "      <td>1</td>\n",
       "      <td>Кира</td>\n",
       "      <td>22</td>\n",
       "      <td>Тюмень</td>\n",
       "      <td>True</td>\n",
       "      <td>2770.890808</td>\n",
       "      <td>16.650138</td>\n",
       "      <td>2021-10-09</td>\n",
       "      <td>10</td>\n",
       "      <td>6</td>\n",
       "      <td>0</td>\n",
       "      <td>199</td>\n",
       "    </tr>\n",
       "    <tr>\n",
       "      <th>6</th>\n",
       "      <td>1</td>\n",
       "      <td>Кира</td>\n",
       "      <td>22</td>\n",
       "      <td>Тюмень</td>\n",
       "      <td>True</td>\n",
       "      <td>3039.020292</td>\n",
       "      <td>14.927879</td>\n",
       "      <td>2021-10-19</td>\n",
       "      <td>10</td>\n",
       "      <td>6</td>\n",
       "      <td>0</td>\n",
       "      <td>199</td>\n",
       "    </tr>\n",
       "    <tr>\n",
       "      <th>7</th>\n",
       "      <td>1</td>\n",
       "      <td>Кира</td>\n",
       "      <td>22</td>\n",
       "      <td>Тюмень</td>\n",
       "      <td>True</td>\n",
       "      <td>2842.118050</td>\n",
       "      <td>23.117468</td>\n",
       "      <td>2021-11-06</td>\n",
       "      <td>11</td>\n",
       "      <td>6</td>\n",
       "      <td>0</td>\n",
       "      <td>199</td>\n",
       "    </tr>\n",
       "    <tr>\n",
       "      <th>8</th>\n",
       "      <td>1</td>\n",
       "      <td>Кира</td>\n",
       "      <td>22</td>\n",
       "      <td>Тюмень</td>\n",
       "      <td>True</td>\n",
       "      <td>3412.690668</td>\n",
       "      <td>15.238072</td>\n",
       "      <td>2021-11-14</td>\n",
       "      <td>11</td>\n",
       "      <td>6</td>\n",
       "      <td>0</td>\n",
       "      <td>199</td>\n",
       "    </tr>\n",
       "    <tr>\n",
       "      <th>9</th>\n",
       "      <td>1</td>\n",
       "      <td>Кира</td>\n",
       "      <td>22</td>\n",
       "      <td>Тюмень</td>\n",
       "      <td>True</td>\n",
       "      <td>748.690645</td>\n",
       "      <td>15.041884</td>\n",
       "      <td>2021-11-22</td>\n",
       "      <td>11</td>\n",
       "      <td>6</td>\n",
       "      <td>0</td>\n",
       "      <td>199</td>\n",
       "    </tr>\n",
       "    <tr>\n",
       "      <th>10</th>\n",
       "      <td>1</td>\n",
       "      <td>Кира</td>\n",
       "      <td>22</td>\n",
       "      <td>Тюмень</td>\n",
       "      <td>True</td>\n",
       "      <td>4031.020195</td>\n",
       "      <td>17.674448</td>\n",
       "      <td>2021-12-14</td>\n",
       "      <td>12</td>\n",
       "      <td>6</td>\n",
       "      <td>0</td>\n",
       "      <td>199</td>\n",
       "    </tr>\n",
       "    <tr>\n",
       "      <th>11</th>\n",
       "      <td>1</td>\n",
       "      <td>Кира</td>\n",
       "      <td>22</td>\n",
       "      <td>Тюмень</td>\n",
       "      <td>True</td>\n",
       "      <td>2720.609748</td>\n",
       "      <td>9.529463</td>\n",
       "      <td>2021-12-22</td>\n",
       "      <td>12</td>\n",
       "      <td>6</td>\n",
       "      <td>0</td>\n",
       "      <td>199</td>\n",
       "    </tr>\n",
       "    <tr>\n",
       "      <th>12</th>\n",
       "      <td>2</td>\n",
       "      <td>Станислав</td>\n",
       "      <td>31</td>\n",
       "      <td>Омск</td>\n",
       "      <td>True</td>\n",
       "      <td>3105.086678</td>\n",
       "      <td>24.307514</td>\n",
       "      <td>2021-03-15</td>\n",
       "      <td>3</td>\n",
       "      <td>6</td>\n",
       "      <td>0</td>\n",
       "      <td>199</td>\n",
       "    </tr>\n",
       "    <tr>\n",
       "      <th>13</th>\n",
       "      <td>2</td>\n",
       "      <td>Станислав</td>\n",
       "      <td>31</td>\n",
       "      <td>Омск</td>\n",
       "      <td>True</td>\n",
       "      <td>3053.519401</td>\n",
       "      <td>11.543256</td>\n",
       "      <td>2021-03-18</td>\n",
       "      <td>3</td>\n",
       "      <td>6</td>\n",
       "      <td>0</td>\n",
       "      <td>199</td>\n",
       "    </tr>\n",
       "    <tr>\n",
       "      <th>14</th>\n",
       "      <td>2</td>\n",
       "      <td>Станислав</td>\n",
       "      <td>31</td>\n",
       "      <td>Омск</td>\n",
       "      <td>True</td>\n",
       "      <td>4029.116927</td>\n",
       "      <td>25.109188</td>\n",
       "      <td>2021-03-23</td>\n",
       "      <td>3</td>\n",
       "      <td>6</td>\n",
       "      <td>0</td>\n",
       "      <td>199</td>\n",
       "    </tr>\n",
       "    <tr>\n",
       "      <th>15</th>\n",
       "      <td>2</td>\n",
       "      <td>Станислав</td>\n",
       "      <td>31</td>\n",
       "      <td>Омск</td>\n",
       "      <td>True</td>\n",
       "      <td>2805.786329</td>\n",
       "      <td>20.652145</td>\n",
       "      <td>2021-04-08</td>\n",
       "      <td>4</td>\n",
       "      <td>6</td>\n",
       "      <td>0</td>\n",
       "      <td>199</td>\n",
       "    </tr>\n",
       "    <tr>\n",
       "      <th>16</th>\n",
       "      <td>2</td>\n",
       "      <td>Станислав</td>\n",
       "      <td>31</td>\n",
       "      <td>Омск</td>\n",
       "      <td>True</td>\n",
       "      <td>3358.595495</td>\n",
       "      <td>18.396489</td>\n",
       "      <td>2021-04-13</td>\n",
       "      <td>4</td>\n",
       "      <td>6</td>\n",
       "      <td>0</td>\n",
       "      <td>199</td>\n",
       "    </tr>\n",
       "    <tr>\n",
       "      <th>17</th>\n",
       "      <td>2</td>\n",
       "      <td>Станислав</td>\n",
       "      <td>31</td>\n",
       "      <td>Омск</td>\n",
       "      <td>True</td>\n",
       "      <td>3255.338202</td>\n",
       "      <td>13.851127</td>\n",
       "      <td>2021-06-20</td>\n",
       "      <td>6</td>\n",
       "      <td>6</td>\n",
       "      <td>0</td>\n",
       "      <td>199</td>\n",
       "    </tr>\n",
       "    <tr>\n",
       "      <th>18</th>\n",
       "      <td>2</td>\n",
       "      <td>Станислав</td>\n",
       "      <td>31</td>\n",
       "      <td>Омск</td>\n",
       "      <td>True</td>\n",
       "      <td>3942.817648</td>\n",
       "      <td>20.142725</td>\n",
       "      <td>2021-07-02</td>\n",
       "      <td>7</td>\n",
       "      <td>6</td>\n",
       "      <td>0</td>\n",
       "      <td>199</td>\n",
       "    </tr>\n",
       "    <tr>\n",
       "      <th>19</th>\n",
       "      <td>2</td>\n",
       "      <td>Станислав</td>\n",
       "      <td>31</td>\n",
       "      <td>Омск</td>\n",
       "      <td>True</td>\n",
       "      <td>2837.905316</td>\n",
       "      <td>26.027432</td>\n",
       "      <td>2021-07-18</td>\n",
       "      <td>7</td>\n",
       "      <td>6</td>\n",
       "      <td>0</td>\n",
       "      <td>199</td>\n",
       "    </tr>\n",
       "  </tbody>\n",
       "</table>\n",
       "</div>"
      ],
      "text/plain": [
       "    user_id       name  age    city  subscription_type     distance  \\\n",
       "0         1       Кира   22  Тюмень               True  4409.919140   \n",
       "1         1       Кира   22  Тюмень               True  2617.592153   \n",
       "2         1       Кира   22  Тюмень               True   754.159807   \n",
       "3         1       Кира   22  Тюмень               True  2694.783254   \n",
       "4         1       Кира   22  Тюмень               True  4028.687306   \n",
       "5         1       Кира   22  Тюмень               True  2770.890808   \n",
       "6         1       Кира   22  Тюмень               True  3039.020292   \n",
       "7         1       Кира   22  Тюмень               True  2842.118050   \n",
       "8         1       Кира   22  Тюмень               True  3412.690668   \n",
       "9         1       Кира   22  Тюмень               True   748.690645   \n",
       "10        1       Кира   22  Тюмень               True  4031.020195   \n",
       "11        1       Кира   22  Тюмень               True  2720.609748   \n",
       "12        2  Станислав   31    Омск               True  3105.086678   \n",
       "13        2  Станислав   31    Омск               True  3053.519401   \n",
       "14        2  Станислав   31    Омск               True  4029.116927   \n",
       "15        2  Станислав   31    Омск               True  2805.786329   \n",
       "16        2  Станислав   31    Омск               True  3358.595495   \n",
       "17        2  Станислав   31    Омск               True  3255.338202   \n",
       "18        2  Станислав   31    Омск               True  3942.817648   \n",
       "19        2  Станислав   31    Омск               True  2837.905316   \n",
       "\n",
       "     duration       date  month  minute_price  start_ride_price  \\\n",
       "0   25.599769 2021-01-01      1             6                 0   \n",
       "1   15.816871 2021-01-18      1             6                 0   \n",
       "2    6.232113 2021-04-20      4             6                 0   \n",
       "3   18.511000 2021-08-11      8             6                 0   \n",
       "4   26.265803 2021-08-28      8             6                 0   \n",
       "5   16.650138 2021-10-09     10             6                 0   \n",
       "6   14.927879 2021-10-19     10             6                 0   \n",
       "7   23.117468 2021-11-06     11             6                 0   \n",
       "8   15.238072 2021-11-14     11             6                 0   \n",
       "9   15.041884 2021-11-22     11             6                 0   \n",
       "10  17.674448 2021-12-14     12             6                 0   \n",
       "11   9.529463 2021-12-22     12             6                 0   \n",
       "12  24.307514 2021-03-15      3             6                 0   \n",
       "13  11.543256 2021-03-18      3             6                 0   \n",
       "14  25.109188 2021-03-23      3             6                 0   \n",
       "15  20.652145 2021-04-08      4             6                 0   \n",
       "16  18.396489 2021-04-13      4             6                 0   \n",
       "17  13.851127 2021-06-20      6             6                 0   \n",
       "18  20.142725 2021-07-02      7             6                 0   \n",
       "19  26.027432 2021-07-18      7             6                 0   \n",
       "\n",
       "    subscription_fee  \n",
       "0                199  \n",
       "1                199  \n",
       "2                199  \n",
       "3                199  \n",
       "4                199  \n",
       "5                199  \n",
       "6                199  \n",
       "7                199  \n",
       "8                199  \n",
       "9                199  \n",
       "10               199  \n",
       "11               199  \n",
       "12               199  \n",
       "13               199  \n",
       "14               199  \n",
       "15               199  \n",
       "16               199  \n",
       "17               199  \n",
       "18               199  \n",
       "19               199  "
      ]
     },
     "execution_count": 52,
     "metadata": {},
     "output_type": "execute_result"
    }
   ],
   "source": [
    "ultra_data.head(20)"
   ]
  },
  {
   "cell_type": "code",
   "execution_count": 53,
   "id": "dfff55e5",
   "metadata": {},
   "outputs": [
    {
     "name": "stdout",
     "output_type": "stream",
     "text": [
      "<class 'pandas.core.frame.DataFrame'>\n",
      "Index: 6500 entries, 0 to 6499\n",
      "Data columns (total 12 columns):\n",
      " #   Column             Non-Null Count  Dtype         \n",
      "---  ------             --------------  -----         \n",
      " 0   user_id            6500 non-null   int64         \n",
      " 1   name               6500 non-null   object        \n",
      " 2   age                6500 non-null   int64         \n",
      " 3   city               6500 non-null   object        \n",
      " 4   subscription_type  6500 non-null   bool          \n",
      " 5   distance           6500 non-null   float64       \n",
      " 6   duration           6500 non-null   float64       \n",
      " 7   date               6500 non-null   datetime64[ns]\n",
      " 8   month              6500 non-null   int32         \n",
      " 9   minute_price       6500 non-null   int64         \n",
      " 10  start_ride_price   6500 non-null   int64         \n",
      " 11  subscription_fee   6500 non-null   int64         \n",
      "dtypes: bool(1), datetime64[ns](1), float64(2), int32(1), int64(5), object(2)\n",
      "memory usage: 590.3+ KB\n"
     ]
    }
   ],
   "source": [
    "ultra_data.info()"
   ]
  },
  {
   "cell_type": "markdown",
   "id": "5c5edd48",
   "metadata": {},
   "source": [
    "Итак, общий датафрейм `data` поделили надвое: с 0 по 6499 строчку вывели данные о пользователях с подпиской — получился `ultra_data`, с 6500 по 18067 строчку данные о пользователях без подписки — в`free_data`.\n",
    "\n",
    "Так как исходные данные не содержали пропусков, то и в новых датафремах их нет, что и видим по выведенной информации о столбцах и значениях в них."
   ]
  },
  {
   "cell_type": "markdown",
   "id": "10c8d06d",
   "metadata": {},
   "source": [
    "#### Сравним данные о подписках"
   ]
  },
  {
   "cell_type": "code",
   "execution_count": 54,
   "id": "c088efd5",
   "metadata": {},
   "outputs": [
    {
     "data": {
      "image/png": "[encoded data removed]",
      "text/plain": [
       "<Figure size 1200x600 with 1 Axes>"
      ]
     },
     "metadata": {},
     "output_type": "display_data"
    }
   ],
   "source": [
    "plt.figure(figsize=(12, 6))\n",
    "\n",
    "plt.hist([free_data['distance'], ultra_data['distance']], bins=50, range=(1, 5600), alpha=0.5, label=['free', 'ultra'])\n",
    "plt.legend(loc='upper right')\n",
    "plt.title('Количество поездок в зависимости расстояния поездки')\n",
    "plt.xlabel('Расстояние, метры')\n",
    "plt.ylabel('Количество поездок')\n",
    "plt.show()"
   ]
  },
  {
   "cell_type": "code",
   "execution_count": 55,
   "id": "8b99f397",
   "metadata": {},
   "outputs": [
    {
     "name": "stdout",
     "output_type": "stream",
     "text": [
      "Описательная статистика  о расстоянии поездок пользователей без подписки:\n"
     ]
    },
    {
     "data": {
      "text/plain": [
       "count    11568.000000\n",
       "mean      3045.495282\n",
       "std       1246.173806\n",
       "min          0.855683\n",
       "25%       2366.562689\n",
       "50%       3114.648465\n",
       "75%       3905.697894\n",
       "max       7211.007745\n",
       "Name: distance, dtype: float64"
      ]
     },
     "execution_count": 55,
     "metadata": {},
     "output_type": "execute_result"
    }
   ],
   "source": [
    "print('Описательная статистика  о расстоянии поездок пользователей без подписки:')\n",
    "free_data['distance'].describe()"
   ]
  },
  {
   "cell_type": "code",
   "execution_count": 56,
   "id": "6e3209d7",
   "metadata": {},
   "outputs": [
    {
     "name": "stdout",
     "output_type": "stream",
     "text": [
      "Описательная статистика о расстоянии поездок пользователей с подпиской:\n"
     ]
    },
    {
     "data": {
      "text/plain": [
       "count    6500.000000\n",
       "mean     3115.445388\n",
       "std       836.895330\n",
       "min       244.210438\n",
       "25%      2785.444017\n",
       "50%      3148.637229\n",
       "75%      3560.574425\n",
       "max      5699.769662\n",
       "Name: distance, dtype: float64"
      ]
     },
     "execution_count": 56,
     "metadata": {},
     "output_type": "execute_result"
    }
   ],
   "source": [
    "print('Описательная статистика о расстоянии поездок пользователей с подпиской:')\n",
    "ultra_data['distance'].describe()"
   ]
  },
  {
   "cell_type": "markdown",
   "id": "087eee11",
   "metadata": {},
   "source": [
    "У пользователей с различными типами подписок наблюдается разный разброс данных. Так центр пика смещается от 500 метров (для пользователей с подпиской `Free`) до 1000 метров (для пользователей с подпиской `Ultra`). Тип подписки сказывается и на медианные значения: расстояние поездки для пользователей без подписки составляет 3115 метров, в то время как для пользователей с подпиской это значение равно 3148 метров. "
   ]
  },
  {
   "cell_type": "code",
   "execution_count": 57,
   "id": "7b3b0a9d",
   "metadata": {},
   "outputs": [
    {
     "data": {
      "image/png": "[encoded data removed]",
      "text/plain": [
       "<Figure size 1200x600 with 1 Axes>"
      ]
     },
     "metadata": {},
     "output_type": "display_data"
    }
   ],
   "source": [
    "plt.figure(figsize=(12, 6))\n",
    "\n",
    "plt.hist([free_data['duration'], ultra_data['duration']], bins=50, range=(1, 40), alpha=0.5, label=['free', 'ultra'])\n",
    "plt.legend(loc='upper right')\n",
    "plt.title('Количество поездок в зависимости от времени поездки')\n",
    "plt.xlabel('Время, минуты')\n",
    "plt.ylabel('Количество поездок')\n",
    "plt.show()"
   ]
  },
  {
   "cell_type": "code",
   "execution_count": 58,
   "id": "7f8183b6",
   "metadata": {},
   "outputs": [
    {
     "name": "stdout",
     "output_type": "stream",
     "text": [
      "Описательная статистика времени поездок пользователей без подписки:\n"
     ]
    },
    {
     "data": {
      "text/plain": [
       "count    11568.000000\n",
       "mean        17.390909\n",
       "std          6.326803\n",
       "min          0.500000\n",
       "25%         12.958437\n",
       "50%         17.326890\n",
       "75%         21.594071\n",
       "max         34.948498\n",
       "Name: duration, dtype: float64"
      ]
     },
     "execution_count": 58,
     "metadata": {},
     "output_type": "execute_result"
    }
   ],
   "source": [
    "print('Описательная статистика времени поездок пользователей без подписки:')\n",
    "free_data['duration'].describe()"
   ]
  },
  {
   "cell_type": "code",
   "execution_count": 59,
   "id": "337d613a",
   "metadata": {},
   "outputs": [
    {
     "name": "stdout",
     "output_type": "stream",
     "text": [
      "Описательная статистика времени поездок пользователей с подпиской:\n"
     ]
    },
    {
     "data": {
      "text/plain": [
       "count    6500.000000\n",
       "mean       18.541985\n",
       "std         5.572048\n",
       "min         3.760353\n",
       "25%        14.524654\n",
       "50%        18.178153\n",
       "75%        21.884129\n",
       "max        40.823963\n",
       "Name: duration, dtype: float64"
      ]
     },
     "execution_count": 59,
     "metadata": {},
     "output_type": "execute_result"
    }
   ],
   "source": [
    "print('Описательная статистика времени поездок пользователей с подпиской:')\n",
    "ultra_data['duration'].describe()"
   ]
  },
  {
   "cell_type": "markdown",
   "id": "d0c3ca5e",
   "metadata": {},
   "source": [
    "Зависимость количества поездок и расстояния еще более очевидно показывают преобладание бесплатной версии приложения. По описательной статистике видим, что подписка влияет и на медианные значения времени поезки. Без подписки в среднем проезжают 17 минут, с подпиской 18 минут."
   ]
  },
  {
   "cell_type": "markdown",
   "id": "15953892",
   "metadata": {},
   "source": [
    "#### Промежуточный вывод\n",
    "\n",
    "Подписка влияет на расстояние поездок и на время в пути. Значительно преобладают поездки по подписке `Free`, дистанция в ней  более разнообразна. Хотя поедок от 3.1 км. до 3.7 км. все-таки больше в платной версии.\n",
    "\n",
    "Продолжительность поездок при использовании подписки `Free` также больше по показателям, чем при использовании `Ultra`.\n",
    "\n",
    "Из анализа делаем вывод, что пользователи, использующие бесплатный тариф, в целом предпочитают более долгие поездки и проезжают большее расстояние по сравнению с пользователями, выбравшими платный тариф."
   ]
  },
  {
   "cell_type": "markdown",
   "id": "402d620f",
   "metadata": {},
   "source": [
    "## Шаг 5. Подсчёт выручки"
   ]
  },
  {
   "cell_type": "markdown",
   "id": "7291445e",
   "metadata": {},
   "source": [
    "#### Суммарное расстояние, количество поeздок и суммарное время для каждого пользователя за каждый месяц"
   ]
  },
  {
   "cell_type": "markdown",
   "id": "38c38b34",
   "metadata": {},
   "source": [
    "Требуется вывести данные о поездках каждого пользователя за каждый месяц:\n",
    "\n",
    " - суммарное расстояние;\n",
    " - количество поездок;\n",
    " - суммарное время.\n",
    " \n",
    "Сначала округлим время поездки"
   ]
  },
  {
   "cell_type": "code",
   "execution_count": 60,
   "id": "e156d573",
   "metadata": {},
   "outputs": [
    {
     "data": {
      "text/plain": [
       "0    25.599769\n",
       "1    15.816871\n",
       "2     6.232113\n",
       "3    18.511000\n",
       "4    26.265803\n",
       "5    16.650138\n",
       "6    14.927879\n",
       "7    23.117468\n",
       "8    15.238072\n",
       "9    15.041884\n",
       "Name: duration, dtype: float64"
      ]
     },
     "execution_count": 60,
     "metadata": {},
     "output_type": "execute_result"
    }
   ],
   "source": [
    "data['duration'].head(10)"
   ]
  },
  {
   "cell_type": "code",
   "execution_count": 61,
   "id": "f7baf854",
   "metadata": {},
   "outputs": [
    {
     "data": {
      "text/plain": [
       "0    26.0\n",
       "1    16.0\n",
       "2     7.0\n",
       "3    19.0\n",
       "4    27.0\n",
       "5    17.0\n",
       "6    15.0\n",
       "7    24.0\n",
       "8    16.0\n",
       "9    16.0\n",
       "Name: duration, dtype: float64"
      ]
     },
     "execution_count": 61,
     "metadata": {},
     "output_type": "execute_result"
    }
   ],
   "source": [
    "data['duration'] = np.ceil(data['duration'])\n",
    "data['duration'].head(10)"
   ]
  },
  {
   "cell_type": "markdown",
   "id": "eaa6831e",
   "metadata": {},
   "source": [
    "**Создадим агрегированную таблицу:**"
   ]
  },
  {
   "cell_type": "code",
   "execution_count": 95,
   "id": "bd3ed993",
   "metadata": {},
   "outputs": [
    {
     "name": "stderr",
     "output_type": "stream",
     "text": [
      "C:\\Users\\neapo\\AppData\\Local\\Temp\\ipykernel_18360\\2527372937.py:1: FutureWarning: The provided callable <built-in function sum> is currently using SeriesGroupBy.sum. In a future version of pandas, the provided callable will be used directly. To keep current behavior pass the string \"sum\" instead.\n",
      "  trips_data_by_user = data.pivot_table(\n",
      "C:\\Users\\neapo\\AppData\\Local\\Temp\\ipykernel_18360\\2527372937.py:1: FutureWarning: The provided callable <built-in function min> is currently using SeriesGroupBy.min. In a future version of pandas, the provided callable will be used directly. To keep current behavior pass the string \"min\" instead.\n",
      "  trips_data_by_user = data.pivot_table(\n"
     ]
    },
    {
     "data": {
      "text/html": [
       "<div>\n",
       "<style scoped>\n",
       "    .dataframe tbody tr th:only-of-type {\n",
       "        vertical-align: middle;\n",
       "    }\n",
       "\n",
       "    .dataframe tbody tr th {\n",
       "        vertical-align: top;\n",
       "    }\n",
       "\n",
       "    .dataframe thead th {\n",
       "        text-align: right;\n",
       "    }\n",
       "</style>\n",
       "<table border=\"1\" class=\"dataframe\">\n",
       "  <thead>\n",
       "    <tr style=\"text-align: right;\">\n",
       "      <th></th>\n",
       "      <th></th>\n",
       "      <th>distance</th>\n",
       "      <th>duration</th>\n",
       "      <th>minute_price</th>\n",
       "      <th>name</th>\n",
       "      <th>start_ride_price</th>\n",
       "      <th>subscription_type</th>\n",
       "    </tr>\n",
       "    <tr>\n",
       "      <th>user_id</th>\n",
       "      <th>month</th>\n",
       "      <th></th>\n",
       "      <th></th>\n",
       "      <th></th>\n",
       "      <th></th>\n",
       "      <th></th>\n",
       "      <th></th>\n",
       "    </tr>\n",
       "  </thead>\n",
       "  <tbody>\n",
       "    <tr>\n",
       "      <th rowspan=\"5\" valign=\"top\">1</th>\n",
       "      <th>1</th>\n",
       "      <td>7027.511294</td>\n",
       "      <td>42.0</td>\n",
       "      <td>6</td>\n",
       "      <td>2</td>\n",
       "      <td>0</td>\n",
       "      <td>True</td>\n",
       "    </tr>\n",
       "    <tr>\n",
       "      <th>4</th>\n",
       "      <td>754.159807</td>\n",
       "      <td>7.0</td>\n",
       "      <td>6</td>\n",
       "      <td>1</td>\n",
       "      <td>0</td>\n",
       "      <td>True</td>\n",
       "    </tr>\n",
       "    <tr>\n",
       "      <th>8</th>\n",
       "      <td>6723.470560</td>\n",
       "      <td>46.0</td>\n",
       "      <td>6</td>\n",
       "      <td>2</td>\n",
       "      <td>0</td>\n",
       "      <td>True</td>\n",
       "    </tr>\n",
       "    <tr>\n",
       "      <th>10</th>\n",
       "      <td>5809.911100</td>\n",
       "      <td>32.0</td>\n",
       "      <td>6</td>\n",
       "      <td>2</td>\n",
       "      <td>0</td>\n",
       "      <td>True</td>\n",
       "    </tr>\n",
       "    <tr>\n",
       "      <th>11</th>\n",
       "      <td>7003.499363</td>\n",
       "      <td>56.0</td>\n",
       "      <td>6</td>\n",
       "      <td>3</td>\n",
       "      <td>0</td>\n",
       "      <td>True</td>\n",
       "    </tr>\n",
       "    <tr>\n",
       "      <th>...</th>\n",
       "      <th>...</th>\n",
       "      <td>...</td>\n",
       "      <td>...</td>\n",
       "      <td>...</td>\n",
       "      <td>...</td>\n",
       "      <td>...</td>\n",
       "      <td>...</td>\n",
       "    </tr>\n",
       "    <tr>\n",
       "      <th rowspan=\"5\" valign=\"top\">1534</th>\n",
       "      <th>6</th>\n",
       "      <td>3409.468534</td>\n",
       "      <td>26.0</td>\n",
       "      <td>8</td>\n",
       "      <td>2</td>\n",
       "      <td>50</td>\n",
       "      <td>False</td>\n",
       "    </tr>\n",
       "    <tr>\n",
       "      <th>8</th>\n",
       "      <td>7622.453034</td>\n",
       "      <td>48.0</td>\n",
       "      <td>8</td>\n",
       "      <td>2</td>\n",
       "      <td>50</td>\n",
       "      <td>False</td>\n",
       "    </tr>\n",
       "    <tr>\n",
       "      <th>9</th>\n",
       "      <td>4928.173852</td>\n",
       "      <td>23.0</td>\n",
       "      <td>8</td>\n",
       "      <td>1</td>\n",
       "      <td>50</td>\n",
       "      <td>False</td>\n",
       "    </tr>\n",
       "    <tr>\n",
       "      <th>11</th>\n",
       "      <td>13350.015305</td>\n",
       "      <td>78.0</td>\n",
       "      <td>8</td>\n",
       "      <td>4</td>\n",
       "      <td>50</td>\n",
       "      <td>False</td>\n",
       "    </tr>\n",
       "    <tr>\n",
       "      <th>12</th>\n",
       "      <td>2371.711192</td>\n",
       "      <td>16.0</td>\n",
       "      <td>8</td>\n",
       "      <td>1</td>\n",
       "      <td>50</td>\n",
       "      <td>False</td>\n",
       "    </tr>\n",
       "  </tbody>\n",
       "</table>\n",
       "<p>11331 rows × 6 columns</p>\n",
       "</div>"
      ],
      "text/plain": [
       "                   distance  duration  minute_price  name  start_ride_price  \\\n",
       "user_id month                                                                 \n",
       "1       1       7027.511294      42.0             6     2                 0   \n",
       "        4        754.159807       7.0             6     1                 0   \n",
       "        8       6723.470560      46.0             6     2                 0   \n",
       "        10      5809.911100      32.0             6     2                 0   \n",
       "        11      7003.499363      56.0             6     3                 0   \n",
       "...                     ...       ...           ...   ...               ...   \n",
       "1534    6       3409.468534      26.0             8     2                50   \n",
       "        8       7622.453034      48.0             8     2                50   \n",
       "        9       4928.173852      23.0             8     1                50   \n",
       "        11     13350.015305      78.0             8     4                50   \n",
       "        12      2371.711192      16.0             8     1                50   \n",
       "\n",
       "               subscription_type  \n",
       "user_id month                     \n",
       "1       1                   True  \n",
       "        4                   True  \n",
       "        8                   True  \n",
       "        10                  True  \n",
       "        11                  True  \n",
       "...                          ...  \n",
       "1534    6                  False  \n",
       "        8                  False  \n",
       "        9                  False  \n",
       "        11                 False  \n",
       "        12                 False  \n",
       "\n",
       "[11331 rows x 6 columns]"
      ]
     },
     "execution_count": 95,
     "metadata": {},
     "output_type": "execute_result"
    }
   ],
   "source": [
    "trips_data_by_user = data.pivot_table(\n",
    "    index=('user_id', 'month'),\n",
    "    values=('name', 'distance', 'duration', 'start_ride_price', 'minute_price', 'subscription_type'),\n",
    "    aggfunc={\n",
    "        'name': len,  # количество поездок\n",
    "        'distance': sum,  # общая дистанция\n",
    "        'duration': sum,  # общее время поездок\n",
    "        'start_ride_price': min,  # минимальная цена начала поездки\n",
    "        'minute_price': min,  # минимальная цена за минуту\n",
    "        'subscription_type': min  # тип подписки\n",
    "    }\n",
    ")\n",
    "\n",
    "trips_data_by_user"
   ]
  },
  {
   "cell_type": "markdown",
   "id": "dca8661a",
   "metadata": {},
   "source": [
    "В исходном датафрейме `data` мы увидели, как учитывается каждая поездка пользователя. Сгруппируем данные по имени и отобразим в столбце `trips_count`, сколько раз за месяц человек совершил поездку:"
   ]
  },
  {
   "cell_type": "code",
   "execution_count": 97,
   "id": "420c14db",
   "metadata": {},
   "outputs": [
    {
     "data": {
      "text/html": [
       "<div>\n",
       "<style scoped>\n",
       "    .dataframe tbody tr th:only-of-type {\n",
       "        vertical-align: middle;\n",
       "    }\n",
       "\n",
       "    .dataframe tbody tr th {\n",
       "        vertical-align: top;\n",
       "    }\n",
       "\n",
       "    .dataframe thead th {\n",
       "        text-align: right;\n",
       "    }\n",
       "</style>\n",
       "<table border=\"1\" class=\"dataframe\">\n",
       "  <thead>\n",
       "    <tr style=\"text-align: right;\">\n",
       "      <th></th>\n",
       "      <th></th>\n",
       "      <th>distance</th>\n",
       "      <th>duration</th>\n",
       "      <th>minute_price</th>\n",
       "      <th>trips_count</th>\n",
       "      <th>start_ride_price</th>\n",
       "      <th>subscription_type</th>\n",
       "    </tr>\n",
       "    <tr>\n",
       "      <th>user_id</th>\n",
       "      <th>month</th>\n",
       "      <th></th>\n",
       "      <th></th>\n",
       "      <th></th>\n",
       "      <th></th>\n",
       "      <th></th>\n",
       "      <th></th>\n",
       "    </tr>\n",
       "  </thead>\n",
       "  <tbody>\n",
       "    <tr>\n",
       "      <th rowspan=\"6\" valign=\"top\">1</th>\n",
       "      <th>1</th>\n",
       "      <td>7027.511294</td>\n",
       "      <td>42.0</td>\n",
       "      <td>6</td>\n",
       "      <td>2</td>\n",
       "      <td>0</td>\n",
       "      <td>True</td>\n",
       "    </tr>\n",
       "    <tr>\n",
       "      <th>4</th>\n",
       "      <td>754.159807</td>\n",
       "      <td>7.0</td>\n",
       "      <td>6</td>\n",
       "      <td>1</td>\n",
       "      <td>0</td>\n",
       "      <td>True</td>\n",
       "    </tr>\n",
       "    <tr>\n",
       "      <th>8</th>\n",
       "      <td>6723.470560</td>\n",
       "      <td>46.0</td>\n",
       "      <td>6</td>\n",
       "      <td>2</td>\n",
       "      <td>0</td>\n",
       "      <td>True</td>\n",
       "    </tr>\n",
       "    <tr>\n",
       "      <th>10</th>\n",
       "      <td>5809.911100</td>\n",
       "      <td>32.0</td>\n",
       "      <td>6</td>\n",
       "      <td>2</td>\n",
       "      <td>0</td>\n",
       "      <td>True</td>\n",
       "    </tr>\n",
       "    <tr>\n",
       "      <th>11</th>\n",
       "      <td>7003.499363</td>\n",
       "      <td>56.0</td>\n",
       "      <td>6</td>\n",
       "      <td>3</td>\n",
       "      <td>0</td>\n",
       "      <td>True</td>\n",
       "    </tr>\n",
       "    <tr>\n",
       "      <th>12</th>\n",
       "      <td>6751.629942</td>\n",
       "      <td>28.0</td>\n",
       "      <td>6</td>\n",
       "      <td>2</td>\n",
       "      <td>0</td>\n",
       "      <td>True</td>\n",
       "    </tr>\n",
       "    <tr>\n",
       "      <th rowspan=\"7\" valign=\"top\">2</th>\n",
       "      <th>3</th>\n",
       "      <td>10187.723006</td>\n",
       "      <td>63.0</td>\n",
       "      <td>6</td>\n",
       "      <td>3</td>\n",
       "      <td>0</td>\n",
       "      <td>True</td>\n",
       "    </tr>\n",
       "    <tr>\n",
       "      <th>4</th>\n",
       "      <td>6164.381824</td>\n",
       "      <td>40.0</td>\n",
       "      <td>6</td>\n",
       "      <td>2</td>\n",
       "      <td>0</td>\n",
       "      <td>True</td>\n",
       "    </tr>\n",
       "    <tr>\n",
       "      <th>6</th>\n",
       "      <td>3255.338202</td>\n",
       "      <td>14.0</td>\n",
       "      <td>6</td>\n",
       "      <td>1</td>\n",
       "      <td>0</td>\n",
       "      <td>True</td>\n",
       "    </tr>\n",
       "    <tr>\n",
       "      <th>7</th>\n",
       "      <td>6780.722964</td>\n",
       "      <td>48.0</td>\n",
       "      <td>6</td>\n",
       "      <td>2</td>\n",
       "      <td>0</td>\n",
       "      <td>True</td>\n",
       "    </tr>\n",
       "    <tr>\n",
       "      <th>8</th>\n",
       "      <td>923.007439</td>\n",
       "      <td>7.0</td>\n",
       "      <td>6</td>\n",
       "      <td>1</td>\n",
       "      <td>0</td>\n",
       "      <td>True</td>\n",
       "    </tr>\n",
       "    <tr>\n",
       "      <th>10</th>\n",
       "      <td>2824.636598</td>\n",
       "      <td>19.0</td>\n",
       "      <td>6</td>\n",
       "      <td>1</td>\n",
       "      <td>0</td>\n",
       "      <td>True</td>\n",
       "    </tr>\n",
       "    <tr>\n",
       "      <th>12</th>\n",
       "      <td>3828.248580</td>\n",
       "      <td>12.0</td>\n",
       "      <td>6</td>\n",
       "      <td>1</td>\n",
       "      <td>0</td>\n",
       "      <td>True</td>\n",
       "    </tr>\n",
       "    <tr>\n",
       "      <th rowspan=\"7\" valign=\"top\">3</th>\n",
       "      <th>1</th>\n",
       "      <td>3061.777147</td>\n",
       "      <td>13.0</td>\n",
       "      <td>6</td>\n",
       "      <td>1</td>\n",
       "      <td>0</td>\n",
       "      <td>True</td>\n",
       "    </tr>\n",
       "    <tr>\n",
       "      <th>2</th>\n",
       "      <td>5421.152016</td>\n",
       "      <td>39.0</td>\n",
       "      <td>6</td>\n",
       "      <td>2</td>\n",
       "      <td>0</td>\n",
       "      <td>True</td>\n",
       "    </tr>\n",
       "    <tr>\n",
       "      <th>4</th>\n",
       "      <td>2956.651632</td>\n",
       "      <td>21.0</td>\n",
       "      <td>6</td>\n",
       "      <td>1</td>\n",
       "      <td>0</td>\n",
       "      <td>True</td>\n",
       "    </tr>\n",
       "    <tr>\n",
       "      <th>5</th>\n",
       "      <td>9064.026918</td>\n",
       "      <td>63.0</td>\n",
       "      <td>6</td>\n",
       "      <td>3</td>\n",
       "      <td>0</td>\n",
       "      <td>True</td>\n",
       "    </tr>\n",
       "    <tr>\n",
       "      <th>7</th>\n",
       "      <td>10919.595403</td>\n",
       "      <td>67.0</td>\n",
       "      <td>6</td>\n",
       "      <td>3</td>\n",
       "      <td>0</td>\n",
       "      <td>True</td>\n",
       "    </tr>\n",
       "    <tr>\n",
       "      <th>9</th>\n",
       "      <td>2891.012822</td>\n",
       "      <td>23.0</td>\n",
       "      <td>6</td>\n",
       "      <td>1</td>\n",
       "      <td>0</td>\n",
       "      <td>True</td>\n",
       "    </tr>\n",
       "    <tr>\n",
       "      <th>12</th>\n",
       "      <td>2593.381928</td>\n",
       "      <td>13.0</td>\n",
       "      <td>6</td>\n",
       "      <td>1</td>\n",
       "      <td>0</td>\n",
       "      <td>True</td>\n",
       "    </tr>\n",
       "  </tbody>\n",
       "</table>\n",
       "</div>"
      ],
      "text/plain": [
       "                   distance  duration  minute_price  trips_count  \\\n",
       "user_id month                                                      \n",
       "1       1       7027.511294      42.0             6            2   \n",
       "        4        754.159807       7.0             6            1   \n",
       "        8       6723.470560      46.0             6            2   \n",
       "        10      5809.911100      32.0             6            2   \n",
       "        11      7003.499363      56.0             6            3   \n",
       "        12      6751.629942      28.0             6            2   \n",
       "2       3      10187.723006      63.0             6            3   \n",
       "        4       6164.381824      40.0             6            2   \n",
       "        6       3255.338202      14.0             6            1   \n",
       "        7       6780.722964      48.0             6            2   \n",
       "        8        923.007439       7.0             6            1   \n",
       "        10      2824.636598      19.0             6            1   \n",
       "        12      3828.248580      12.0             6            1   \n",
       "3       1       3061.777147      13.0             6            1   \n",
       "        2       5421.152016      39.0             6            2   \n",
       "        4       2956.651632      21.0             6            1   \n",
       "        5       9064.026918      63.0             6            3   \n",
       "        7      10919.595403      67.0             6            3   \n",
       "        9       2891.012822      23.0             6            1   \n",
       "        12      2593.381928      13.0             6            1   \n",
       "\n",
       "               start_ride_price  subscription_type  \n",
       "user_id month                                       \n",
       "1       1                     0               True  \n",
       "        4                     0               True  \n",
       "        8                     0               True  \n",
       "        10                    0               True  \n",
       "        11                    0               True  \n",
       "        12                    0               True  \n",
       "2       3                     0               True  \n",
       "        4                     0               True  \n",
       "        6                     0               True  \n",
       "        7                     0               True  \n",
       "        8                     0               True  \n",
       "        10                    0               True  \n",
       "        12                    0               True  \n",
       "3       1                     0               True  \n",
       "        2                     0               True  \n",
       "        4                     0               True  \n",
       "        5                     0               True  \n",
       "        7                     0               True  \n",
       "        9                     0               True  \n",
       "        12                    0               True  "
      ]
     },
     "execution_count": 97,
     "metadata": {},
     "output_type": "execute_result"
    }
   ],
   "source": [
    "trips_data_by_user.rename(columns = {'name':'trips_count'}, inplace=True)\n",
    "\n",
    "trips_data_by_user.head(20)"
   ]
  },
  {
   "cell_type": "code",
   "execution_count": 64,
   "id": "fb37d609",
   "metadata": {},
   "outputs": [
    {
     "data": {
      "text/html": [
       "<div>\n",
       "<style scoped>\n",
       "    .dataframe tbody tr th:only-of-type {\n",
       "        vertical-align: middle;\n",
       "    }\n",
       "\n",
       "    .dataframe tbody tr th {\n",
       "        vertical-align: top;\n",
       "    }\n",
       "\n",
       "    .dataframe thead th {\n",
       "        text-align: right;\n",
       "    }\n",
       "</style>\n",
       "<table border=\"1\" class=\"dataframe\">\n",
       "  <thead>\n",
       "    <tr style=\"text-align: right;\">\n",
       "      <th></th>\n",
       "      <th></th>\n",
       "      <th>distance</th>\n",
       "      <th>duration</th>\n",
       "      <th>minute_price</th>\n",
       "      <th>trips_count</th>\n",
       "      <th>start_ride_price</th>\n",
       "      <th>subscription_type</th>\n",
       "    </tr>\n",
       "    <tr>\n",
       "      <th>user_id</th>\n",
       "      <th>month</th>\n",
       "      <th></th>\n",
       "      <th></th>\n",
       "      <th></th>\n",
       "      <th></th>\n",
       "      <th></th>\n",
       "      <th></th>\n",
       "    </tr>\n",
       "  </thead>\n",
       "  <tbody>\n",
       "    <tr>\n",
       "      <th>1</th>\n",
       "      <th>1</th>\n",
       "      <td>7027.511294</td>\n",
       "      <td>42.0</td>\n",
       "      <td>6</td>\n",
       "      <td>2</td>\n",
       "      <td>0</td>\n",
       "      <td>True</td>\n",
       "    </tr>\n",
       "    <tr>\n",
       "      <th>686</th>\n",
       "      <th>1</th>\n",
       "      <td>9891.825690</td>\n",
       "      <td>53.0</td>\n",
       "      <td>6</td>\n",
       "      <td>3</td>\n",
       "      <td>0</td>\n",
       "      <td>True</td>\n",
       "    </tr>\n",
       "    <tr>\n",
       "      <th>685</th>\n",
       "      <th>1</th>\n",
       "      <td>4837.670420</td>\n",
       "      <td>47.0</td>\n",
       "      <td>6</td>\n",
       "      <td>2</td>\n",
       "      <td>0</td>\n",
       "      <td>True</td>\n",
       "    </tr>\n",
       "    <tr>\n",
       "      <th>682</th>\n",
       "      <th>1</th>\n",
       "      <td>2929.820795</td>\n",
       "      <td>25.0</td>\n",
       "      <td>6</td>\n",
       "      <td>1</td>\n",
       "      <td>0</td>\n",
       "      <td>True</td>\n",
       "    </tr>\n",
       "    <tr>\n",
       "      <th>680</th>\n",
       "      <th>1</th>\n",
       "      <td>3316.977004</td>\n",
       "      <td>18.0</td>\n",
       "      <td>6</td>\n",
       "      <td>1</td>\n",
       "      <td>0</td>\n",
       "      <td>True</td>\n",
       "    </tr>\n",
       "    <tr>\n",
       "      <th>679</th>\n",
       "      <th>1</th>\n",
       "      <td>6407.866143</td>\n",
       "      <td>38.0</td>\n",
       "      <td>6</td>\n",
       "      <td>2</td>\n",
       "      <td>0</td>\n",
       "      <td>True</td>\n",
       "    </tr>\n",
       "    <tr>\n",
       "      <th>675</th>\n",
       "      <th>1</th>\n",
       "      <td>3907.983157</td>\n",
       "      <td>21.0</td>\n",
       "      <td>6</td>\n",
       "      <td>1</td>\n",
       "      <td>0</td>\n",
       "      <td>True</td>\n",
       "    </tr>\n",
       "    <tr>\n",
       "      <th>674</th>\n",
       "      <th>1</th>\n",
       "      <td>2952.626152</td>\n",
       "      <td>11.0</td>\n",
       "      <td>6</td>\n",
       "      <td>1</td>\n",
       "      <td>0</td>\n",
       "      <td>True</td>\n",
       "    </tr>\n",
       "    <tr>\n",
       "      <th>673</th>\n",
       "      <th>1</th>\n",
       "      <td>3371.773487</td>\n",
       "      <td>24.0</td>\n",
       "      <td>6</td>\n",
       "      <td>1</td>\n",
       "      <td>0</td>\n",
       "      <td>True</td>\n",
       "    </tr>\n",
       "    <tr>\n",
       "      <th>671</th>\n",
       "      <th>1</th>\n",
       "      <td>3649.397977</td>\n",
       "      <td>12.0</td>\n",
       "      <td>6</td>\n",
       "      <td>1</td>\n",
       "      <td>0</td>\n",
       "      <td>True</td>\n",
       "    </tr>\n",
       "  </tbody>\n",
       "</table>\n",
       "</div>"
      ],
      "text/plain": [
       "                  distance  duration  minute_price  trips_count  \\\n",
       "user_id month                                                     \n",
       "1       1      7027.511294      42.0             6            2   \n",
       "686     1      9891.825690      53.0             6            3   \n",
       "685     1      4837.670420      47.0             6            2   \n",
       "682     1      2929.820795      25.0             6            1   \n",
       "680     1      3316.977004      18.0             6            1   \n",
       "679     1      6407.866143      38.0             6            2   \n",
       "675     1      3907.983157      21.0             6            1   \n",
       "674     1      2952.626152      11.0             6            1   \n",
       "673     1      3371.773487      24.0             6            1   \n",
       "671     1      3649.397977      12.0             6            1   \n",
       "\n",
       "               start_ride_price  subscription_type  \n",
       "user_id month                                       \n",
       "1       1                     0               True  \n",
       "686     1                     0               True  \n",
       "685     1                     0               True  \n",
       "682     1                     0               True  \n",
       "680     1                     0               True  \n",
       "679     1                     0               True  \n",
       "675     1                     0               True  \n",
       "674     1                     0               True  \n",
       "673     1                     0               True  \n",
       "671     1                     0               True  "
      ]
     },
     "execution_count": 64,
     "metadata": {},
     "output_type": "execute_result"
    }
   ],
   "source": [
    "trips_data_by_user.sort_values(by='month').head(10)"
   ]
  },
  {
   "cell_type": "markdown",
   "id": "8bb82799",
   "metadata": {},
   "source": [
    "Перед добавлением столбца с помесячной выручкой проверим новую таблицу на пропуски"
   ]
  },
  {
   "cell_type": "code",
   "execution_count": 65,
   "id": "358c3aca",
   "metadata": {},
   "outputs": [
    {
     "data": {
      "text/plain": [
       "distance             0\n",
       "duration             0\n",
       "minute_price         0\n",
       "trips_count          0\n",
       "start_ride_price     0\n",
       "subscription_type    0\n",
       "dtype: int64"
      ]
     },
     "execution_count": 65,
     "metadata": {},
     "output_type": "execute_result"
    }
   ],
   "source": [
    "trips_data_by_user.isna().sum()"
   ]
  },
  {
   "cell_type": "markdown",
   "id": "e831cdb5",
   "metadata": {},
   "source": [
    "Пропуски не наблюдаем"
   ]
  },
  {
   "cell_type": "markdown",
   "id": "17584737",
   "metadata": {},
   "source": [
    "**Добавим столбец с помесячной выручкой**"
   ]
  },
  {
   "cell_type": "code",
   "execution_count": 99,
   "id": "fd8a27ef",
   "metadata": {},
   "outputs": [
    {
     "data": {
      "text/html": [
       "<div>\n",
       "<style scoped>\n",
       "    .dataframe tbody tr th:only-of-type {\n",
       "        vertical-align: middle;\n",
       "    }\n",
       "\n",
       "    .dataframe tbody tr th {\n",
       "        vertical-align: top;\n",
       "    }\n",
       "\n",
       "    .dataframe thead th {\n",
       "        text-align: right;\n",
       "    }\n",
       "</style>\n",
       "<table border=\"1\" class=\"dataframe\">\n",
       "  <thead>\n",
       "    <tr style=\"text-align: right;\">\n",
       "      <th></th>\n",
       "      <th></th>\n",
       "      <th>distance</th>\n",
       "      <th>duration</th>\n",
       "      <th>minute_price</th>\n",
       "      <th>trips_count</th>\n",
       "      <th>start_ride_price</th>\n",
       "      <th>subscription_type</th>\n",
       "      <th>profit</th>\n",
       "    </tr>\n",
       "    <tr>\n",
       "      <th>user_id</th>\n",
       "      <th>month</th>\n",
       "      <th></th>\n",
       "      <th></th>\n",
       "      <th></th>\n",
       "      <th></th>\n",
       "      <th></th>\n",
       "      <th></th>\n",
       "      <th></th>\n",
       "    </tr>\n",
       "  </thead>\n",
       "  <tbody>\n",
       "    <tr>\n",
       "      <th rowspan=\"5\" valign=\"top\">1</th>\n",
       "      <th>1</th>\n",
       "      <td>7027.511294</td>\n",
       "      <td>42.0</td>\n",
       "      <td>6</td>\n",
       "      <td>2</td>\n",
       "      <td>0</td>\n",
       "      <td>True</td>\n",
       "      <td>451.0</td>\n",
       "    </tr>\n",
       "    <tr>\n",
       "      <th>4</th>\n",
       "      <td>754.159807</td>\n",
       "      <td>7.0</td>\n",
       "      <td>6</td>\n",
       "      <td>1</td>\n",
       "      <td>0</td>\n",
       "      <td>True</td>\n",
       "      <td>241.0</td>\n",
       "    </tr>\n",
       "    <tr>\n",
       "      <th>8</th>\n",
       "      <td>6723.470560</td>\n",
       "      <td>46.0</td>\n",
       "      <td>6</td>\n",
       "      <td>2</td>\n",
       "      <td>0</td>\n",
       "      <td>True</td>\n",
       "      <td>475.0</td>\n",
       "    </tr>\n",
       "    <tr>\n",
       "      <th>10</th>\n",
       "      <td>5809.911100</td>\n",
       "      <td>32.0</td>\n",
       "      <td>6</td>\n",
       "      <td>2</td>\n",
       "      <td>0</td>\n",
       "      <td>True</td>\n",
       "      <td>391.0</td>\n",
       "    </tr>\n",
       "    <tr>\n",
       "      <th>11</th>\n",
       "      <td>7003.499363</td>\n",
       "      <td>56.0</td>\n",
       "      <td>6</td>\n",
       "      <td>3</td>\n",
       "      <td>0</td>\n",
       "      <td>True</td>\n",
       "      <td>535.0</td>\n",
       "    </tr>\n",
       "    <tr>\n",
       "      <th>...</th>\n",
       "      <th>...</th>\n",
       "      <td>...</td>\n",
       "      <td>...</td>\n",
       "      <td>...</td>\n",
       "      <td>...</td>\n",
       "      <td>...</td>\n",
       "      <td>...</td>\n",
       "      <td>...</td>\n",
       "    </tr>\n",
       "    <tr>\n",
       "      <th rowspan=\"5\" valign=\"top\">1534</th>\n",
       "      <th>6</th>\n",
       "      <td>3409.468534</td>\n",
       "      <td>26.0</td>\n",
       "      <td>8</td>\n",
       "      <td>2</td>\n",
       "      <td>50</td>\n",
       "      <td>False</td>\n",
       "      <td>308.0</td>\n",
       "    </tr>\n",
       "    <tr>\n",
       "      <th>8</th>\n",
       "      <td>7622.453034</td>\n",
       "      <td>48.0</td>\n",
       "      <td>8</td>\n",
       "      <td>2</td>\n",
       "      <td>50</td>\n",
       "      <td>False</td>\n",
       "      <td>484.0</td>\n",
       "    </tr>\n",
       "    <tr>\n",
       "      <th>9</th>\n",
       "      <td>4928.173852</td>\n",
       "      <td>23.0</td>\n",
       "      <td>8</td>\n",
       "      <td>1</td>\n",
       "      <td>50</td>\n",
       "      <td>False</td>\n",
       "      <td>234.0</td>\n",
       "    </tr>\n",
       "    <tr>\n",
       "      <th>11</th>\n",
       "      <td>13350.015305</td>\n",
       "      <td>78.0</td>\n",
       "      <td>8</td>\n",
       "      <td>4</td>\n",
       "      <td>50</td>\n",
       "      <td>False</td>\n",
       "      <td>824.0</td>\n",
       "    </tr>\n",
       "    <tr>\n",
       "      <th>12</th>\n",
       "      <td>2371.711192</td>\n",
       "      <td>16.0</td>\n",
       "      <td>8</td>\n",
       "      <td>1</td>\n",
       "      <td>50</td>\n",
       "      <td>False</td>\n",
       "      <td>178.0</td>\n",
       "    </tr>\n",
       "  </tbody>\n",
       "</table>\n",
       "<p>11331 rows × 7 columns</p>\n",
       "</div>"
      ],
      "text/plain": [
       "                   distance  duration  minute_price  trips_count  \\\n",
       "user_id month                                                      \n",
       "1       1       7027.511294      42.0             6            2   \n",
       "        4        754.159807       7.0             6            1   \n",
       "        8       6723.470560      46.0             6            2   \n",
       "        10      5809.911100      32.0             6            2   \n",
       "        11      7003.499363      56.0             6            3   \n",
       "...                     ...       ...           ...          ...   \n",
       "1534    6       3409.468534      26.0             8            2   \n",
       "        8       7622.453034      48.0             8            2   \n",
       "        9       4928.173852      23.0             8            1   \n",
       "        11     13350.015305      78.0             8            4   \n",
       "        12      2371.711192      16.0             8            1   \n",
       "\n",
       "               start_ride_price  subscription_type  profit  \n",
       "user_id month                                               \n",
       "1       1                     0               True   451.0  \n",
       "        4                     0               True   241.0  \n",
       "        8                     0               True   475.0  \n",
       "        10                    0               True   391.0  \n",
       "        11                    0               True   535.0  \n",
       "...                         ...                ...     ...  \n",
       "1534    6                    50              False   308.0  \n",
       "        8                    50              False   484.0  \n",
       "        9                    50              False   234.0  \n",
       "        11                   50              False   824.0  \n",
       "        12                   50              False   178.0  \n",
       "\n",
       "[11331 rows x 7 columns]"
      ]
     },
     "execution_count": 99,
     "metadata": {},
     "output_type": "execute_result"
    }
   ],
   "source": [
    "def profit(row):\n",
    "    if row['subscription_type']:  # проверка на присутствие подписки\n",
    "        return 6 * row['duration'] + 199\n",
    "    else:\n",
    "        return 8 * row['duration'] + 50 * row['trips_count']\n",
    "\n",
    "trips_data_by_user['profit'] = trips_data_by_user.apply(profit, axis=1)\n",
    "\n",
    "trips_data_by_user"
   ]
  },
  {
   "cell_type": "markdown",
   "id": "4f69c14d",
   "metadata": {},
   "source": [
    "#### Помесячная выручка"
   ]
  },
  {
   "cell_type": "code",
   "execution_count": 100,
   "id": "3f40702b",
   "metadata": {},
   "outputs": [
    {
     "data": {
      "text/plain": [
       "month\n",
       "1     337958.0\n",
       "2     290428.0\n",
       "3     329822.0\n",
       "4     322916.0\n",
       "5     337265.0\n",
       "6     335978.0\n",
       "7     328504.0\n",
       "8     325650.0\n",
       "9     323037.0\n",
       "10    315360.0\n",
       "11    305622.0\n",
       "12    326101.0\n",
       "Name: profit, dtype: float64"
      ]
     },
     "metadata": {},
     "output_type": "display_data"
    }
   ],
   "source": [
    "profit_by_month = trips_data_by_user.groupby('month')['profit'].sum()\n",
    "display(profit_by_month)"
   ]
  },
  {
   "cell_type": "code",
   "execution_count": 68,
   "id": "c317a89f",
   "metadata": {},
   "outputs": [
    {
     "data": {
      "text/plain": [
       "count        12.000000\n",
       "mean     323220.083333\n",
       "std       13849.383731\n",
       "min      290428.000000\n",
       "25%      321027.000000\n",
       "50%      325875.500000\n",
       "75%      331361.000000\n",
       "max      337958.000000\n",
       "Name: profit, dtype: float64"
      ]
     },
     "execution_count": 68,
     "metadata": {},
     "output_type": "execute_result"
    }
   ],
   "source": [
    "profit_by_month.describe()"
   ]
  },
  {
   "cell_type": "markdown",
   "id": "19d8478b",
   "metadata": {},
   "source": [
    "Посмотрим, как это выглядит на графике"
   ]
  },
  {
   "cell_type": "code",
   "execution_count": 101,
   "id": "e53cee52",
   "metadata": {},
   "outputs": [
    {
     "data": {
      "image/png": "[encoded data removed]",
      "text/plain": [
       "<Figure size 1000x600 with 1 Axes>"
      ]
     },
     "metadata": {},
     "output_type": "display_data"
    }
   ],
   "source": [
    "profit_by_month.sort_values(ascending=False).plot(kind='bar', edgecolor='black', figsize=(10, 6))\n",
    "plt.title('Выручка по месяцам')\n",
    "plt.xlabel('Месяцы')\n",
    "plt.ylabel('Доход, руб.')\n",
    "plt.grid(False)\n",
    "plt.show()"
   ]
  },
  {
   "cell_type": "code",
   "execution_count": 104,
   "id": "edeec00c",
   "metadata": {},
   "outputs": [
    {
     "data": {
      "image/png": "[encoded data removed]",
      "text/plain": [
       "<Figure size 800x800 with 1 Axes>"
      ]
     },
     "metadata": {},
     "output_type": "display_data"
    }
   ],
   "source": [
    "colors = ['lightblue', 'beige', 'lightcoral', 'grey', 'tan', 'silver']\n",
    "\n",
    "plt.figure(figsize=(8, 8))\n",
    "plt.pie(profit_by_month, labels=profit_by_month.index, autopct='%1.1f%%', colors=colors, startangle=140)\n",
    "plt.axis('equal') \n",
    "plt.title('Выручка по месяцам')\n",
    "plt.ylabel('')\n",
    "plt.show()"
   ]
  },
  {
   "cell_type": "markdown",
   "id": "d75a2060",
   "metadata": {},
   "source": [
    "Итого, **выручка за 2021 составила**:"
   ]
  },
  {
   "cell_type": "code",
   "execution_count": 71,
   "id": "4fd5b5e7",
   "metadata": {},
   "outputs": [
    {
     "name": "stdout",
     "output_type": "stream",
     "text": [
      "3878641.0 руб.\n"
     ]
    }
   ],
   "source": [
    "print(trips_data_by_user['profit'].sum(), 'руб.')"
   ]
  },
  {
   "cell_type": "markdown",
   "id": "88265d0e",
   "metadata": {},
   "source": [
    "#### Промежуточный вывод\n",
    "\n",
    "Выручка сервиса аренды самокатов \"GoFast\" за год составила 3 878 641 руб.\n",
    "\n",
    "`Среднемесячный заработок` — 325 875 руб. `Наименышая выручка` наблюдалась в феврале 2021 года, тогда сервис заработал `290 428 рублей`. Подробный спад наблюдался и в ноябре. Предположительно, сильное влияние оказала дождливая\n",
    "погода. В январе и декабре видим высокую доходность. `Наибольшая выручка` наблюдалась в январе и `составила 337 958 руб`. Хорошие морозы и противогололедные реагенты делают свое дело."
   ]
  },
  {
   "cell_type": "markdown",
   "id": "41545ac0",
   "metadata": {},
   "source": [
    "## Шаг 6. Проверка гипотез"
   ]
  },
  {
   "cell_type": "markdown",
   "id": "4c5e27a7",
   "metadata": {},
   "source": [
    "#### Тратят ли пользователи с подпиской больше времени на поездки"
   ]
  },
  {
   "cell_type": "markdown",
   "id": "15b08cb7",
   "metadata": {},
   "source": [
    "Выдвинем гипотезы:\n",
    "\n",
    "* Н0: Средние продолжительности поездок с разными тарифами равны\n",
    "* Н1: Средняя продолжительность поездок с тарифом Ultra больше средней продолжительности поездок с тарифом Free"
   ]
  },
  {
   "cell_type": "code",
   "execution_count": 72,
   "id": "d3f68f50",
   "metadata": {},
   "outputs": [
    {
     "name": "stdout",
     "output_type": "stream",
     "text": [
      "p-значение: 1.2804098316645618e-34\n",
      "Отвергаем нулевую гипотезу\n"
     ]
    }
   ],
   "source": [
    "alpha = 0.05\n",
    "\n",
    "results = st.ttest_ind(ultra_data['duration'], \n",
    "                       free_data['duration'], \n",
    "                       alternative='greater')\n",
    "\n",
    "print('p-значение:', results.pvalue)\n",
    "\n",
    "if results.pvalue < alpha:\n",
    "    print('Отвергаем нулевую гипотезу')\n",
    "else:\n",
    "    print('Не удалось отвергнуть нулевую гипотезу')"
   ]
  },
  {
   "cell_type": "markdown",
   "id": "36c5d789",
   "metadata": {},
   "source": [
    "Действительно: пользователи с подпиской тратят больше времени на поездки. Гипотеза о том, что поездки с разными тарифами равны, не подтвердилась."
   ]
  },
  {
   "cell_type": "markdown",
   "id": "e68f8252",
   "metadata": {},
   "source": [
    "#### Оптимальное растояние поездки с точки зрения износа самоката"
   ]
  },
  {
   "cell_type": "markdown",
   "id": "9dbabf89",
   "metadata": {},
   "source": [
    "Выдвинем гипотезы:\n",
    "\n",
    "* Н0: Среднее расстояние поездок с тарифом Ultra равно оптимальному расстоянию в 3130 метров.\n",
    "* Н1: Среднее расстояние поездок с тарифом Ultra больше оптимального в 3130 метров."
   ]
  },
  {
   "cell_type": "code",
   "execution_count": 73,
   "id": "1958d7d3",
   "metadata": {},
   "outputs": [
    {
     "name": "stdout",
     "output_type": "stream",
     "text": [
      "p-значение: 0.9195368847849785\n",
      "Не удалось отвергнуть нулевую гипотезу\n"
     ]
    }
   ],
   "source": [
    "interested_value = 3130.0\n",
    "\n",
    "alpha = 0.05\n",
    "\n",
    "results = st.ttest_1samp(ultra_data['distance'], \n",
    "                         interested_value,\n",
    "                         alternative='greater')\n",
    "\n",
    "print('p-значение:', results.pvalue)\n",
    "\n",
    "if (results.pvalue < alpha):\n",
    "    print('Отвергаем нулевую гипотезу')\n",
    "else:\n",
    "    print('Не удалось отвергнуть нулевую гипотезу')"
   ]
  },
  {
   "cell_type": "markdown",
   "id": "d298d4cf",
   "metadata": {},
   "source": [
    "Нулевая теория подтвердилась: подписчики (с тарифом Ultra) в среднем проезжают оптимальное расстояние."
   ]
  },
  {
   "cell_type": "markdown",
   "id": "454615d0",
   "metadata": {},
   "source": [
    "#### Помесячная выручка от пользователей с подпиской выше, чем выручка от пользователей без подписки"
   ]
  },
  {
   "cell_type": "markdown",
   "id": "c631db88",
   "metadata": {},
   "source": [
    "Выдвинем гипотезы:\n",
    "\n",
    " * Н0: Помесячная средняя выручка от пользователей с тарифом Ultra равна помесячной средней выручке от пользователей с тарифом Free.\n",
    " * Н1: Помесячная средняя выручка от пользователей с тарифом Ultra больше помесячной средней выручки от пользователей с тарифом Free."
   ]
  },
  {
   "cell_type": "code",
   "execution_count": 74,
   "id": "28473fdf",
   "metadata": {},
   "outputs": [
    {
     "name": "stdout",
     "output_type": "stream",
     "text": [
      "p-значение: 1.8850394384715216e-31\n",
      "Отвергаем нулевую гипотезу\n"
     ]
    }
   ],
   "source": [
    "ultra = trips_data_by_user.query('start_ride_price == 0')['profit']\n",
    "free = trips_data_by_user.query('start_ride_price > 0')['profit']\n",
    "\n",
    "alpha = 0.05\n",
    "\n",
    "results = st.ttest_ind(ultra, \n",
    "                       free,\n",
    "                       alternative = 'greater')\n",
    "\n",
    "print('p-значение:', results.pvalue)\n",
    "\n",
    "if results.pvalue < alpha:\n",
    "    print('Отвергаем нулевую гипотезу')\n",
    "else:\n",
    "    print('Не получилось отвергнуть нулевую гипотезу')"
   ]
  },
  {
   "cell_type": "markdown",
   "id": "c1d1d593",
   "metadata": {},
   "source": [
    "Помесячная выручка от пользователей с тарифом Ultra превышает выручку от пользователей с тарифом Free."
   ]
  },
  {
   "cell_type": "markdown",
   "id": "f35970f4",
   "metadata": {},
   "source": [
    "**Дополнительный вопрос**\n",
    "\n",
    "#### Снизилось ли количество обращений в техподдержку? "
   ]
  },
  {
   "cell_type": "markdown",
   "id": "e39073d9",
   "metadata": {},
   "source": [
    "Техническая команда сервиса обновила сервера, с которыми взаимодействует мобильное приложение. Она надеется, что из-за этого количество обращений в техподдержку значимо снизится. Снизилось ли количество обращений в техподдержку?"
   ]
  },
  {
   "cell_type": "markdown",
   "id": "34410a76",
   "metadata": {},
   "source": [
    "Выдвинем гипотезы:\n",
    "\n",
    "* H0: Средннее количество обращений после обновления равно среднему количеству обращений до обновления\n",
    "* H1: Среднее количество обращений после обновления больше, чем среднее количество обращений до обновления"
   ]
  },
  {
   "cell_type": "markdown",
   "id": "fd47aeec",
   "metadata": {},
   "source": [
    "Для решения потребуется тест на равенство средних для зависимых выборок, до и после изменений. Это парные выборки, будем использовать метод `scipy.stats.ttest_rel()`.\n",
    "\n",
    "В аргументе напишем `alternative='less'`, в случае отклонения нулевая гипотеза будет отвергнута в пользу альтернативной гипотезы, утверждающей, что параметр менее чем определенное значение. Таким образом, при использовании alternative='less' отклонение нулевой гипотезы будет происходить при показателях, значительно ниже заданного уровня значимости."
   ]
  },
  {
   "cell_type": "markdown",
   "id": "61213c5e",
   "metadata": {},
   "source": [
    "## Шаг 7. Вывод"
   ]
  },
  {
   "cell_type": "markdown",
   "id": "18f82e48",
   "metadata": {},
   "source": [
    "Был обработано три массива данных. Каждый был проверен на пропуски и дубликаты, был добавлен столбец с номером месяца, скорректированы типы данных, объединены данные о пользователях, поездках и подписках в один датафрейм, а также созданы два датафрейма с пользователями с платным и бесплатным тарифом. Визуализировали информацию о расстоянии и времени поездки для пользоватей каждого тарифа. Подсчитали выручку. Проверили гипотезы.\n",
    "\n",
    "**В проведенном анализе обнаружили:**\n",
    "\n",
    "Пользователей с бесплатным тарифом Free — 835 человек, что составляет 54.43% от общего числа пользователей, это на 136 больше, чем пользователей с платным тарифом Ultra.\n",
    "\n",
    "Услугами сервиса аренды самокатов пользуются люди в возрасте от 12 до 43 лет. Наибольшее количество пользователей достигается в возрасте 25 лет, который также является медианным значением.\n",
    "\n",
    "Наибольшее количество поездок было совершено в городе Пятигорске — 219, в то время как минимальное количество поездок было зафиксировано в Москве — 168.\n",
    "\n",
    "Расстояние, преодоленное за одну поездку, варьируется от 1 до 7211 метров. В основном пользователи проезжают от 2.5 до 4 километров. Медианное значение этого показателя составляет 3133 метра. Наблюдается два пика: один около 700 метров и другой около 3200 метров. Между этими пиками значения распределены нормально.\n",
    "\n",
    "Продолжительность поездок также нормально распределена и варьируется от 0 до 41 минуты. Наиболее часто встречающееся и медианное значение — 18 минут.\n",
    "\n",
    "У пользователей бесплатного тарифа время поездки составляет от 10 до 30 минут, и проезжают они от 2 до 4 км, есть пользователи, которые проехали больше 5 километров.\n",
    "\n",
    "У пользователей с платным тарифом длительность поездок составляет от 15 до 25 минут. Пик расстояния приходится на 3 километра.\n",
    "\n",
    "Из чего было выяснено: пользователи с подпиской тратят больше времени на поездки. Гипотеза о том, что поездки с разными тарифами равны, не подтвердилась.\n",
    "\n",
    "Так же была подтверждена гипотеза, что месячная выручка от пользователей с тарифом Ultra превышает выручку от пользователей с тарифом Free.\n",
    "\n",
    "Выручка сервиса аренды самокатов \"GoFast\" за 2021 год составила 3 878 641 руб.\n",
    "\n",
    "Среднемесячный заработок — 325 875 руб. \n",
    "\n",
    "Наименышая выручка наблюдалась в феврале 2021 года, тогда сервис заработал 290 428 рублей. Подробный спад наблюдался и в ноябре. Предположительно, сильное влияние оказала дождливая погода. \n",
    "\n",
    "В январе и декабре видим высокую доходность. Наибольшая выручка наблюдалась в январе и составила 337 958 руб. \n",
    "\n",
    "\n",
    "**Исходя из проведенного анализа данных о бизнесе по аренде самокатов, можно предложить следующие рекомендации:**\n",
    "\n",
    " * Пользователи с платным тарифом Ultra тратят больше времени на поездки и приносят более высокую выручку, можно пересмотреть условия бесплатного тарифа Free, введя дополнительные услуги;\n",
    " * Hа основе выявленных данных о сезонных колебаниях выручки, можно разработать акции и сезонные скидки, направленные на стимулирование спроса в периоды с наименьшей активностью;\n",
    " * Учитывая различие в количестве поездок в различных городах, стоит рассмотреть возможность расширения географии предоставляемых услуг;\n",
    " * Также можно проводить специальные мероприятия и акции для повышения спроса;\n",
    " * Важно продолжать анализировать данные о поездках, пользователях и выручке, для развития бизнеса и повышения его эффективности.\n",
    " \n",
    "Применение этих рекомендаций поможет оптимизировать бизнес по аренде самокатов \"GoFast\" и улучшить его финансовые показатели в долгосрочной перспективе."
   ]
  }
 ],
 "metadata": {
  "ExecuteTimeLog": [
   {
    "duration": 1298,
    "start_time": "2024-06-15T09:06:21.406Z"
   },
   {
    "duration": 247,
    "start_time": "2024-06-15T09:07:00.866Z"
   },
   {
    "duration": 134,
    "start_time": "2024-06-15T09:07:16.401Z"
   },
   {
    "duration": 83,
    "start_time": "2024-06-15T09:07:29.457Z"
   },
   {
    "duration": 33,
    "start_time": "2024-06-15T09:07:56.467Z"
   },
   {
    "duration": 44,
    "start_time": "2024-06-15T09:07:59.377Z"
   },
   {
    "duration": 20,
    "start_time": "2024-06-15T09:08:00.335Z"
   },
   {
    "duration": 35,
    "start_time": "2024-06-15T09:18:59.521Z"
   },
   {
    "duration": 52,
    "start_time": "2024-06-15T09:19:13.306Z"
   },
   {
    "duration": 32,
    "start_time": "2024-06-15T09:19:21.587Z"
   },
   {
    "duration": 158,
    "start_time": "2024-06-15T09:24:46.912Z"
   },
   {
    "duration": 149,
    "start_time": "2024-06-15T09:25:00.625Z"
   },
   {
    "duration": 34,
    "start_time": "2024-06-15T09:36:05.678Z"
   },
   {
    "duration": 11,
    "start_time": "2024-06-15T09:36:56.617Z"
   },
   {
    "duration": 10,
    "start_time": "2024-06-15T09:37:02.579Z"
   },
   {
    "duration": 9,
    "start_time": "2024-06-15T09:37:56.808Z"
   },
   {
    "duration": 7,
    "start_time": "2024-06-15T09:38:00.817Z"
   },
   {
    "duration": 8,
    "start_time": "2024-06-15T09:38:05.828Z"
   },
   {
    "duration": 45,
    "start_time": "2024-06-15T09:39:59.808Z"
   },
   {
    "duration": 5,
    "start_time": "2024-06-15T09:44:12.943Z"
   },
   {
    "duration": 4,
    "start_time": "2024-06-15T09:46:28.023Z"
   },
   {
    "duration": 4,
    "start_time": "2024-06-15T09:46:37.976Z"
   },
   {
    "duration": 4,
    "start_time": "2024-06-15T09:46:55.854Z"
   },
   {
    "duration": 6,
    "start_time": "2024-06-15T09:48:56.292Z"
   },
   {
    "duration": 9,
    "start_time": "2024-06-15T09:49:03.028Z"
   },
   {
    "duration": 6,
    "start_time": "2024-06-15T09:49:07.722Z"
   },
   {
    "duration": 274,
    "start_time": "2024-06-15T10:06:45.737Z"
   },
   {
    "duration": 243,
    "start_time": "2024-06-15T10:07:51.881Z"
   },
   {
    "duration": 200,
    "start_time": "2024-06-15T10:07:56.935Z"
   },
   {
    "duration": 175,
    "start_time": "2024-06-15T10:08:23.306Z"
   },
   {
    "duration": 1031,
    "start_time": "2024-06-15T10:12:23.614Z"
   },
   {
    "duration": 290,
    "start_time": "2024-06-15T10:12:54.714Z"
   },
   {
    "duration": 345,
    "start_time": "2024-06-15T10:13:15.308Z"
   },
   {
    "duration": 258,
    "start_time": "2024-06-15T10:13:55.633Z"
   },
   {
    "duration": 256,
    "start_time": "2024-06-15T10:14:13.528Z"
   },
   {
    "duration": 282,
    "start_time": "2024-06-15T10:20:38.726Z"
   },
   {
    "duration": 67,
    "start_time": "2024-06-15T10:24:05.258Z"
   },
   {
    "duration": 70,
    "start_time": "2024-06-15T10:24:34.623Z"
   },
   {
    "duration": 18992,
    "start_time": "2024-06-15T10:28:37.398Z"
   },
   {
    "duration": 18993,
    "start_time": "2024-06-15T10:29:09.221Z"
   },
   {
    "duration": 254,
    "start_time": "2024-06-15T10:30:20.582Z"
   },
   {
    "duration": 147,
    "start_time": "2024-06-15T10:38:20.022Z"
   },
   {
    "duration": 145,
    "start_time": "2024-06-15T10:38:31.513Z"
   },
   {
    "duration": 163,
    "start_time": "2024-06-15T11:00:35.230Z"
   },
   {
    "duration": 148,
    "start_time": "2024-06-15T11:00:41.190Z"
   },
   {
    "duration": 339374,
    "start_time": "2024-06-15T11:23:38.958Z"
   },
   {
    "duration": 0,
    "start_time": "2024-06-15T11:35:11.461Z"
   },
   {
    "duration": 244,
    "start_time": "2024-06-15T11:35:52.851Z"
   },
   {
    "duration": 1213,
    "start_time": "2024-06-15T11:43:59.847Z"
   },
   {
    "duration": 37,
    "start_time": "2024-06-15T11:44:01.062Z"
   },
   {
    "duration": 106,
    "start_time": "2024-06-15T11:44:01.101Z"
   },
   {
    "duration": 296,
    "start_time": "2024-06-15T11:44:01.209Z"
   },
   {
    "duration": 310,
    "start_time": "2024-06-15T11:44:01.507Z"
   },
   {
    "duration": 164,
    "start_time": "2024-06-15T11:44:01.819Z"
   },
   {
    "duration": 4,
    "start_time": "2024-06-15T11:44:01.984Z"
   },
   {
    "duration": 54,
    "start_time": "2024-06-15T11:44:01.990Z"
   },
   {
    "duration": 52,
    "start_time": "2024-06-15T11:44:02.046Z"
   },
   {
    "duration": 11,
    "start_time": "2024-06-15T11:44:02.100Z"
   },
   {
    "duration": 297,
    "start_time": "2024-06-15T11:44:02.112Z"
   },
   {
    "duration": 4,
    "start_time": "2024-06-15T11:44:02.410Z"
   },
   {
    "duration": 22,
    "start_time": "2024-06-15T11:44:02.416Z"
   },
   {
    "duration": 55,
    "start_time": "2024-06-15T11:44:02.440Z"
   },
   {
    "duration": 8,
    "start_time": "2024-06-15T11:44:02.496Z"
   },
   {
    "duration": 5,
    "start_time": "2024-06-15T11:44:02.506Z"
   },
   {
    "duration": 10,
    "start_time": "2024-06-15T11:44:02.513Z"
   },
   {
    "duration": 229316,
    "start_time": "2024-06-15T11:48:32.266Z"
   },
   {
    "duration": 181,
    "start_time": "2024-06-15T11:56:01.310Z"
   },
   {
    "duration": 193,
    "start_time": "2024-06-15T11:56:08.301Z"
   },
   {
    "duration": 199,
    "start_time": "2024-06-15T11:56:44.449Z"
   },
   {
    "duration": 334,
    "start_time": "2024-06-15T11:56:48.667Z"
   },
   {
    "duration": 209,
    "start_time": "2024-06-15T11:59:50.928Z"
   },
   {
    "duration": 227,
    "start_time": "2024-06-15T12:00:37.214Z"
   },
   {
    "duration": 241,
    "start_time": "2024-06-15T12:00:42.405Z"
   },
   {
    "duration": 180,
    "start_time": "2024-06-15T12:00:59.596Z"
   },
   {
    "duration": 148,
    "start_time": "2024-06-15T12:01:04.999Z"
   },
   {
    "duration": 177,
    "start_time": "2024-06-15T12:02:31.227Z"
   },
   {
    "duration": 15,
    "start_time": "2024-06-15T14:06:43.362Z"
   },
   {
    "duration": 12,
    "start_time": "2024-06-15T14:06:53.785Z"
   },
   {
    "duration": 10,
    "start_time": "2024-06-15T14:17:53.417Z"
   },
   {
    "duration": 4,
    "start_time": "2024-06-15T14:17:59.151Z"
   },
   {
    "duration": 5,
    "start_time": "2024-06-15T14:18:08.480Z"
   },
   {
    "duration": 9,
    "start_time": "2024-06-15T14:18:58.956Z"
   },
   {
    "duration": 5,
    "start_time": "2024-06-15T14:19:22.185Z"
   },
   {
    "duration": 5,
    "start_time": "2024-06-15T14:19:34.234Z"
   },
   {
    "duration": 4,
    "start_time": "2024-06-15T14:19:48.120Z"
   },
   {
    "duration": 3,
    "start_time": "2024-06-15T14:19:52.848Z"
   },
   {
    "duration": 6,
    "start_time": "2024-06-15T14:28:28.601Z"
   },
   {
    "duration": 5,
    "start_time": "2024-06-15T14:29:09.912Z"
   },
   {
    "duration": 5,
    "start_time": "2024-06-15T14:29:48.736Z"
   },
   {
    "duration": 1036,
    "start_time": "2024-06-15T14:29:52.666Z"
   },
   {
    "duration": 4,
    "start_time": "2024-06-15T14:42:49.186Z"
   },
   {
    "duration": 14,
    "start_time": "2024-06-15T14:42:58.384Z"
   },
   {
    "duration": 7,
    "start_time": "2024-06-15T14:55:18.515Z"
   },
   {
    "duration": 1104,
    "start_time": "2024-06-15T14:55:28.337Z"
   },
   {
    "duration": 36,
    "start_time": "2024-06-15T14:55:29.443Z"
   },
   {
    "duration": 13,
    "start_time": "2024-06-15T14:55:29.481Z"
   },
   {
    "duration": 4,
    "start_time": "2024-06-15T14:55:29.496Z"
   },
   {
    "duration": 40,
    "start_time": "2024-06-15T14:55:29.503Z"
   },
   {
    "duration": 9,
    "start_time": "2024-06-15T14:55:29.544Z"
   },
   {
    "duration": 6,
    "start_time": "2024-06-15T14:55:29.555Z"
   },
   {
    "duration": 47,
    "start_time": "2024-06-15T14:55:29.562Z"
   },
   {
    "duration": 7,
    "start_time": "2024-06-15T14:55:29.610Z"
   },
   {
    "duration": 10,
    "start_time": "2024-06-15T14:55:29.618Z"
   },
   {
    "duration": 7,
    "start_time": "2024-06-15T14:55:29.629Z"
   },
   {
    "duration": 8,
    "start_time": "2024-06-15T14:55:29.637Z"
   },
   {
    "duration": 5,
    "start_time": "2024-06-15T14:55:29.647Z"
   },
   {
    "duration": 4,
    "start_time": "2024-06-15T14:55:29.655Z"
   },
   {
    "duration": 24,
    "start_time": "2024-06-15T14:55:29.660Z"
   },
   {
    "duration": 4,
    "start_time": "2024-06-15T14:55:29.686Z"
   },
   {
    "duration": 22,
    "start_time": "2024-06-15T14:55:29.691Z"
   },
   {
    "duration": 10,
    "start_time": "2024-06-15T14:55:29.715Z"
   },
   {
    "duration": 16,
    "start_time": "2024-06-15T14:55:29.726Z"
   },
   {
    "duration": 5,
    "start_time": "2024-06-15T14:55:29.743Z"
   },
   {
    "duration": 98,
    "start_time": "2024-06-15T14:55:29.749Z"
   },
   {
    "duration": 0,
    "start_time": "2024-06-15T14:55:29.848Z"
   },
   {
    "duration": 0,
    "start_time": "2024-06-15T14:55:29.849Z"
   },
   {
    "duration": 0,
    "start_time": "2024-06-15T14:55:29.850Z"
   },
   {
    "duration": 0,
    "start_time": "2024-06-15T14:55:29.852Z"
   },
   {
    "duration": 0,
    "start_time": "2024-06-15T14:55:29.853Z"
   },
   {
    "duration": 0,
    "start_time": "2024-06-15T14:55:29.854Z"
   },
   {
    "duration": 0,
    "start_time": "2024-06-15T14:55:29.855Z"
   },
   {
    "duration": 7,
    "start_time": "2024-06-15T14:55:38.704Z"
   },
   {
    "duration": 14,
    "start_time": "2024-06-15T14:59:49.730Z"
   },
   {
    "duration": 11,
    "start_time": "2024-06-15T15:04:46.149Z"
   },
   {
    "duration": 4,
    "start_time": "2024-06-15T15:05:00.844Z"
   },
   {
    "duration": 13,
    "start_time": "2024-06-15T15:05:11.813Z"
   },
   {
    "duration": 76,
    "start_time": "2024-06-15T15:13:04.413Z"
   },
   {
    "duration": 4,
    "start_time": "2024-06-15T15:18:01.171Z"
   },
   {
    "duration": 11,
    "start_time": "2024-06-15T15:18:02.233Z"
   },
   {
    "duration": 11,
    "start_time": "2024-06-15T15:18:24.520Z"
   },
   {
    "duration": 1128,
    "start_time": "2024-06-15T15:18:35.814Z"
   },
   {
    "duration": 48,
    "start_time": "2024-06-15T15:18:36.945Z"
   },
   {
    "duration": 16,
    "start_time": "2024-06-15T15:18:36.998Z"
   },
   {
    "duration": 5,
    "start_time": "2024-06-15T15:18:37.016Z"
   },
   {
    "duration": 37,
    "start_time": "2024-06-15T15:18:37.023Z"
   },
   {
    "duration": 28,
    "start_time": "2024-06-15T15:18:37.062Z"
   },
   {
    "duration": 5,
    "start_time": "2024-06-15T15:18:37.092Z"
   },
   {
    "duration": 23,
    "start_time": "2024-06-15T15:18:37.098Z"
   },
   {
    "duration": 7,
    "start_time": "2024-06-15T15:18:37.122Z"
   },
   {
    "duration": 5,
    "start_time": "2024-06-15T15:18:37.131Z"
   },
   {
    "duration": 7,
    "start_time": "2024-06-15T15:18:37.138Z"
   },
   {
    "duration": 36,
    "start_time": "2024-06-15T15:18:37.147Z"
   },
   {
    "duration": 5,
    "start_time": "2024-06-15T15:18:37.186Z"
   },
   {
    "duration": 7,
    "start_time": "2024-06-15T15:18:37.193Z"
   },
   {
    "duration": 9,
    "start_time": "2024-06-15T15:18:37.201Z"
   },
   {
    "duration": 12,
    "start_time": "2024-06-15T15:18:37.212Z"
   },
   {
    "duration": 7,
    "start_time": "2024-06-15T15:18:37.225Z"
   },
   {
    "duration": 5,
    "start_time": "2024-06-15T15:18:37.233Z"
   },
   {
    "duration": 4,
    "start_time": "2024-06-15T15:18:37.239Z"
   },
   {
    "duration": 4,
    "start_time": "2024-06-15T15:18:37.244Z"
   },
   {
    "duration": 119,
    "start_time": "2024-06-15T15:18:37.250Z"
   },
   {
    "duration": 0,
    "start_time": "2024-06-15T15:18:37.371Z"
   },
   {
    "duration": 0,
    "start_time": "2024-06-15T15:18:37.382Z"
   },
   {
    "duration": 0,
    "start_time": "2024-06-15T15:18:37.383Z"
   },
   {
    "duration": 0,
    "start_time": "2024-06-15T15:18:37.384Z"
   },
   {
    "duration": 0,
    "start_time": "2024-06-15T15:18:37.385Z"
   },
   {
    "duration": 0,
    "start_time": "2024-06-15T15:18:37.386Z"
   },
   {
    "duration": 0,
    "start_time": "2024-06-15T15:18:37.387Z"
   },
   {
    "duration": 2,
    "start_time": "2024-06-15T15:25:25.394Z"
   },
   {
    "duration": 4,
    "start_time": "2024-06-15T15:25:32.905Z"
   },
   {
    "duration": 1100,
    "start_time": "2024-06-15T15:31:46.257Z"
   },
   {
    "duration": 37,
    "start_time": "2024-06-15T15:31:47.359Z"
   },
   {
    "duration": 13,
    "start_time": "2024-06-15T15:31:47.398Z"
   },
   {
    "duration": 4,
    "start_time": "2024-06-15T15:31:47.412Z"
   },
   {
    "duration": 38,
    "start_time": "2024-06-15T15:31:47.418Z"
   },
   {
    "duration": 10,
    "start_time": "2024-06-15T15:31:47.458Z"
   },
   {
    "duration": 4,
    "start_time": "2024-06-15T15:31:47.482Z"
   },
   {
    "duration": 40,
    "start_time": "2024-06-15T15:31:47.488Z"
   },
   {
    "duration": 9,
    "start_time": "2024-06-15T15:31:47.530Z"
   },
   {
    "duration": 11,
    "start_time": "2024-06-15T15:31:47.540Z"
   },
   {
    "duration": 8,
    "start_time": "2024-06-15T15:31:47.552Z"
   },
   {
    "duration": 16,
    "start_time": "2024-06-15T15:31:47.562Z"
   },
   {
    "duration": 18,
    "start_time": "2024-06-15T15:31:47.580Z"
   },
   {
    "duration": 5,
    "start_time": "2024-06-15T15:31:47.602Z"
   },
   {
    "duration": 8,
    "start_time": "2024-06-15T15:31:47.609Z"
   },
   {
    "duration": 14,
    "start_time": "2024-06-15T15:31:47.619Z"
   },
   {
    "duration": 6,
    "start_time": "2024-06-15T15:31:47.634Z"
   },
   {
    "duration": 10,
    "start_time": "2024-06-15T15:31:47.642Z"
   },
   {
    "duration": 6,
    "start_time": "2024-06-15T15:31:47.653Z"
   },
   {
    "duration": 22,
    "start_time": "2024-06-15T15:31:47.660Z"
   },
   {
    "duration": 6,
    "start_time": "2024-06-15T15:31:47.684Z"
   },
   {
    "duration": 121,
    "start_time": "2024-06-15T15:31:47.692Z"
   },
   {
    "duration": 0,
    "start_time": "2024-06-15T15:31:47.815Z"
   },
   {
    "duration": 0,
    "start_time": "2024-06-15T15:31:47.816Z"
   },
   {
    "duration": 0,
    "start_time": "2024-06-15T15:31:47.817Z"
   },
   {
    "duration": 0,
    "start_time": "2024-06-15T15:31:47.818Z"
   },
   {
    "duration": 0,
    "start_time": "2024-06-15T15:31:47.820Z"
   },
   {
    "duration": 0,
    "start_time": "2024-06-15T15:31:47.820Z"
   },
   {
    "duration": 0,
    "start_time": "2024-06-15T15:31:47.822Z"
   },
   {
    "duration": 6,
    "start_time": "2024-06-15T15:34:21.968Z"
   },
   {
    "duration": 4,
    "start_time": "2024-06-15T15:34:23.755Z"
   },
   {
    "duration": 12,
    "start_time": "2024-06-15T15:37:12.858Z"
   },
   {
    "duration": 10,
    "start_time": "2024-06-15T15:37:21.669Z"
   },
   {
    "duration": 5,
    "start_time": "2024-06-15T15:37:24.660Z"
   },
   {
    "duration": 6,
    "start_time": "2024-06-15T15:37:38.366Z"
   },
   {
    "duration": 6,
    "start_time": "2024-06-15T16:19:53.811Z"
   },
   {
    "duration": 59,
    "start_time": "2024-06-16T10:55:57.674Z"
   },
   {
    "duration": 1370,
    "start_time": "2024-06-16T10:56:17.802Z"
   },
   {
    "duration": 90,
    "start_time": "2024-06-16T10:56:19.174Z"
   },
   {
    "duration": 12,
    "start_time": "2024-06-16T10:56:19.266Z"
   },
   {
    "duration": 4,
    "start_time": "2024-06-16T10:56:19.280Z"
   },
   {
    "duration": 105,
    "start_time": "2024-06-16T10:56:19.286Z"
   },
   {
    "duration": 9,
    "start_time": "2024-06-16T10:56:19.394Z"
   },
   {
    "duration": 24,
    "start_time": "2024-06-16T10:56:19.404Z"
   },
   {
    "duration": 77,
    "start_time": "2024-06-16T10:56:19.430Z"
   },
   {
    "duration": 7,
    "start_time": "2024-06-16T10:56:19.508Z"
   },
   {
    "duration": 7,
    "start_time": "2024-06-16T10:56:19.517Z"
   },
   {
    "duration": 13,
    "start_time": "2024-06-16T10:56:19.525Z"
   },
   {
    "duration": 9,
    "start_time": "2024-06-16T10:56:19.540Z"
   },
   {
    "duration": 6,
    "start_time": "2024-06-16T10:56:19.550Z"
   },
   {
    "duration": 11,
    "start_time": "2024-06-16T10:56:19.557Z"
   },
   {
    "duration": 6,
    "start_time": "2024-06-16T10:56:19.569Z"
   },
   {
    "duration": 9,
    "start_time": "2024-06-16T10:56:19.576Z"
   },
   {
    "duration": 12,
    "start_time": "2024-06-16T10:56:19.587Z"
   },
   {
    "duration": 4,
    "start_time": "2024-06-16T10:56:19.600Z"
   },
   {
    "duration": 4,
    "start_time": "2024-06-16T10:56:19.606Z"
   },
   {
    "duration": 3,
    "start_time": "2024-06-16T10:56:19.611Z"
   },
   {
    "duration": 11,
    "start_time": "2024-06-16T10:56:19.616Z"
   },
   {
    "duration": 6,
    "start_time": "2024-06-16T10:56:19.629Z"
   },
   {
    "duration": 8,
    "start_time": "2024-06-16T10:56:19.636Z"
   },
   {
    "duration": 38,
    "start_time": "2024-06-16T10:56:19.646Z"
   },
   {
    "duration": 11,
    "start_time": "2024-06-16T10:56:19.687Z"
   },
   {
    "duration": 10,
    "start_time": "2024-06-16T10:56:19.700Z"
   },
   {
    "duration": 223,
    "start_time": "2024-06-16T10:56:19.711Z"
   },
   {
    "duration": 298,
    "start_time": "2024-06-16T10:56:19.937Z"
   },
   {
    "duration": 317,
    "start_time": "2024-06-16T10:56:20.237Z"
   },
   {
    "duration": 177,
    "start_time": "2024-06-16T10:56:20.556Z"
   },
   {
    "duration": 10,
    "start_time": "2024-06-16T10:57:16.297Z"
   },
   {
    "duration": 11,
    "start_time": "2024-06-16T10:57:41.009Z"
   },
   {
    "duration": 8,
    "start_time": "2024-06-16T10:57:47.501Z"
   },
   {
    "duration": 10,
    "start_time": "2024-06-16T10:57:54.592Z"
   },
   {
    "duration": 128,
    "start_time": "2024-06-16T10:58:05.001Z"
   },
   {
    "duration": 7,
    "start_time": "2024-06-16T10:58:17.139Z"
   },
   {
    "duration": 8,
    "start_time": "2024-06-16T10:58:38.109Z"
   },
   {
    "duration": 17,
    "start_time": "2024-06-16T11:01:46.634Z"
   },
   {
    "duration": 7,
    "start_time": "2024-06-16T11:21:19.288Z"
   },
   {
    "duration": 5,
    "start_time": "2024-06-16T11:21:21.268Z"
   },
   {
    "duration": 4,
    "start_time": "2024-06-16T11:21:29.249Z"
   },
   {
    "duration": 7,
    "start_time": "2024-06-16T11:21:42.434Z"
   },
   {
    "duration": 5,
    "start_time": "2024-06-16T11:21:58.410Z"
   },
   {
    "duration": 1153,
    "start_time": "2024-06-16T11:22:32.659Z"
   },
   {
    "duration": 42,
    "start_time": "2024-06-16T11:22:33.814Z"
   },
   {
    "duration": 17,
    "start_time": "2024-06-16T11:22:33.857Z"
   },
   {
    "duration": 4,
    "start_time": "2024-06-16T11:22:33.877Z"
   },
   {
    "duration": 37,
    "start_time": "2024-06-16T11:22:33.883Z"
   },
   {
    "duration": 10,
    "start_time": "2024-06-16T11:22:33.921Z"
   },
   {
    "duration": 10,
    "start_time": "2024-06-16T11:22:33.932Z"
   },
   {
    "duration": 23,
    "start_time": "2024-06-16T11:22:33.943Z"
   },
   {
    "duration": 8,
    "start_time": "2024-06-16T11:22:33.967Z"
   },
   {
    "duration": 10,
    "start_time": "2024-06-16T11:22:33.977Z"
   },
   {
    "duration": 7,
    "start_time": "2024-06-16T11:22:33.989Z"
   },
   {
    "duration": 14,
    "start_time": "2024-06-16T11:22:33.997Z"
   },
   {
    "duration": 21,
    "start_time": "2024-06-16T11:22:34.012Z"
   },
   {
    "duration": 6,
    "start_time": "2024-06-16T11:22:34.035Z"
   },
   {
    "duration": 74,
    "start_time": "2024-06-16T11:22:34.042Z"
   },
   {
    "duration": 20,
    "start_time": "2024-06-16T11:22:34.117Z"
   },
   {
    "duration": 7,
    "start_time": "2024-06-16T11:22:34.139Z"
   },
   {
    "duration": 8,
    "start_time": "2024-06-16T11:22:34.148Z"
   },
   {
    "duration": 5,
    "start_time": "2024-06-16T11:22:34.157Z"
   },
   {
    "duration": 4,
    "start_time": "2024-06-16T11:22:34.163Z"
   },
   {
    "duration": 4,
    "start_time": "2024-06-16T11:22:34.168Z"
   },
   {
    "duration": 8,
    "start_time": "2024-06-16T11:22:34.173Z"
   },
   {
    "duration": 7,
    "start_time": "2024-06-16T11:22:34.183Z"
   },
   {
    "duration": 9,
    "start_time": "2024-06-16T11:22:34.192Z"
   },
   {
    "duration": 6,
    "start_time": "2024-06-16T11:22:34.203Z"
   },
   {
    "duration": 5,
    "start_time": "2024-06-16T11:22:34.211Z"
   },
   {
    "duration": 203,
    "start_time": "2024-06-16T11:22:34.217Z"
   },
   {
    "duration": 249,
    "start_time": "2024-06-16T11:22:34.423Z"
   },
   {
    "duration": 299,
    "start_time": "2024-06-16T11:22:34.674Z"
   },
   {
    "duration": 166,
    "start_time": "2024-06-16T11:22:34.974Z"
   },
   {
    "duration": 4,
    "start_time": "2024-06-16T11:22:35.142Z"
   },
   {
    "duration": 13,
    "start_time": "2024-06-16T11:22:35.148Z"
   },
   {
    "duration": 1107,
    "start_time": "2024-06-16T11:25:18.702Z"
   },
   {
    "duration": 37,
    "start_time": "2024-06-16T11:25:19.811Z"
   },
   {
    "duration": 13,
    "start_time": "2024-06-16T11:25:19.849Z"
   },
   {
    "duration": 4,
    "start_time": "2024-06-16T11:25:19.863Z"
   },
   {
    "duration": 38,
    "start_time": "2024-06-16T11:25:19.869Z"
   },
   {
    "duration": 10,
    "start_time": "2024-06-16T11:25:19.909Z"
   },
   {
    "duration": 7,
    "start_time": "2024-06-16T11:25:19.921Z"
   },
   {
    "duration": 30,
    "start_time": "2024-06-16T11:25:19.930Z"
   },
   {
    "duration": 7,
    "start_time": "2024-06-16T11:25:19.962Z"
   },
   {
    "duration": 15,
    "start_time": "2024-06-16T11:25:19.971Z"
   },
   {
    "duration": 11,
    "start_time": "2024-06-16T11:25:19.987Z"
   },
   {
    "duration": 20,
    "start_time": "2024-06-16T11:25:19.999Z"
   },
   {
    "duration": 7,
    "start_time": "2024-06-16T11:25:20.020Z"
   },
   {
    "duration": 5,
    "start_time": "2024-06-16T11:25:20.029Z"
   },
   {
    "duration": 10,
    "start_time": "2024-06-16T11:25:20.035Z"
   },
   {
    "duration": 33,
    "start_time": "2024-06-16T11:25:20.046Z"
   },
   {
    "duration": 9,
    "start_time": "2024-06-16T11:25:20.081Z"
   },
   {
    "duration": 13,
    "start_time": "2024-06-16T11:25:20.091Z"
   },
   {
    "duration": 7,
    "start_time": "2024-06-16T11:25:20.106Z"
   },
   {
    "duration": 12,
    "start_time": "2024-06-16T11:25:20.114Z"
   },
   {
    "duration": 8,
    "start_time": "2024-06-16T11:25:20.127Z"
   },
   {
    "duration": 15,
    "start_time": "2024-06-16T11:25:20.137Z"
   },
   {
    "duration": 27,
    "start_time": "2024-06-16T11:25:20.155Z"
   },
   {
    "duration": 8,
    "start_time": "2024-06-16T11:25:20.183Z"
   },
   {
    "duration": 5,
    "start_time": "2024-06-16T11:25:20.193Z"
   },
   {
    "duration": 194,
    "start_time": "2024-06-16T11:25:20.200Z"
   },
   {
    "duration": 259,
    "start_time": "2024-06-16T11:25:20.396Z"
   },
   {
    "duration": 280,
    "start_time": "2024-06-16T11:25:20.657Z"
   },
   {
    "duration": 160,
    "start_time": "2024-06-16T11:25:20.939Z"
   },
   {
    "duration": 4,
    "start_time": "2024-06-16T11:25:21.101Z"
   },
   {
    "duration": 28,
    "start_time": "2024-06-16T11:25:21.107Z"
   },
   {
    "duration": 4,
    "start_time": "2024-06-16T11:26:29.627Z"
   },
   {
    "duration": 4,
    "start_time": "2024-06-16T11:39:23.649Z"
   },
   {
    "duration": 5,
    "start_time": "2024-06-16T11:40:25.838Z"
   },
   {
    "duration": 4,
    "start_time": "2024-06-16T11:40:34.161Z"
   },
   {
    "duration": 6,
    "start_time": "2024-06-16T11:41:16.664Z"
   },
   {
    "duration": 5,
    "start_time": "2024-06-16T11:41:46.463Z"
   },
   {
    "duration": 4,
    "start_time": "2024-06-16T11:49:04.006Z"
   },
   {
    "duration": 5,
    "start_time": "2024-06-16T11:59:15.232Z"
   },
   {
    "duration": 1127,
    "start_time": "2024-06-16T11:59:33.848Z"
   },
   {
    "duration": 37,
    "start_time": "2024-06-16T11:59:34.977Z"
   },
   {
    "duration": 15,
    "start_time": "2024-06-16T11:59:35.015Z"
   },
   {
    "duration": 4,
    "start_time": "2024-06-16T11:59:35.032Z"
   },
   {
    "duration": 50,
    "start_time": "2024-06-16T11:59:35.037Z"
   },
   {
    "duration": 9,
    "start_time": "2024-06-16T11:59:35.089Z"
   },
   {
    "duration": 5,
    "start_time": "2024-06-16T11:59:35.099Z"
   },
   {
    "duration": 25,
    "start_time": "2024-06-16T11:59:35.105Z"
   },
   {
    "duration": 7,
    "start_time": "2024-06-16T11:59:35.132Z"
   },
   {
    "duration": 5,
    "start_time": "2024-06-16T11:59:35.141Z"
   },
   {
    "duration": 18,
    "start_time": "2024-06-16T11:59:35.147Z"
   },
   {
    "duration": 36,
    "start_time": "2024-06-16T11:59:35.167Z"
   },
   {
    "duration": 14,
    "start_time": "2024-06-16T11:59:35.205Z"
   },
   {
    "duration": 11,
    "start_time": "2024-06-16T11:59:35.221Z"
   },
   {
    "duration": 32,
    "start_time": "2024-06-16T11:59:35.233Z"
   },
   {
    "duration": 7,
    "start_time": "2024-06-16T11:59:35.267Z"
   },
   {
    "duration": 27,
    "start_time": "2024-06-16T11:59:35.276Z"
   },
   {
    "duration": 6,
    "start_time": "2024-06-16T11:59:35.305Z"
   },
   {
    "duration": 9,
    "start_time": "2024-06-16T11:59:35.313Z"
   },
   {
    "duration": 8,
    "start_time": "2024-06-16T11:59:35.324Z"
   },
   {
    "duration": 11,
    "start_time": "2024-06-16T11:59:35.333Z"
   },
   {
    "duration": 8,
    "start_time": "2024-06-16T11:59:35.346Z"
   },
   {
    "duration": 28,
    "start_time": "2024-06-16T11:59:35.355Z"
   },
   {
    "duration": 8,
    "start_time": "2024-06-16T11:59:35.384Z"
   },
   {
    "duration": 202,
    "start_time": "2024-06-16T11:59:35.393Z"
   },
   {
    "duration": 298,
    "start_time": "2024-06-16T11:59:35.597Z"
   },
   {
    "duration": 287,
    "start_time": "2024-06-16T11:59:35.897Z"
   },
   {
    "duration": 152,
    "start_time": "2024-06-16T11:59:36.188Z"
   },
   {
    "duration": 4,
    "start_time": "2024-06-16T11:59:36.341Z"
   },
   {
    "duration": 7,
    "start_time": "2024-06-16T11:59:36.347Z"
   },
   {
    "duration": 4,
    "start_time": "2024-06-16T11:59:50.154Z"
   },
   {
    "duration": 1154,
    "start_time": "2024-06-16T12:00:00.301Z"
   },
   {
    "duration": 39,
    "start_time": "2024-06-16T12:00:01.457Z"
   },
   {
    "duration": 14,
    "start_time": "2024-06-16T12:00:01.498Z"
   },
   {
    "duration": 60,
    "start_time": "2024-06-16T12:00:01.514Z"
   },
   {
    "duration": 76,
    "start_time": "2024-06-16T12:00:01.576Z"
   },
   {
    "duration": 44,
    "start_time": "2024-06-16T12:00:01.654Z"
   },
   {
    "duration": 141,
    "start_time": "2024-06-16T12:00:01.700Z"
   },
   {
    "duration": 72,
    "start_time": "2024-06-16T12:00:01.843Z"
   },
   {
    "duration": 10,
    "start_time": "2024-06-16T12:00:01.917Z"
   },
   {
    "duration": 8,
    "start_time": "2024-06-16T12:00:01.930Z"
   },
   {
    "duration": 21,
    "start_time": "2024-06-16T12:00:01.940Z"
   },
   {
    "duration": 21,
    "start_time": "2024-06-16T12:00:01.962Z"
   },
   {
    "duration": 28,
    "start_time": "2024-06-16T12:00:01.985Z"
   },
   {
    "duration": 93,
    "start_time": "2024-06-16T12:00:02.017Z"
   },
   {
    "duration": 65,
    "start_time": "2024-06-16T12:00:02.113Z"
   },
   {
    "duration": 15,
    "start_time": "2024-06-16T12:00:02.179Z"
   },
   {
    "duration": 41,
    "start_time": "2024-06-16T12:00:02.196Z"
   },
   {
    "duration": 6,
    "start_time": "2024-06-16T12:00:02.239Z"
   },
   {
    "duration": 10,
    "start_time": "2024-06-16T12:00:02.246Z"
   },
   {
    "duration": 4,
    "start_time": "2024-06-16T12:00:02.258Z"
   },
   {
    "duration": 33,
    "start_time": "2024-06-16T12:00:02.264Z"
   },
   {
    "duration": 18,
    "start_time": "2024-06-16T12:00:02.299Z"
   },
   {
    "duration": 38,
    "start_time": "2024-06-16T12:00:02.319Z"
   },
   {
    "duration": 7,
    "start_time": "2024-06-16T12:00:02.359Z"
   },
   {
    "duration": 191,
    "start_time": "2024-06-16T12:00:02.368Z"
   },
   {
    "duration": 278,
    "start_time": "2024-06-16T12:00:02.561Z"
   },
   {
    "duration": 269,
    "start_time": "2024-06-16T12:00:02.840Z"
   },
   {
    "duration": 172,
    "start_time": "2024-06-16T12:00:03.111Z"
   },
   {
    "duration": 4,
    "start_time": "2024-06-16T12:00:03.285Z"
   },
   {
    "duration": 42,
    "start_time": "2024-06-16T12:00:03.290Z"
   },
   {
    "duration": 10,
    "start_time": "2024-06-16T12:07:21.442Z"
   },
   {
    "duration": 145,
    "start_time": "2024-06-16T12:22:40.542Z"
   },
   {
    "duration": 151,
    "start_time": "2024-06-16T12:34:11.688Z"
   },
   {
    "duration": 224,
    "start_time": "2024-06-16T12:34:30.824Z"
   },
   {
    "duration": 205,
    "start_time": "2024-06-16T12:34:39.729Z"
   },
   {
    "duration": 258,
    "start_time": "2024-06-16T12:41:49.020Z"
   },
   {
    "duration": 239,
    "start_time": "2024-06-16T12:42:15.163Z"
   },
   {
    "duration": 232,
    "start_time": "2024-06-16T12:42:29.968Z"
   },
   {
    "duration": 167,
    "start_time": "2024-06-16T12:48:05.292Z"
   },
   {
    "duration": 151,
    "start_time": "2024-06-16T12:53:21.393Z"
   },
   {
    "duration": 139,
    "start_time": "2024-06-16T12:55:11.675Z"
   },
   {
    "duration": 6,
    "start_time": "2024-06-16T12:56:34.870Z"
   },
   {
    "duration": 9,
    "start_time": "2024-06-16T12:57:00.692Z"
   },
   {
    "duration": 5,
    "start_time": "2024-06-16T12:57:23.654Z"
   },
   {
    "duration": 250,
    "start_time": "2024-06-16T13:02:39.526Z"
   },
   {
    "duration": 169,
    "start_time": "2024-06-16T13:08:37.697Z"
   },
   {
    "duration": 277,
    "start_time": "2024-06-16T13:10:43.647Z"
   },
   {
    "duration": 179,
    "start_time": "2024-06-16T13:13:10.741Z"
   },
   {
    "duration": 326,
    "start_time": "2024-06-16T13:13:36.342Z"
   },
   {
    "duration": 179,
    "start_time": "2024-06-16T13:13:50.313Z"
   },
   {
    "duration": 10,
    "start_time": "2024-06-16T13:32:34.403Z"
   },
   {
    "duration": 8,
    "start_time": "2024-06-16T13:33:06.569Z"
   },
   {
    "duration": 8,
    "start_time": "2024-06-16T13:34:01.965Z"
   },
   {
    "duration": 168,
    "start_time": "2024-06-16T13:35:58.656Z"
   },
   {
    "duration": 183,
    "start_time": "2024-06-16T13:37:41.479Z"
   },
   {
    "duration": 9,
    "start_time": "2024-06-16T13:45:26.637Z"
   },
   {
    "duration": 186,
    "start_time": "2024-06-16T13:58:45.271Z"
   },
   {
    "duration": 172,
    "start_time": "2024-06-16T14:00:38.413Z"
   },
   {
    "duration": 164,
    "start_time": "2024-06-16T14:01:13.983Z"
   },
   {
    "duration": 1032,
    "start_time": "2024-06-16T14:01:27.137Z"
   },
   {
    "duration": 38,
    "start_time": "2024-06-16T14:01:28.172Z"
   },
   {
    "duration": 12,
    "start_time": "2024-06-16T14:01:28.211Z"
   },
   {
    "duration": 4,
    "start_time": "2024-06-16T14:01:28.225Z"
   },
   {
    "duration": 38,
    "start_time": "2024-06-16T14:01:28.230Z"
   },
   {
    "duration": 9,
    "start_time": "2024-06-16T14:01:28.270Z"
   },
   {
    "duration": 12,
    "start_time": "2024-06-16T14:01:28.282Z"
   },
   {
    "duration": 21,
    "start_time": "2024-06-16T14:01:28.296Z"
   },
   {
    "duration": 8,
    "start_time": "2024-06-16T14:01:28.319Z"
   },
   {
    "duration": 5,
    "start_time": "2024-06-16T14:01:28.331Z"
   },
   {
    "duration": 9,
    "start_time": "2024-06-16T14:01:28.337Z"
   },
   {
    "duration": 14,
    "start_time": "2024-06-16T14:01:28.348Z"
   },
   {
    "duration": 23,
    "start_time": "2024-06-16T14:01:28.363Z"
   },
   {
    "duration": 11,
    "start_time": "2024-06-16T14:01:28.387Z"
   },
   {
    "duration": 7,
    "start_time": "2024-06-16T14:01:28.399Z"
   },
   {
    "duration": 5,
    "start_time": "2024-06-16T14:01:28.408Z"
   },
   {
    "duration": 10,
    "start_time": "2024-06-16T14:01:28.414Z"
   },
   {
    "duration": 4,
    "start_time": "2024-06-16T14:01:28.425Z"
   },
   {
    "duration": 6,
    "start_time": "2024-06-16T14:01:28.431Z"
   },
   {
    "duration": 6,
    "start_time": "2024-06-16T14:01:28.438Z"
   },
   {
    "duration": 38,
    "start_time": "2024-06-16T14:01:28.445Z"
   },
   {
    "duration": 14,
    "start_time": "2024-06-16T14:01:28.485Z"
   },
   {
    "duration": 22,
    "start_time": "2024-06-16T14:01:28.500Z"
   },
   {
    "duration": 9,
    "start_time": "2024-06-16T14:01:28.524Z"
   },
   {
    "duration": 167,
    "start_time": "2024-06-16T14:01:28.535Z"
   },
   {
    "duration": 170,
    "start_time": "2024-06-16T14:01:28.704Z"
   },
   {
    "duration": 6,
    "start_time": "2024-06-16T14:01:28.876Z"
   },
   {
    "duration": 150,
    "start_time": "2024-06-16T14:01:28.885Z"
   },
   {
    "duration": 259,
    "start_time": "2024-06-16T14:01:29.036Z"
   },
   {
    "duration": 170,
    "start_time": "2024-06-16T14:01:29.297Z"
   },
   {
    "duration": 14,
    "start_time": "2024-06-16T14:01:29.469Z"
   },
   {
    "duration": 10,
    "start_time": "2024-06-16T14:01:29.484Z"
   },
   {
    "duration": 28,
    "start_time": "2024-06-16T14:01:29.495Z"
   },
   {
    "duration": 192,
    "start_time": "2024-06-16T14:01:29.525Z"
   },
   {
    "duration": 200,
    "start_time": "2024-06-16T14:01:29.719Z"
   },
   {
    "duration": 4,
    "start_time": "2024-06-16T14:01:29.920Z"
   },
   {
    "duration": 13,
    "start_time": "2024-06-16T14:01:29.925Z"
   },
   {
    "duration": 7,
    "start_time": "2024-06-16T14:02:17.172Z"
   },
   {
    "duration": 6,
    "start_time": "2024-06-16T14:07:42.668Z"
   },
   {
    "duration": 1137,
    "start_time": "2024-06-16T14:07:58.994Z"
   },
   {
    "duration": 37,
    "start_time": "2024-06-16T14:08:00.133Z"
   },
   {
    "duration": 12,
    "start_time": "2024-06-16T14:08:00.172Z"
   },
   {
    "duration": 24,
    "start_time": "2024-06-16T14:08:00.186Z"
   },
   {
    "duration": 64,
    "start_time": "2024-06-16T14:08:00.211Z"
   },
   {
    "duration": 17,
    "start_time": "2024-06-16T14:08:00.277Z"
   },
   {
    "duration": 83,
    "start_time": "2024-06-16T14:08:00.295Z"
   },
   {
    "duration": 97,
    "start_time": "2024-06-16T14:08:00.380Z"
   },
   {
    "duration": 28,
    "start_time": "2024-06-16T14:08:00.479Z"
   },
   {
    "duration": 44,
    "start_time": "2024-06-16T14:08:00.510Z"
   },
   {
    "duration": 142,
    "start_time": "2024-06-16T14:08:00.555Z"
   },
   {
    "duration": 129,
    "start_time": "2024-06-16T14:08:00.699Z"
   },
   {
    "duration": 173,
    "start_time": "2024-06-16T14:08:00.830Z"
   },
   {
    "duration": 49,
    "start_time": "2024-06-16T14:08:01.005Z"
   },
   {
    "duration": 128,
    "start_time": "2024-06-16T14:08:01.055Z"
   },
   {
    "duration": 40,
    "start_time": "2024-06-16T14:08:01.185Z"
   },
   {
    "duration": 53,
    "start_time": "2024-06-16T14:08:01.227Z"
   },
   {
    "duration": 50,
    "start_time": "2024-06-16T14:08:01.282Z"
   },
   {
    "duration": 38,
    "start_time": "2024-06-16T14:08:01.333Z"
   },
   {
    "duration": 124,
    "start_time": "2024-06-16T14:08:01.373Z"
   },
   {
    "duration": 351,
    "start_time": "2024-06-16T14:08:01.499Z"
   },
   {
    "duration": 30,
    "start_time": "2024-06-16T14:08:01.852Z"
   },
   {
    "duration": 25,
    "start_time": "2024-06-16T14:08:01.884Z"
   },
   {
    "duration": 17,
    "start_time": "2024-06-16T14:08:01.911Z"
   },
   {
    "duration": 167,
    "start_time": "2024-06-16T14:08:01.929Z"
   },
   {
    "duration": 164,
    "start_time": "2024-06-16T14:08:02.098Z"
   },
   {
    "duration": 4,
    "start_time": "2024-06-16T14:08:02.264Z"
   },
   {
    "duration": 148,
    "start_time": "2024-06-16T14:08:02.282Z"
   },
   {
    "duration": 275,
    "start_time": "2024-06-16T14:08:02.431Z"
   },
   {
    "duration": 184,
    "start_time": "2024-06-16T14:08:02.707Z"
   },
   {
    "duration": 7,
    "start_time": "2024-06-16T14:08:02.892Z"
   },
   {
    "duration": 133,
    "start_time": "2024-06-16T14:08:02.900Z"
   },
   {
    "duration": 12,
    "start_time": "2024-06-16T14:08:03.035Z"
   },
   {
    "duration": 194,
    "start_time": "2024-06-16T14:08:03.048Z"
   },
   {
    "duration": 184,
    "start_time": "2024-06-16T14:08:03.244Z"
   },
   {
    "duration": 8,
    "start_time": "2024-06-16T14:08:03.430Z"
   },
   {
    "duration": 3,
    "start_time": "2024-06-16T14:08:03.440Z"
   },
   {
    "duration": 8,
    "start_time": "2024-06-16T14:08:03.444Z"
   },
   {
    "duration": 10,
    "start_time": "2024-06-16T14:16:10.041Z"
   },
   {
    "duration": 9,
    "start_time": "2024-06-16T14:16:23.016Z"
   },
   {
    "duration": 3,
    "start_time": "2024-06-16T14:16:26.374Z"
   },
   {
    "duration": 1117,
    "start_time": "2024-06-16T14:16:37.493Z"
   },
   {
    "duration": 37,
    "start_time": "2024-06-16T14:16:38.613Z"
   },
   {
    "duration": 62,
    "start_time": "2024-06-16T14:16:38.652Z"
   },
   {
    "duration": 15,
    "start_time": "2024-06-16T14:16:38.716Z"
   },
   {
    "duration": 36,
    "start_time": "2024-06-16T14:16:38.733Z"
   },
   {
    "duration": 9,
    "start_time": "2024-06-16T14:16:38.770Z"
   },
   {
    "duration": 14,
    "start_time": "2024-06-16T14:16:38.780Z"
   },
   {
    "duration": 24,
    "start_time": "2024-06-16T14:16:38.796Z"
   },
   {
    "duration": 6,
    "start_time": "2024-06-16T14:16:38.822Z"
   },
   {
    "duration": 3,
    "start_time": "2024-06-16T14:16:38.831Z"
   },
   {
    "duration": 7,
    "start_time": "2024-06-16T14:16:38.836Z"
   },
   {
    "duration": 9,
    "start_time": "2024-06-16T14:16:38.844Z"
   },
   {
    "duration": 10,
    "start_time": "2024-06-16T14:16:38.855Z"
   },
   {
    "duration": 16,
    "start_time": "2024-06-16T14:16:38.866Z"
   },
   {
    "duration": 6,
    "start_time": "2024-06-16T14:16:38.884Z"
   },
   {
    "duration": 7,
    "start_time": "2024-06-16T14:16:38.891Z"
   },
   {
    "duration": 11,
    "start_time": "2024-06-16T14:16:38.900Z"
   },
   {
    "duration": 4,
    "start_time": "2024-06-16T14:16:38.913Z"
   },
   {
    "duration": 9,
    "start_time": "2024-06-16T14:16:38.918Z"
   },
   {
    "duration": 21,
    "start_time": "2024-06-16T14:16:38.929Z"
   },
   {
    "duration": 10,
    "start_time": "2024-06-16T14:16:38.952Z"
   },
   {
    "duration": 23,
    "start_time": "2024-06-16T14:16:38.964Z"
   },
   {
    "duration": 15,
    "start_time": "2024-06-16T14:16:38.989Z"
   },
   {
    "duration": 9,
    "start_time": "2024-06-16T14:16:39.006Z"
   },
   {
    "duration": 172,
    "start_time": "2024-06-16T14:16:39.017Z"
   },
   {
    "duration": 175,
    "start_time": "2024-06-16T14:16:39.190Z"
   },
   {
    "duration": 5,
    "start_time": "2024-06-16T14:16:39.367Z"
   },
   {
    "duration": 153,
    "start_time": "2024-06-16T14:16:39.381Z"
   },
   {
    "duration": 262,
    "start_time": "2024-06-16T14:16:39.535Z"
   },
   {
    "duration": 177,
    "start_time": "2024-06-16T14:16:39.799Z"
   },
   {
    "duration": 10,
    "start_time": "2024-06-16T14:16:39.977Z"
   },
   {
    "duration": 18,
    "start_time": "2024-06-16T14:16:39.988Z"
   },
   {
    "duration": 17,
    "start_time": "2024-06-16T14:16:40.008Z"
   },
   {
    "duration": 211,
    "start_time": "2024-06-16T14:16:40.026Z"
   },
   {
    "duration": 187,
    "start_time": "2024-06-16T14:16:40.238Z"
   },
   {
    "duration": 8,
    "start_time": "2024-06-16T14:16:40.427Z"
   },
   {
    "duration": 3,
    "start_time": "2024-06-16T14:16:40.437Z"
   },
   {
    "duration": 8,
    "start_time": "2024-06-16T14:16:40.441Z"
   },
   {
    "duration": 4,
    "start_time": "2024-06-16T14:18:07.174Z"
   },
   {
    "duration": 9,
    "start_time": "2024-06-16T14:18:07.895Z"
   },
   {
    "duration": 1096,
    "start_time": "2024-06-16T14:18:20.256Z"
   },
   {
    "duration": 36,
    "start_time": "2024-06-16T14:18:21.354Z"
   },
   {
    "duration": 11,
    "start_time": "2024-06-16T14:18:21.392Z"
   },
   {
    "duration": 5,
    "start_time": "2024-06-16T14:18:21.405Z"
   },
   {
    "duration": 39,
    "start_time": "2024-06-16T14:18:21.411Z"
   },
   {
    "duration": 9,
    "start_time": "2024-06-16T14:18:21.452Z"
   },
   {
    "duration": 21,
    "start_time": "2024-06-16T14:18:21.463Z"
   },
   {
    "duration": 47,
    "start_time": "2024-06-16T14:18:21.485Z"
   },
   {
    "duration": 7,
    "start_time": "2024-06-16T14:18:21.534Z"
   },
   {
    "duration": 4,
    "start_time": "2024-06-16T14:18:21.544Z"
   },
   {
    "duration": 16,
    "start_time": "2024-06-16T14:18:21.550Z"
   },
   {
    "duration": 8,
    "start_time": "2024-06-16T14:18:21.568Z"
   },
   {
    "duration": 12,
    "start_time": "2024-06-16T14:18:21.577Z"
   },
   {
    "duration": 5,
    "start_time": "2024-06-16T14:18:21.590Z"
   },
   {
    "duration": 5,
    "start_time": "2024-06-16T14:18:21.597Z"
   },
   {
    "duration": 13,
    "start_time": "2024-06-16T14:18:21.603Z"
   },
   {
    "duration": 9,
    "start_time": "2024-06-16T14:18:21.618Z"
   },
   {
    "duration": 4,
    "start_time": "2024-06-16T14:18:21.629Z"
   },
   {
    "duration": 11,
    "start_time": "2024-06-16T14:18:21.634Z"
   },
   {
    "duration": 3,
    "start_time": "2024-06-16T14:18:21.647Z"
   },
   {
    "duration": 7,
    "start_time": "2024-06-16T14:18:21.652Z"
   },
   {
    "duration": 7,
    "start_time": "2024-06-16T14:18:21.682Z"
   },
   {
    "duration": 13,
    "start_time": "2024-06-16T14:18:21.690Z"
   },
   {
    "duration": 17,
    "start_time": "2024-06-16T14:18:21.704Z"
   },
   {
    "duration": 181,
    "start_time": "2024-06-16T14:18:21.722Z"
   },
   {
    "duration": 179,
    "start_time": "2024-06-16T14:18:21.904Z"
   },
   {
    "duration": 5,
    "start_time": "2024-06-16T14:18:22.085Z"
   },
   {
    "duration": 153,
    "start_time": "2024-06-16T14:18:22.093Z"
   },
   {
    "duration": 285,
    "start_time": "2024-06-16T14:18:22.248Z"
   },
   {
    "duration": 175,
    "start_time": "2024-06-16T14:18:22.534Z"
   },
   {
    "duration": 7,
    "start_time": "2024-06-16T14:18:22.710Z"
   },
   {
    "duration": 19,
    "start_time": "2024-06-16T14:18:22.718Z"
   },
   {
    "duration": 18,
    "start_time": "2024-06-16T14:18:22.739Z"
   },
   {
    "duration": 186,
    "start_time": "2024-06-16T14:18:22.759Z"
   },
   {
    "duration": 206,
    "start_time": "2024-06-16T14:18:22.947Z"
   },
   {
    "duration": 10,
    "start_time": "2024-06-16T14:18:23.154Z"
   },
   {
    "duration": 17,
    "start_time": "2024-06-16T14:18:23.165Z"
   },
   {
    "duration": 9,
    "start_time": "2024-06-16T14:18:23.184Z"
   },
   {
    "duration": 3,
    "start_time": "2024-06-16T14:21:57.155Z"
   },
   {
    "duration": 104,
    "start_time": "2024-06-16T14:22:46.427Z"
   },
   {
    "duration": 9,
    "start_time": "2024-06-16T14:23:25.613Z"
   },
   {
    "duration": 10,
    "start_time": "2024-06-16T14:26:02.576Z"
   },
   {
    "duration": 10,
    "start_time": "2024-06-16T14:26:04.707Z"
   },
   {
    "duration": 1137,
    "start_time": "2024-06-16T14:28:17.906Z"
   },
   {
    "duration": 38,
    "start_time": "2024-06-16T14:28:19.045Z"
   },
   {
    "duration": 13,
    "start_time": "2024-06-16T14:28:19.084Z"
   },
   {
    "duration": 5,
    "start_time": "2024-06-16T14:28:19.099Z"
   },
   {
    "duration": 40,
    "start_time": "2024-06-16T14:28:19.105Z"
   },
   {
    "duration": 9,
    "start_time": "2024-06-16T14:28:19.146Z"
   },
   {
    "duration": 22,
    "start_time": "2024-06-16T14:28:19.157Z"
   },
   {
    "duration": 26,
    "start_time": "2024-06-16T14:28:19.181Z"
   },
   {
    "duration": 6,
    "start_time": "2024-06-16T14:28:19.209Z"
   },
   {
    "duration": 5,
    "start_time": "2024-06-16T14:28:19.217Z"
   },
   {
    "duration": 22,
    "start_time": "2024-06-16T14:28:19.223Z"
   },
   {
    "duration": 28,
    "start_time": "2024-06-16T14:28:19.246Z"
   },
   {
    "duration": 10,
    "start_time": "2024-06-16T14:28:19.275Z"
   },
   {
    "duration": 6,
    "start_time": "2024-06-16T14:28:19.286Z"
   },
   {
    "duration": 7,
    "start_time": "2024-06-16T14:28:19.293Z"
   },
   {
    "duration": 6,
    "start_time": "2024-06-16T14:28:19.301Z"
   },
   {
    "duration": 13,
    "start_time": "2024-06-16T14:28:19.309Z"
   },
   {
    "duration": 4,
    "start_time": "2024-06-16T14:28:19.323Z"
   },
   {
    "duration": 6,
    "start_time": "2024-06-16T14:28:19.329Z"
   },
   {
    "duration": 4,
    "start_time": "2024-06-16T14:28:19.336Z"
   },
   {
    "duration": 42,
    "start_time": "2024-06-16T14:28:19.341Z"
   },
   {
    "duration": 8,
    "start_time": "2024-06-16T14:28:19.384Z"
   },
   {
    "duration": 15,
    "start_time": "2024-06-16T14:28:19.393Z"
   },
   {
    "duration": 12,
    "start_time": "2024-06-16T14:28:19.409Z"
   },
   {
    "duration": 170,
    "start_time": "2024-06-16T14:28:19.422Z"
   },
   {
    "duration": 181,
    "start_time": "2024-06-16T14:28:19.593Z"
   },
   {
    "duration": 5,
    "start_time": "2024-06-16T14:28:19.781Z"
   },
   {
    "duration": 158,
    "start_time": "2024-06-16T14:28:19.788Z"
   },
   {
    "duration": 281,
    "start_time": "2024-06-16T14:28:19.947Z"
   },
   {
    "duration": 173,
    "start_time": "2024-06-16T14:28:20.230Z"
   },
   {
    "duration": 7,
    "start_time": "2024-06-16T14:28:20.405Z"
   },
   {
    "duration": 27,
    "start_time": "2024-06-16T14:28:20.413Z"
   },
   {
    "duration": 31,
    "start_time": "2024-06-16T14:28:20.442Z"
   },
   {
    "duration": 184,
    "start_time": "2024-06-16T14:28:20.474Z"
   },
   {
    "duration": 183,
    "start_time": "2024-06-16T14:28:20.659Z"
   },
   {
    "duration": 9,
    "start_time": "2024-06-16T14:28:20.844Z"
   },
   {
    "duration": 9,
    "start_time": "2024-06-16T14:28:20.854Z"
   },
   {
    "duration": 25,
    "start_time": "2024-06-16T14:28:20.864Z"
   },
   {
    "duration": 2,
    "start_time": "2024-06-16T14:36:37.243Z"
   },
   {
    "duration": 1170,
    "start_time": "2024-06-16T16:47:43.876Z"
   },
   {
    "duration": 105,
    "start_time": "2024-06-16T16:47:45.048Z"
   },
   {
    "duration": 14,
    "start_time": "2024-06-16T16:47:45.155Z"
   },
   {
    "duration": 8,
    "start_time": "2024-06-16T16:47:45.172Z"
   },
   {
    "duration": 142,
    "start_time": "2024-06-16T16:47:45.182Z"
   },
   {
    "duration": 8,
    "start_time": "2024-06-16T16:47:45.325Z"
   },
   {
    "duration": 16,
    "start_time": "2024-06-16T16:47:45.335Z"
   },
   {
    "duration": 81,
    "start_time": "2024-06-16T16:47:45.353Z"
   },
   {
    "duration": 7,
    "start_time": "2024-06-16T16:47:45.435Z"
   },
   {
    "duration": 5,
    "start_time": "2024-06-16T16:47:45.445Z"
   },
   {
    "duration": 6,
    "start_time": "2024-06-16T16:47:45.452Z"
   },
   {
    "duration": 7,
    "start_time": "2024-06-16T16:47:45.460Z"
   },
   {
    "duration": 6,
    "start_time": "2024-06-16T16:47:45.469Z"
   },
   {
    "duration": 5,
    "start_time": "2024-06-16T16:47:45.476Z"
   },
   {
    "duration": 4,
    "start_time": "2024-06-16T16:47:45.484Z"
   },
   {
    "duration": 5,
    "start_time": "2024-06-16T16:47:45.508Z"
   },
   {
    "duration": 17,
    "start_time": "2024-06-16T16:47:45.514Z"
   },
   {
    "duration": 4,
    "start_time": "2024-06-16T16:47:45.532Z"
   },
   {
    "duration": 11,
    "start_time": "2024-06-16T16:47:45.538Z"
   },
   {
    "duration": 12,
    "start_time": "2024-06-16T16:47:45.551Z"
   },
   {
    "duration": 17,
    "start_time": "2024-06-16T16:47:45.565Z"
   },
   {
    "duration": 24,
    "start_time": "2024-06-16T16:47:45.583Z"
   },
   {
    "duration": 57,
    "start_time": "2024-06-16T16:47:45.609Z"
   },
   {
    "duration": 46,
    "start_time": "2024-06-16T16:47:45.667Z"
   },
   {
    "duration": 166,
    "start_time": "2024-06-16T16:47:45.714Z"
   },
   {
    "duration": 152,
    "start_time": "2024-06-16T16:47:45.882Z"
   },
   {
    "duration": 5,
    "start_time": "2024-06-16T16:47:46.035Z"
   },
   {
    "duration": 140,
    "start_time": "2024-06-16T16:47:46.042Z"
   },
   {
    "duration": 212,
    "start_time": "2024-06-16T16:47:46.184Z"
   },
   {
    "duration": 145,
    "start_time": "2024-06-16T16:47:46.398Z"
   },
   {
    "duration": 7,
    "start_time": "2024-06-16T16:47:46.544Z"
   },
   {
    "duration": 6,
    "start_time": "2024-06-16T16:47:46.552Z"
   },
   {
    "duration": 7,
    "start_time": "2024-06-16T16:47:46.560Z"
   },
   {
    "duration": 179,
    "start_time": "2024-06-16T16:47:46.569Z"
   },
   {
    "duration": 162,
    "start_time": "2024-06-16T16:47:46.749Z"
   },
   {
    "duration": 7,
    "start_time": "2024-06-16T16:47:46.913Z"
   },
   {
    "duration": 21,
    "start_time": "2024-06-16T16:47:46.922Z"
   },
   {
    "duration": 8,
    "start_time": "2024-06-16T16:47:46.945Z"
   },
   {
    "duration": 117,
    "start_time": "2024-06-16T16:47:46.954Z"
   },
   {
    "duration": 14,
    "start_time": "2024-06-16T17:17:54.990Z"
   },
   {
    "duration": 13,
    "start_time": "2024-06-16T17:18:48.187Z"
   },
   {
    "duration": 17,
    "start_time": "2024-06-16T17:19:03.175Z"
   },
   {
    "duration": 15,
    "start_time": "2024-06-16T17:19:18.506Z"
   },
   {
    "duration": 13,
    "start_time": "2024-06-16T17:27:29.785Z"
   },
   {
    "duration": 16,
    "start_time": "2024-06-16T17:27:31.776Z"
   },
   {
    "duration": 12,
    "start_time": "2024-06-16T17:27:37.630Z"
   },
   {
    "duration": 11,
    "start_time": "2024-06-16T17:27:39.956Z"
   },
   {
    "duration": 13,
    "start_time": "2024-06-16T17:32:32.371Z"
   },
   {
    "duration": 14,
    "start_time": "2024-06-16T17:32:53.989Z"
   },
   {
    "duration": 23,
    "start_time": "2024-06-16T17:46:11.352Z"
   },
   {
    "duration": 22,
    "start_time": "2024-06-16T17:51:03.949Z"
   },
   {
    "duration": 42,
    "start_time": "2024-06-16T17:51:20.592Z"
   },
   {
    "duration": 7,
    "start_time": "2024-06-16T17:52:05.818Z"
   },
   {
    "duration": 23,
    "start_time": "2024-06-16T17:52:20.707Z"
   },
   {
    "duration": 7,
    "start_time": "2024-06-16T17:53:18.842Z"
   },
   {
    "duration": 4,
    "start_time": "2024-06-16T17:53:26.159Z"
   },
   {
    "duration": 20,
    "start_time": "2024-06-16T17:53:28.278Z"
   },
   {
    "duration": 11,
    "start_time": "2024-06-16T17:57:15.544Z"
   },
   {
    "duration": 11,
    "start_time": "2024-06-16T17:57:43.465Z"
   },
   {
    "duration": 1502,
    "start_time": "2024-06-17T07:22:59.986Z"
   },
   {
    "duration": 143,
    "start_time": "2024-06-17T07:23:01.491Z"
   },
   {
    "duration": 29,
    "start_time": "2024-06-17T07:23:01.637Z"
   },
   {
    "duration": 49,
    "start_time": "2024-06-17T07:23:01.669Z"
   },
   {
    "duration": 222,
    "start_time": "2024-06-17T07:23:01.723Z"
   },
   {
    "duration": 11,
    "start_time": "2024-06-17T07:23:01.947Z"
   },
   {
    "duration": 53,
    "start_time": "2024-06-17T07:23:01.959Z"
   },
   {
    "duration": 99,
    "start_time": "2024-06-17T07:23:02.015Z"
   },
   {
    "duration": 7,
    "start_time": "2024-06-17T07:23:02.116Z"
   },
   {
    "duration": 17,
    "start_time": "2024-06-17T07:23:02.125Z"
   },
   {
    "duration": 41,
    "start_time": "2024-06-17T07:23:02.144Z"
   },
   {
    "duration": 36,
    "start_time": "2024-06-17T07:23:02.188Z"
   },
   {
    "duration": 24,
    "start_time": "2024-06-17T07:23:02.225Z"
   },
   {
    "duration": 25,
    "start_time": "2024-06-17T07:23:02.253Z"
   },
   {
    "duration": 27,
    "start_time": "2024-06-17T07:23:02.279Z"
   },
   {
    "duration": 18,
    "start_time": "2024-06-17T07:23:02.308Z"
   },
   {
    "duration": 123,
    "start_time": "2024-06-17T07:23:02.327Z"
   },
   {
    "duration": 41,
    "start_time": "2024-06-17T07:23:02.452Z"
   },
   {
    "duration": 38,
    "start_time": "2024-06-17T07:23:02.495Z"
   },
   {
    "duration": 27,
    "start_time": "2024-06-17T07:23:02.535Z"
   },
   {
    "duration": 46,
    "start_time": "2024-06-17T07:23:02.564Z"
   },
   {
    "duration": 34,
    "start_time": "2024-06-17T07:23:02.612Z"
   },
   {
    "duration": 49,
    "start_time": "2024-06-17T07:23:02.649Z"
   },
   {
    "duration": 19,
    "start_time": "2024-06-17T07:23:02.700Z"
   },
   {
    "duration": 188,
    "start_time": "2024-06-17T07:23:02.721Z"
   },
   {
    "duration": 189,
    "start_time": "2024-06-17T07:23:02.911Z"
   },
   {
    "duration": 6,
    "start_time": "2024-06-17T07:23:03.102Z"
   },
   {
    "duration": 190,
    "start_time": "2024-06-17T07:23:03.109Z"
   },
   {
    "duration": 286,
    "start_time": "2024-06-17T07:23:03.301Z"
   },
   {
    "duration": 181,
    "start_time": "2024-06-17T07:23:03.589Z"
   },
   {
    "duration": 7,
    "start_time": "2024-06-17T07:23:03.772Z"
   },
   {
    "duration": 34,
    "start_time": "2024-06-17T07:23:03.781Z"
   },
   {
    "duration": 32,
    "start_time": "2024-06-17T07:23:03.817Z"
   },
   {
    "duration": 209,
    "start_time": "2024-06-17T07:23:03.851Z"
   },
   {
    "duration": 223,
    "start_time": "2024-06-17T07:23:04.062Z"
   },
   {
    "duration": 388,
    "start_time": "2024-06-17T07:23:04.287Z"
   },
   {
    "duration": 12,
    "start_time": "2024-06-17T07:23:04.677Z"
   },
   {
    "duration": 80,
    "start_time": "2024-06-17T07:23:04.693Z"
   },
   {
    "duration": 25,
    "start_time": "2024-06-17T07:23:04.776Z"
   },
   {
    "duration": 35,
    "start_time": "2024-06-17T07:23:04.803Z"
   },
   {
    "duration": 42,
    "start_time": "2024-06-17T07:23:04.842Z"
   },
   {
    "duration": 29,
    "start_time": "2024-06-17T07:23:04.886Z"
   },
   {
    "duration": 35,
    "start_time": "2024-06-17T07:23:04.917Z"
   },
   {
    "duration": 40,
    "start_time": "2024-06-17T07:23:04.954Z"
   },
   {
    "duration": 26,
    "start_time": "2024-06-17T07:23:04.996Z"
   },
   {
    "duration": 61,
    "start_time": "2024-06-17T07:23:05.024Z"
   },
   {
    "duration": 29,
    "start_time": "2024-06-17T07:23:05.087Z"
   },
   {
    "duration": 142,
    "start_time": "2024-06-17T10:30:26.534Z"
   },
   {
    "duration": 169,
    "start_time": "2024-06-17T10:31:32.571Z"
   },
   {
    "duration": 11,
    "start_time": "2024-06-17T10:32:27.639Z"
   },
   {
    "duration": 13,
    "start_time": "2024-06-17T10:32:35.228Z"
   },
   {
    "duration": 281,
    "start_time": "2024-06-17T10:46:59.191Z"
   },
   {
    "duration": 290,
    "start_time": "2024-06-17T10:47:17.002Z"
   },
   {
    "duration": 276,
    "start_time": "2024-06-17T10:47:22.720Z"
   },
   {
    "duration": 278,
    "start_time": "2024-06-17T10:48:32.588Z"
   },
   {
    "duration": 413,
    "start_time": "2024-06-17T10:48:58.852Z"
   },
   {
    "duration": 306,
    "start_time": "2024-06-17T10:49:04.580Z"
   },
   {
    "duration": 399,
    "start_time": "2024-06-17T10:54:56.880Z"
   },
   {
    "duration": 309,
    "start_time": "2024-06-17T10:55:10.661Z"
   },
   {
    "duration": 348,
    "start_time": "2024-06-17T10:55:20.046Z"
   },
   {
    "duration": 201,
    "start_time": "2024-06-17T10:57:20.457Z"
   },
   {
    "duration": 199,
    "start_time": "2024-06-17T10:57:40.352Z"
   },
   {
    "duration": 329,
    "start_time": "2024-06-17T10:58:01.075Z"
   },
   {
    "duration": 190,
    "start_time": "2024-06-17T10:58:07.491Z"
   },
   {
    "duration": 176,
    "start_time": "2024-06-17T10:58:11.808Z"
   },
   {
    "duration": 7,
    "start_time": "2024-06-17T11:46:41.464Z"
   },
   {
    "duration": 5,
    "start_time": "2024-06-17T12:23:23.034Z"
   },
   {
    "duration": 6,
    "start_time": "2024-06-17T13:48:34.562Z"
   },
   {
    "duration": 4,
    "start_time": "2024-06-17T13:49:17.202Z"
   },
   {
    "duration": 14,
    "start_time": "2024-06-17T13:50:11.620Z"
   },
   {
    "duration": 15,
    "start_time": "2024-06-17T13:50:38.206Z"
   },
   {
    "duration": 17,
    "start_time": "2024-06-17T13:50:53.409Z"
   },
   {
    "duration": 10,
    "start_time": "2024-06-17T13:51:02.315Z"
   },
   {
    "duration": 11,
    "start_time": "2024-06-17T13:51:08.512Z"
   },
   {
    "duration": 12,
    "start_time": "2024-06-17T14:32:37.514Z"
   },
   {
    "duration": 9,
    "start_time": "2024-06-17T14:32:39.749Z"
   },
   {
    "duration": 11,
    "start_time": "2024-06-17T14:33:13.382Z"
   },
   {
    "duration": 12,
    "start_time": "2024-06-17T14:33:20.872Z"
   },
   {
    "duration": 12,
    "start_time": "2024-06-17T14:33:45.508Z"
   },
   {
    "duration": 10,
    "start_time": "2024-06-17T14:33:46.819Z"
   },
   {
    "duration": 10,
    "start_time": "2024-06-17T14:49:26.243Z"
   },
   {
    "duration": 372,
    "start_time": "2024-06-17T14:57:55.753Z"
   },
   {
    "duration": 1159,
    "start_time": "2024-06-17T15:03:45.677Z"
   },
   {
    "duration": 39,
    "start_time": "2024-06-17T15:03:46.838Z"
   },
   {
    "duration": 14,
    "start_time": "2024-06-17T15:03:46.878Z"
   },
   {
    "duration": 4,
    "start_time": "2024-06-17T15:03:46.893Z"
   },
   {
    "duration": 41,
    "start_time": "2024-06-17T15:03:46.900Z"
   },
   {
    "duration": 10,
    "start_time": "2024-06-17T15:03:46.943Z"
   },
   {
    "duration": 5,
    "start_time": "2024-06-17T15:03:46.955Z"
   },
   {
    "duration": 28,
    "start_time": "2024-06-17T15:03:46.962Z"
   },
   {
    "duration": 8,
    "start_time": "2024-06-17T15:03:46.992Z"
   },
   {
    "duration": 5,
    "start_time": "2024-06-17T15:03:47.001Z"
   },
   {
    "duration": 9,
    "start_time": "2024-06-17T15:03:47.007Z"
   },
   {
    "duration": 22,
    "start_time": "2024-06-17T15:03:47.017Z"
   },
   {
    "duration": 41,
    "start_time": "2024-06-17T15:03:47.040Z"
   },
   {
    "duration": 15,
    "start_time": "2024-06-17T15:03:47.084Z"
   },
   {
    "duration": 8,
    "start_time": "2024-06-17T15:03:47.101Z"
   },
   {
    "duration": 5,
    "start_time": "2024-06-17T15:03:47.110Z"
   },
   {
    "duration": 17,
    "start_time": "2024-06-17T15:03:47.117Z"
   },
   {
    "duration": 5,
    "start_time": "2024-06-17T15:03:47.135Z"
   },
   {
    "duration": 10,
    "start_time": "2024-06-17T15:03:47.141Z"
   },
   {
    "duration": 4,
    "start_time": "2024-06-17T15:03:47.152Z"
   },
   {
    "duration": 14,
    "start_time": "2024-06-17T15:03:47.158Z"
   },
   {
    "duration": 16,
    "start_time": "2024-06-17T15:03:47.174Z"
   },
   {
    "duration": 35,
    "start_time": "2024-06-17T15:03:47.192Z"
   },
   {
    "duration": 10,
    "start_time": "2024-06-17T15:03:47.228Z"
   },
   {
    "duration": 162,
    "start_time": "2024-06-17T15:03:47.240Z"
   },
   {
    "duration": 175,
    "start_time": "2024-06-17T15:03:47.403Z"
   },
   {
    "duration": 6,
    "start_time": "2024-06-17T15:03:47.580Z"
   },
   {
    "duration": 174,
    "start_time": "2024-06-17T15:03:47.587Z"
   },
   {
    "duration": 282,
    "start_time": "2024-06-17T15:03:47.762Z"
   },
   {
    "duration": 189,
    "start_time": "2024-06-17T15:03:48.045Z"
   },
   {
    "duration": 8,
    "start_time": "2024-06-17T15:03:48.235Z"
   },
   {
    "duration": 16,
    "start_time": "2024-06-17T15:03:48.245Z"
   },
   {
    "duration": 9,
    "start_time": "2024-06-17T15:03:48.262Z"
   },
   {
    "duration": 215,
    "start_time": "2024-06-17T15:03:48.272Z"
   },
   {
    "duration": 203,
    "start_time": "2024-06-17T15:03:48.489Z"
   },
   {
    "duration": 10,
    "start_time": "2024-06-17T15:03:48.694Z"
   },
   {
    "duration": 14,
    "start_time": "2024-06-17T15:03:48.706Z"
   },
   {
    "duration": 10,
    "start_time": "2024-06-17T15:03:48.722Z"
   },
   {
    "duration": 36,
    "start_time": "2024-06-17T15:03:48.734Z"
   },
   {
    "duration": 23,
    "start_time": "2024-06-17T15:03:48.771Z"
   },
   {
    "duration": 8,
    "start_time": "2024-06-17T15:03:48.798Z"
   },
   {
    "duration": 14,
    "start_time": "2024-06-17T15:03:48.807Z"
   },
   {
    "duration": 34,
    "start_time": "2024-06-17T15:03:48.822Z"
   },
   {
    "duration": 5,
    "start_time": "2024-06-17T15:03:48.857Z"
   },
   {
    "duration": 39,
    "start_time": "2024-06-17T15:03:48.863Z"
   },
   {
    "duration": 15,
    "start_time": "2024-06-17T15:03:48.903Z"
   },
   {
    "duration": 4,
    "start_time": "2024-06-17T15:03:48.920Z"
   },
   {
    "duration": 384,
    "start_time": "2024-06-17T15:03:48.926Z"
   },
   {
    "duration": 9,
    "start_time": "2024-06-17T15:03:49.312Z"
   },
   {
    "duration": 11,
    "start_time": "2024-06-17T15:03:49.323Z"
   },
   {
    "duration": 338,
    "start_time": "2024-06-17T15:03:49.356Z"
   },
   {
    "duration": 10,
    "start_time": "2024-06-17T15:03:49.696Z"
   },
   {
    "duration": 12,
    "start_time": "2024-06-17T15:03:49.708Z"
   },
   {
    "duration": 210,
    "start_time": "2024-06-17T15:04:39.405Z"
   },
   {
    "duration": 177,
    "start_time": "2024-06-17T15:04:47.966Z"
   },
   {
    "duration": 177,
    "start_time": "2024-06-17T15:04:52.718Z"
   },
   {
    "duration": 5,
    "start_time": "2024-06-17T15:11:07.245Z"
   },
   {
    "duration": 335,
    "start_time": "2024-06-17T15:22:04.876Z"
   },
   {
    "duration": 150,
    "start_time": "2024-06-17T15:23:21.775Z"
   },
   {
    "duration": 113,
    "start_time": "2024-06-17T15:24:04.967Z"
   },
   {
    "duration": 33,
    "start_time": "2024-06-17T15:24:27.956Z"
   },
   {
    "duration": 10,
    "start_time": "2024-06-17T15:26:01.432Z"
   },
   {
    "duration": 253,
    "start_time": "2024-06-17T15:26:15.112Z"
   },
   {
    "duration": 314,
    "start_time": "2024-06-17T15:26:49.364Z"
   },
   {
    "duration": 252,
    "start_time": "2024-06-17T15:33:48.715Z"
   },
   {
    "duration": 149,
    "start_time": "2024-06-17T15:34:54.721Z"
   },
   {
    "duration": 10,
    "start_time": "2024-06-17T15:36:41.886Z"
   },
   {
    "duration": 7,
    "start_time": "2024-06-17T15:36:49.257Z"
   },
   {
    "duration": 22,
    "start_time": "2024-06-17T15:36:50.164Z"
   },
   {
    "duration": 4,
    "start_time": "2024-06-17T15:37:09.924Z"
   },
   {
    "duration": 4,
    "start_time": "2024-06-17T15:37:58.048Z"
   },
   {
    "duration": 359,
    "start_time": "2024-06-17T15:37:58.441Z"
   },
   {
    "duration": 4,
    "start_time": "2024-06-17T15:40:32.735Z"
   },
   {
    "duration": 178,
    "start_time": "2024-06-17T15:40:33.051Z"
   },
   {
    "duration": 376,
    "start_time": "2024-06-17T15:51:36.873Z"
   },
   {
    "duration": 14,
    "start_time": "2024-06-17T15:59:33.424Z"
   },
   {
    "duration": 28,
    "start_time": "2024-06-17T16:00:10.150Z"
   },
   {
    "duration": 328,
    "start_time": "2024-06-17T16:00:31.612Z"
   },
   {
    "duration": 428,
    "start_time": "2024-06-17T16:01:10.993Z"
   },
   {
    "duration": 1347,
    "start_time": "2024-06-17T16:01:28.945Z"
   },
   {
    "duration": 40,
    "start_time": "2024-06-17T16:01:30.295Z"
   },
   {
    "duration": 17,
    "start_time": "2024-06-17T16:01:30.336Z"
   },
   {
    "duration": 29,
    "start_time": "2024-06-17T16:01:30.355Z"
   },
   {
    "duration": 116,
    "start_time": "2024-06-17T16:01:30.386Z"
   },
   {
    "duration": 78,
    "start_time": "2024-06-17T16:01:30.504Z"
   },
   {
    "duration": 22,
    "start_time": "2024-06-17T16:01:30.585Z"
   },
   {
    "duration": 106,
    "start_time": "2024-06-17T16:01:30.609Z"
   },
   {
    "duration": 18,
    "start_time": "2024-06-17T16:01:30.717Z"
   },
   {
    "duration": 56,
    "start_time": "2024-06-17T16:01:30.739Z"
   },
   {
    "duration": 56,
    "start_time": "2024-06-17T16:01:30.797Z"
   },
   {
    "duration": 59,
    "start_time": "2024-06-17T16:01:30.860Z"
   },
   {
    "duration": 53,
    "start_time": "2024-06-17T16:01:30.921Z"
   },
   {
    "duration": 60,
    "start_time": "2024-06-17T16:01:30.978Z"
   },
   {
    "duration": 54,
    "start_time": "2024-06-17T16:01:31.040Z"
   },
   {
    "duration": 29,
    "start_time": "2024-06-17T16:01:31.096Z"
   },
   {
    "duration": 60,
    "start_time": "2024-06-17T16:01:31.127Z"
   },
   {
    "duration": 31,
    "start_time": "2024-06-17T16:01:31.189Z"
   },
   {
    "duration": 52,
    "start_time": "2024-06-17T16:01:31.222Z"
   },
   {
    "duration": 34,
    "start_time": "2024-06-17T16:01:31.279Z"
   },
   {
    "duration": 67,
    "start_time": "2024-06-17T16:01:31.315Z"
   },
   {
    "duration": 10,
    "start_time": "2024-06-17T16:01:31.385Z"
   },
   {
    "duration": 44,
    "start_time": "2024-06-17T16:01:31.397Z"
   },
   {
    "duration": 81,
    "start_time": "2024-06-17T16:01:31.443Z"
   },
   {
    "duration": 215,
    "start_time": "2024-06-17T16:01:31.526Z"
   },
   {
    "duration": 187,
    "start_time": "2024-06-17T16:01:31.742Z"
   },
   {
    "duration": 5,
    "start_time": "2024-06-17T16:01:31.931Z"
   },
   {
    "duration": 192,
    "start_time": "2024-06-17T16:01:31.939Z"
   },
   {
    "duration": 296,
    "start_time": "2024-06-17T16:01:32.132Z"
   },
   {
    "duration": 235,
    "start_time": "2024-06-17T16:01:32.430Z"
   },
   {
    "duration": 10,
    "start_time": "2024-06-17T16:01:32.671Z"
   },
   {
    "duration": 22,
    "start_time": "2024-06-17T16:01:32.682Z"
   },
   {
    "duration": 11,
    "start_time": "2024-06-17T16:01:32.707Z"
   },
   {
    "duration": 251,
    "start_time": "2024-06-17T16:01:32.720Z"
   },
   {
    "duration": 209,
    "start_time": "2024-06-17T16:01:32.973Z"
   },
   {
    "duration": 9,
    "start_time": "2024-06-17T16:01:33.184Z"
   },
   {
    "duration": 10,
    "start_time": "2024-06-17T16:01:33.195Z"
   },
   {
    "duration": 11,
    "start_time": "2024-06-17T16:01:33.207Z"
   },
   {
    "duration": 47,
    "start_time": "2024-06-17T16:01:33.220Z"
   },
   {
    "duration": 24,
    "start_time": "2024-06-17T16:01:33.269Z"
   },
   {
    "duration": 112,
    "start_time": "2024-06-17T16:01:33.296Z"
   },
   {
    "duration": 0,
    "start_time": "2024-06-17T16:01:33.410Z"
   },
   {
    "duration": 0,
    "start_time": "2024-06-17T16:01:33.411Z"
   },
   {
    "duration": 0,
    "start_time": "2024-06-17T16:01:33.412Z"
   },
   {
    "duration": 0,
    "start_time": "2024-06-17T16:01:33.414Z"
   },
   {
    "duration": 0,
    "start_time": "2024-06-17T16:01:33.414Z"
   },
   {
    "duration": 0,
    "start_time": "2024-06-17T16:01:33.416Z"
   },
   {
    "duration": 0,
    "start_time": "2024-06-17T16:01:33.416Z"
   },
   {
    "duration": 0,
    "start_time": "2024-06-17T16:01:33.418Z"
   },
   {
    "duration": 0,
    "start_time": "2024-06-17T16:01:33.419Z"
   },
   {
    "duration": 0,
    "start_time": "2024-06-17T16:01:33.420Z"
   },
   {
    "duration": 0,
    "start_time": "2024-06-17T16:01:33.421Z"
   },
   {
    "duration": 0,
    "start_time": "2024-06-17T16:01:33.422Z"
   },
   {
    "duration": 0,
    "start_time": "2024-06-17T16:01:33.423Z"
   },
   {
    "duration": 0,
    "start_time": "2024-06-17T16:01:33.424Z"
   },
   {
    "duration": 1329,
    "start_time": "2024-06-18T05:17:28.160Z"
   },
   {
    "duration": 83,
    "start_time": "2024-06-18T05:17:29.491Z"
   },
   {
    "duration": 13,
    "start_time": "2024-06-18T05:17:29.576Z"
   },
   {
    "duration": 14,
    "start_time": "2024-06-18T05:17:29.590Z"
   },
   {
    "duration": 120,
    "start_time": "2024-06-18T05:17:29.607Z"
   },
   {
    "duration": 11,
    "start_time": "2024-06-18T05:17:29.728Z"
   },
   {
    "duration": 6,
    "start_time": "2024-06-18T05:17:29.740Z"
   },
   {
    "duration": 67,
    "start_time": "2024-06-18T05:17:29.747Z"
   },
   {
    "duration": 8,
    "start_time": "2024-06-18T05:17:29.815Z"
   },
   {
    "duration": 54,
    "start_time": "2024-06-18T05:17:29.824Z"
   },
   {
    "duration": 40,
    "start_time": "2024-06-18T05:17:29.880Z"
   },
   {
    "duration": 14,
    "start_time": "2024-06-18T05:17:29.922Z"
   },
   {
    "duration": 7,
    "start_time": "2024-06-18T05:17:29.939Z"
   },
   {
    "duration": 14,
    "start_time": "2024-06-18T05:17:29.951Z"
   },
   {
    "duration": 11,
    "start_time": "2024-06-18T05:17:29.966Z"
   },
   {
    "duration": 16,
    "start_time": "2024-06-18T05:17:29.979Z"
   },
   {
    "duration": 66,
    "start_time": "2024-06-18T05:17:29.996Z"
   },
   {
    "duration": 90,
    "start_time": "2024-06-18T05:17:30.064Z"
   },
   {
    "duration": 83,
    "start_time": "2024-06-18T05:17:30.155Z"
   },
   {
    "duration": 102,
    "start_time": "2024-06-18T05:17:30.240Z"
   },
   {
    "duration": 113,
    "start_time": "2024-06-18T05:17:30.343Z"
   },
   {
    "duration": 45,
    "start_time": "2024-06-18T05:17:30.457Z"
   },
   {
    "duration": 53,
    "start_time": "2024-06-18T05:17:30.504Z"
   },
   {
    "duration": 31,
    "start_time": "2024-06-18T05:17:30.559Z"
   },
   {
    "duration": 199,
    "start_time": "2024-06-18T05:17:30.591Z"
   },
   {
    "duration": 169,
    "start_time": "2024-06-18T05:17:30.792Z"
   },
   {
    "duration": 7,
    "start_time": "2024-06-18T05:17:30.963Z"
   },
   {
    "duration": 242,
    "start_time": "2024-06-18T05:17:30.971Z"
   },
   {
    "duration": 279,
    "start_time": "2024-06-18T05:17:31.215Z"
   },
   {
    "duration": 201,
    "start_time": "2024-06-18T05:17:31.495Z"
   },
   {
    "duration": 7,
    "start_time": "2024-06-18T05:17:31.697Z"
   },
   {
    "duration": 67,
    "start_time": "2024-06-18T05:17:31.706Z"
   },
   {
    "duration": 26,
    "start_time": "2024-06-18T05:17:31.774Z"
   },
   {
    "duration": 313,
    "start_time": "2024-06-18T05:17:31.802Z"
   },
   {
    "duration": 201,
    "start_time": "2024-06-18T05:17:32.117Z"
   },
   {
    "duration": 10,
    "start_time": "2024-06-18T05:17:32.320Z"
   },
   {
    "duration": 9,
    "start_time": "2024-06-18T05:17:32.332Z"
   },
   {
    "duration": 18,
    "start_time": "2024-06-18T05:17:32.343Z"
   },
   {
    "duration": 33,
    "start_time": "2024-06-18T05:17:32.363Z"
   },
   {
    "duration": 27,
    "start_time": "2024-06-18T05:17:32.398Z"
   },
   {
    "duration": 111,
    "start_time": "2024-06-18T05:17:32.430Z"
   },
   {
    "duration": 0,
    "start_time": "2024-06-18T05:17:32.543Z"
   },
   {
    "duration": 0,
    "start_time": "2024-06-18T05:17:32.545Z"
   },
   {
    "duration": 0,
    "start_time": "2024-06-18T05:17:32.546Z"
   },
   {
    "duration": 0,
    "start_time": "2024-06-18T05:17:32.548Z"
   },
   {
    "duration": 0,
    "start_time": "2024-06-18T05:17:32.550Z"
   },
   {
    "duration": 0,
    "start_time": "2024-06-18T05:17:32.551Z"
   },
   {
    "duration": 0,
    "start_time": "2024-06-18T05:17:32.553Z"
   },
   {
    "duration": 0,
    "start_time": "2024-06-18T05:17:32.555Z"
   },
   {
    "duration": 0,
    "start_time": "2024-06-18T05:17:32.557Z"
   },
   {
    "duration": 0,
    "start_time": "2024-06-18T05:17:32.558Z"
   },
   {
    "duration": 0,
    "start_time": "2024-06-18T05:17:32.582Z"
   },
   {
    "duration": 0,
    "start_time": "2024-06-18T05:17:32.583Z"
   },
   {
    "duration": 0,
    "start_time": "2024-06-18T05:17:32.584Z"
   },
   {
    "duration": 0,
    "start_time": "2024-06-18T05:17:32.585Z"
   },
   {
    "duration": 1449,
    "start_time": "2024-06-18T07:45:59.959Z"
   },
   {
    "duration": 112,
    "start_time": "2024-06-18T07:46:01.410Z"
   },
   {
    "duration": 14,
    "start_time": "2024-06-18T07:46:01.524Z"
   },
   {
    "duration": 61,
    "start_time": "2024-06-18T07:46:01.540Z"
   },
   {
    "duration": 190,
    "start_time": "2024-06-18T07:46:01.602Z"
   },
   {
    "duration": 12,
    "start_time": "2024-06-18T07:46:01.794Z"
   },
   {
    "duration": 54,
    "start_time": "2024-06-18T07:46:01.808Z"
   },
   {
    "duration": 106,
    "start_time": "2024-06-18T07:46:01.864Z"
   },
   {
    "duration": 8,
    "start_time": "2024-06-18T07:46:01.972Z"
   },
   {
    "duration": 30,
    "start_time": "2024-06-18T07:46:01.984Z"
   },
   {
    "duration": 64,
    "start_time": "2024-06-18T07:46:02.016Z"
   },
   {
    "duration": 20,
    "start_time": "2024-06-18T07:46:02.082Z"
   },
   {
    "duration": 32,
    "start_time": "2024-06-18T07:46:02.103Z"
   },
   {
    "duration": 39,
    "start_time": "2024-06-18T07:46:02.137Z"
   },
   {
    "duration": 32,
    "start_time": "2024-06-18T07:46:02.178Z"
   },
   {
    "duration": 5,
    "start_time": "2024-06-18T07:46:02.212Z"
   },
   {
    "duration": 22,
    "start_time": "2024-06-18T07:46:02.219Z"
   },
   {
    "duration": 35,
    "start_time": "2024-06-18T07:46:02.243Z"
   },
   {
    "duration": 13,
    "start_time": "2024-06-18T07:46:02.280Z"
   },
   {
    "duration": 4,
    "start_time": "2024-06-18T07:46:02.295Z"
   },
   {
    "duration": 25,
    "start_time": "2024-06-18T07:46:02.300Z"
   },
   {
    "duration": 52,
    "start_time": "2024-06-18T07:46:02.327Z"
   },
   {
    "duration": 20,
    "start_time": "2024-06-18T07:46:02.381Z"
   },
   {
    "duration": 10,
    "start_time": "2024-06-18T07:46:02.402Z"
   },
   {
    "duration": 185,
    "start_time": "2024-06-18T07:46:02.414Z"
   },
   {
    "duration": 200,
    "start_time": "2024-06-18T07:46:02.601Z"
   },
   {
    "duration": 5,
    "start_time": "2024-06-18T07:46:02.803Z"
   },
   {
    "duration": 168,
    "start_time": "2024-06-18T07:46:02.812Z"
   },
   {
    "duration": 283,
    "start_time": "2024-06-18T07:46:02.981Z"
   },
   {
    "duration": 191,
    "start_time": "2024-06-18T07:46:03.266Z"
   },
   {
    "duration": 7,
    "start_time": "2024-06-18T07:46:03.459Z"
   },
   {
    "duration": 7,
    "start_time": "2024-06-18T07:46:03.468Z"
   },
   {
    "duration": 26,
    "start_time": "2024-06-18T07:46:03.492Z"
   },
   {
    "duration": 214,
    "start_time": "2024-06-18T07:46:03.520Z"
   },
   {
    "duration": 225,
    "start_time": "2024-06-18T07:46:03.735Z"
   },
   {
    "duration": 9,
    "start_time": "2024-06-18T07:46:03.962Z"
   },
   {
    "duration": 25,
    "start_time": "2024-06-18T07:46:03.972Z"
   },
   {
    "duration": 17,
    "start_time": "2024-06-18T07:46:03.999Z"
   },
   {
    "duration": 25,
    "start_time": "2024-06-18T07:46:04.018Z"
   },
   {
    "duration": 16,
    "start_time": "2024-06-18T07:46:04.045Z"
   },
   {
    "duration": 108,
    "start_time": "2024-06-18T07:46:04.063Z"
   },
   {
    "duration": 0,
    "start_time": "2024-06-18T07:46:04.173Z"
   },
   {
    "duration": 0,
    "start_time": "2024-06-18T07:46:04.175Z"
   },
   {
    "duration": 0,
    "start_time": "2024-06-18T07:46:04.176Z"
   },
   {
    "duration": 0,
    "start_time": "2024-06-18T07:46:04.178Z"
   },
   {
    "duration": 0,
    "start_time": "2024-06-18T07:46:04.192Z"
   },
   {
    "duration": 0,
    "start_time": "2024-06-18T07:46:04.193Z"
   },
   {
    "duration": 0,
    "start_time": "2024-06-18T07:46:04.195Z"
   },
   {
    "duration": 0,
    "start_time": "2024-06-18T07:46:04.197Z"
   },
   {
    "duration": 0,
    "start_time": "2024-06-18T07:46:04.198Z"
   },
   {
    "duration": 0,
    "start_time": "2024-06-18T07:46:04.200Z"
   },
   {
    "duration": 0,
    "start_time": "2024-06-18T07:46:04.201Z"
   },
   {
    "duration": 0,
    "start_time": "2024-06-18T07:46:04.203Z"
   },
   {
    "duration": 0,
    "start_time": "2024-06-18T07:46:04.204Z"
   },
   {
    "duration": 0,
    "start_time": "2024-06-18T07:46:04.206Z"
   },
   {
    "duration": 1173,
    "start_time": "2024-06-18T07:54:37.152Z"
   },
   {
    "duration": 37,
    "start_time": "2024-06-18T07:54:38.327Z"
   },
   {
    "duration": 13,
    "start_time": "2024-06-18T07:54:38.365Z"
   },
   {
    "duration": 4,
    "start_time": "2024-06-18T07:54:38.380Z"
   },
   {
    "duration": 39,
    "start_time": "2024-06-18T07:54:38.385Z"
   },
   {
    "duration": 9,
    "start_time": "2024-06-18T07:54:38.426Z"
   },
   {
    "duration": 12,
    "start_time": "2024-06-18T07:54:38.437Z"
   },
   {
    "duration": 30,
    "start_time": "2024-06-18T07:54:38.451Z"
   },
   {
    "duration": 16,
    "start_time": "2024-06-18T07:54:38.482Z"
   },
   {
    "duration": 4,
    "start_time": "2024-06-18T07:54:38.500Z"
   },
   {
    "duration": 11,
    "start_time": "2024-06-18T07:54:38.506Z"
   },
   {
    "duration": 11,
    "start_time": "2024-06-18T07:54:38.518Z"
   },
   {
    "duration": 10,
    "start_time": "2024-06-18T07:54:38.531Z"
   },
   {
    "duration": 6,
    "start_time": "2024-06-18T07:54:38.543Z"
   },
   {
    "duration": 10,
    "start_time": "2024-06-18T07:54:38.551Z"
   },
   {
    "duration": 14,
    "start_time": "2024-06-18T07:54:38.562Z"
   },
   {
    "duration": 22,
    "start_time": "2024-06-18T07:54:38.577Z"
   },
   {
    "duration": 5,
    "start_time": "2024-06-18T07:54:38.601Z"
   },
   {
    "duration": 8,
    "start_time": "2024-06-18T07:54:38.608Z"
   },
   {
    "duration": 21,
    "start_time": "2024-06-18T07:54:38.617Z"
   },
   {
    "duration": 17,
    "start_time": "2024-06-18T07:54:38.640Z"
   },
   {
    "duration": 6,
    "start_time": "2024-06-18T07:54:38.659Z"
   },
   {
    "duration": 23,
    "start_time": "2024-06-18T07:54:38.666Z"
   },
   {
    "duration": 10,
    "start_time": "2024-06-18T07:54:38.691Z"
   },
   {
    "duration": 172,
    "start_time": "2024-06-18T07:54:38.703Z"
   },
   {
    "duration": 176,
    "start_time": "2024-06-18T07:54:38.876Z"
   },
   {
    "duration": 5,
    "start_time": "2024-06-18T07:54:39.054Z"
   },
   {
    "duration": 162,
    "start_time": "2024-06-18T07:54:39.063Z"
   },
   {
    "duration": 288,
    "start_time": "2024-06-18T07:54:39.227Z"
   },
   {
    "duration": 181,
    "start_time": "2024-06-18T07:54:39.516Z"
   },
   {
    "duration": 8,
    "start_time": "2024-06-18T07:54:39.698Z"
   },
   {
    "duration": 7,
    "start_time": "2024-06-18T07:54:39.708Z"
   },
   {
    "duration": 8,
    "start_time": "2024-06-18T07:54:39.716Z"
   },
   {
    "duration": 232,
    "start_time": "2024-06-18T07:54:39.726Z"
   },
   {
    "duration": 225,
    "start_time": "2024-06-18T07:54:39.959Z"
   },
   {
    "duration": 13,
    "start_time": "2024-06-18T07:54:40.186Z"
   },
   {
    "duration": 10,
    "start_time": "2024-06-18T07:54:40.201Z"
   },
   {
    "duration": 9,
    "start_time": "2024-06-18T07:54:40.212Z"
   },
   {
    "duration": 17,
    "start_time": "2024-06-18T07:54:40.222Z"
   },
   {
    "duration": 16,
    "start_time": "2024-06-18T07:54:40.241Z"
   },
   {
    "duration": 104,
    "start_time": "2024-06-18T07:54:40.291Z"
   },
   {
    "duration": 0,
    "start_time": "2024-06-18T07:54:40.397Z"
   },
   {
    "duration": 0,
    "start_time": "2024-06-18T07:54:40.399Z"
   },
   {
    "duration": 0,
    "start_time": "2024-06-18T07:54:40.400Z"
   },
   {
    "duration": 0,
    "start_time": "2024-06-18T07:54:40.402Z"
   },
   {
    "duration": 0,
    "start_time": "2024-06-18T07:54:40.403Z"
   },
   {
    "duration": 0,
    "start_time": "2024-06-18T07:54:40.405Z"
   },
   {
    "duration": 0,
    "start_time": "2024-06-18T07:54:40.407Z"
   },
   {
    "duration": 0,
    "start_time": "2024-06-18T07:54:40.408Z"
   },
   {
    "duration": 0,
    "start_time": "2024-06-18T07:54:40.409Z"
   },
   {
    "duration": 0,
    "start_time": "2024-06-18T07:54:40.411Z"
   },
   {
    "duration": 0,
    "start_time": "2024-06-18T07:54:40.413Z"
   },
   {
    "duration": 0,
    "start_time": "2024-06-18T07:54:40.415Z"
   },
   {
    "duration": 0,
    "start_time": "2024-06-18T07:54:40.416Z"
   },
   {
    "duration": 0,
    "start_time": "2024-06-18T07:54:40.417Z"
   },
   {
    "duration": 19,
    "start_time": "2024-06-18T08:52:00.092Z"
   },
   {
    "duration": 1181,
    "start_time": "2024-06-18T08:52:21.398Z"
   },
   {
    "duration": 42,
    "start_time": "2024-06-18T08:52:22.581Z"
   },
   {
    "duration": 19,
    "start_time": "2024-06-18T08:52:22.625Z"
   },
   {
    "duration": 13,
    "start_time": "2024-06-18T08:52:22.646Z"
   },
   {
    "duration": 42,
    "start_time": "2024-06-18T08:52:22.661Z"
   },
   {
    "duration": 11,
    "start_time": "2024-06-18T08:52:22.705Z"
   },
   {
    "duration": 29,
    "start_time": "2024-06-18T08:52:22.718Z"
   },
   {
    "duration": 34,
    "start_time": "2024-06-18T08:52:22.749Z"
   },
   {
    "duration": 20,
    "start_time": "2024-06-18T08:52:22.784Z"
   },
   {
    "duration": 30,
    "start_time": "2024-06-18T08:52:22.805Z"
   },
   {
    "duration": 20,
    "start_time": "2024-06-18T08:52:22.837Z"
   },
   {
    "duration": 14,
    "start_time": "2024-06-18T08:52:22.859Z"
   },
   {
    "duration": 19,
    "start_time": "2024-06-18T08:52:22.874Z"
   },
   {
    "duration": 15,
    "start_time": "2024-06-18T08:52:22.896Z"
   },
   {
    "duration": 19,
    "start_time": "2024-06-18T08:52:22.913Z"
   },
   {
    "duration": 10,
    "start_time": "2024-06-18T08:52:22.933Z"
   },
   {
    "duration": 10,
    "start_time": "2024-06-18T08:52:22.944Z"
   },
   {
    "duration": 8,
    "start_time": "2024-06-18T08:52:22.956Z"
   },
   {
    "duration": 9,
    "start_time": "2024-06-18T08:52:22.966Z"
   },
   {
    "duration": 6,
    "start_time": "2024-06-18T08:52:22.976Z"
   },
   {
    "duration": 21,
    "start_time": "2024-06-18T08:52:22.984Z"
   },
   {
    "duration": 24,
    "start_time": "2024-06-18T08:52:23.007Z"
   },
   {
    "duration": 23,
    "start_time": "2024-06-18T08:52:23.032Z"
   },
   {
    "duration": 27,
    "start_time": "2024-06-18T08:52:23.057Z"
   },
   {
    "duration": 170,
    "start_time": "2024-06-18T08:52:23.085Z"
   },
   {
    "duration": 176,
    "start_time": "2024-06-18T08:52:23.258Z"
   },
   {
    "duration": 5,
    "start_time": "2024-06-18T08:52:23.437Z"
   },
   {
    "duration": 208,
    "start_time": "2024-06-18T08:52:23.444Z"
   },
   {
    "duration": 269,
    "start_time": "2024-06-18T08:52:23.654Z"
   },
   {
    "duration": 210,
    "start_time": "2024-06-18T08:52:23.925Z"
   },
   {
    "duration": 10,
    "start_time": "2024-06-18T08:52:24.137Z"
   },
   {
    "duration": 10,
    "start_time": "2024-06-18T08:52:24.149Z"
   },
   {
    "duration": 14,
    "start_time": "2024-06-18T08:52:24.161Z"
   },
   {
    "duration": 224,
    "start_time": "2024-06-18T08:52:24.177Z"
   },
   {
    "duration": 201,
    "start_time": "2024-06-18T08:52:24.403Z"
   },
   {
    "duration": 9,
    "start_time": "2024-06-18T08:52:24.605Z"
   },
   {
    "duration": 11,
    "start_time": "2024-06-18T08:52:24.615Z"
   },
   {
    "duration": 26,
    "start_time": "2024-06-18T08:52:24.628Z"
   },
   {
    "duration": 33,
    "start_time": "2024-06-18T08:52:24.655Z"
   },
   {
    "duration": 15,
    "start_time": "2024-06-18T08:52:24.690Z"
   },
   {
    "duration": 103,
    "start_time": "2024-06-18T08:52:24.709Z"
   },
   {
    "duration": 0,
    "start_time": "2024-06-18T08:52:24.814Z"
   },
   {
    "duration": 0,
    "start_time": "2024-06-18T08:52:24.815Z"
   },
   {
    "duration": 0,
    "start_time": "2024-06-18T08:52:24.817Z"
   },
   {
    "duration": 0,
    "start_time": "2024-06-18T08:52:24.819Z"
   },
   {
    "duration": 0,
    "start_time": "2024-06-18T08:52:24.820Z"
   },
   {
    "duration": 0,
    "start_time": "2024-06-18T08:52:24.821Z"
   },
   {
    "duration": 0,
    "start_time": "2024-06-18T08:52:24.823Z"
   },
   {
    "duration": 0,
    "start_time": "2024-06-18T08:52:24.824Z"
   },
   {
    "duration": 0,
    "start_time": "2024-06-18T08:52:24.826Z"
   },
   {
    "duration": 0,
    "start_time": "2024-06-18T08:52:24.827Z"
   },
   {
    "duration": 0,
    "start_time": "2024-06-18T08:52:24.829Z"
   },
   {
    "duration": 0,
    "start_time": "2024-06-18T08:52:24.830Z"
   },
   {
    "duration": 0,
    "start_time": "2024-06-18T08:52:24.832Z"
   },
   {
    "duration": 0,
    "start_time": "2024-06-18T08:52:24.833Z"
   },
   {
    "duration": 58,
    "start_time": "2024-06-18T09:11:33.932Z"
   },
   {
    "duration": 8,
    "start_time": "2024-06-18T09:18:29.662Z"
   },
   {
    "duration": 1205,
    "start_time": "2024-06-18T09:18:48.171Z"
   },
   {
    "duration": 38,
    "start_time": "2024-06-18T09:18:49.378Z"
   },
   {
    "duration": 13,
    "start_time": "2024-06-18T09:18:49.417Z"
   },
   {
    "duration": 5,
    "start_time": "2024-06-18T09:18:49.432Z"
   },
   {
    "duration": 39,
    "start_time": "2024-06-18T09:18:49.439Z"
   },
   {
    "duration": 11,
    "start_time": "2024-06-18T09:18:49.479Z"
   },
   {
    "duration": 12,
    "start_time": "2024-06-18T09:18:49.491Z"
   },
   {
    "duration": 25,
    "start_time": "2024-06-18T09:18:49.505Z"
   },
   {
    "duration": 12,
    "start_time": "2024-06-18T09:18:49.532Z"
   },
   {
    "duration": 9,
    "start_time": "2024-06-18T09:18:49.546Z"
   },
   {
    "duration": 7,
    "start_time": "2024-06-18T09:18:49.557Z"
   },
   {
    "duration": 8,
    "start_time": "2024-06-18T09:18:49.566Z"
   },
   {
    "duration": 19,
    "start_time": "2024-06-18T09:18:49.576Z"
   },
   {
    "duration": 5,
    "start_time": "2024-06-18T09:18:49.596Z"
   },
   {
    "duration": 8,
    "start_time": "2024-06-18T09:18:49.602Z"
   },
   {
    "duration": 22,
    "start_time": "2024-06-18T09:18:49.611Z"
   },
   {
    "duration": 10,
    "start_time": "2024-06-18T09:18:49.635Z"
   },
   {
    "duration": 4,
    "start_time": "2024-06-18T09:18:49.647Z"
   },
   {
    "duration": 24,
    "start_time": "2024-06-18T09:18:49.652Z"
   },
   {
    "duration": 10,
    "start_time": "2024-06-18T09:18:49.678Z"
   },
   {
    "duration": 10,
    "start_time": "2024-06-18T09:18:49.689Z"
   },
   {
    "duration": 12,
    "start_time": "2024-06-18T09:18:49.701Z"
   },
   {
    "duration": 15,
    "start_time": "2024-06-18T09:18:49.714Z"
   },
   {
    "duration": 23,
    "start_time": "2024-06-18T09:18:49.731Z"
   },
   {
    "duration": 212,
    "start_time": "2024-06-18T09:18:49.756Z"
   },
   {
    "duration": 188,
    "start_time": "2024-06-18T09:18:49.971Z"
   },
   {
    "duration": 6,
    "start_time": "2024-06-18T09:18:50.161Z"
   },
   {
    "duration": 172,
    "start_time": "2024-06-18T09:18:50.171Z"
   },
   {
    "duration": 288,
    "start_time": "2024-06-18T09:18:50.344Z"
   },
   {
    "duration": 195,
    "start_time": "2024-06-18T09:18:50.634Z"
   },
   {
    "duration": 8,
    "start_time": "2024-06-18T09:18:50.831Z"
   },
   {
    "duration": 7,
    "start_time": "2024-06-18T09:18:50.841Z"
   },
   {
    "duration": 18,
    "start_time": "2024-06-18T09:18:50.849Z"
   },
   {
    "duration": 222,
    "start_time": "2024-06-18T09:18:50.868Z"
   },
   {
    "duration": 224,
    "start_time": "2024-06-18T09:18:51.091Z"
   },
   {
    "duration": 9,
    "start_time": "2024-06-18T09:18:51.316Z"
   },
   {
    "duration": 23,
    "start_time": "2024-06-18T09:18:51.326Z"
   },
   {
    "duration": 17,
    "start_time": "2024-06-18T09:18:51.350Z"
   },
   {
    "duration": 29,
    "start_time": "2024-06-18T09:18:51.369Z"
   },
   {
    "duration": 17,
    "start_time": "2024-06-18T09:18:51.399Z"
   },
   {
    "duration": 119,
    "start_time": "2024-06-18T09:18:51.418Z"
   },
   {
    "duration": 1,
    "start_time": "2024-06-18T09:18:51.539Z"
   },
   {
    "duration": 0,
    "start_time": "2024-06-18T09:18:51.541Z"
   },
   {
    "duration": 0,
    "start_time": "2024-06-18T09:18:51.542Z"
   },
   {
    "duration": 0,
    "start_time": "2024-06-18T09:18:51.543Z"
   },
   {
    "duration": 0,
    "start_time": "2024-06-18T09:18:51.544Z"
   },
   {
    "duration": 0,
    "start_time": "2024-06-18T09:18:51.545Z"
   },
   {
    "duration": 0,
    "start_time": "2024-06-18T09:18:51.546Z"
   },
   {
    "duration": 0,
    "start_time": "2024-06-18T09:18:51.547Z"
   },
   {
    "duration": 0,
    "start_time": "2024-06-18T09:18:51.549Z"
   },
   {
    "duration": 0,
    "start_time": "2024-06-18T09:18:51.550Z"
   },
   {
    "duration": 0,
    "start_time": "2024-06-18T09:18:51.551Z"
   },
   {
    "duration": 0,
    "start_time": "2024-06-18T09:18:51.553Z"
   },
   {
    "duration": 0,
    "start_time": "2024-06-18T09:18:51.555Z"
   },
   {
    "duration": 0,
    "start_time": "2024-06-18T09:18:51.556Z"
   },
   {
    "duration": 0,
    "start_time": "2024-06-18T09:18:51.557Z"
   },
   {
    "duration": 0,
    "start_time": "2024-06-18T09:18:51.559Z"
   },
   {
    "duration": 0,
    "start_time": "2024-06-18T09:18:51.593Z"
   },
   {
    "duration": 8,
    "start_time": "2024-06-18T09:18:56.057Z"
   },
   {
    "duration": 7,
    "start_time": "2024-06-18T09:18:58.808Z"
   },
   {
    "duration": 1204,
    "start_time": "2024-06-18T09:20:24.473Z"
   },
   {
    "duration": 38,
    "start_time": "2024-06-18T09:20:25.679Z"
   },
   {
    "duration": 14,
    "start_time": "2024-06-18T09:20:25.718Z"
   },
   {
    "duration": 5,
    "start_time": "2024-06-18T09:20:25.733Z"
   },
   {
    "duration": 43,
    "start_time": "2024-06-18T09:20:25.740Z"
   },
   {
    "duration": 12,
    "start_time": "2024-06-18T09:20:25.785Z"
   },
   {
    "duration": 8,
    "start_time": "2024-06-18T09:20:25.799Z"
   },
   {
    "duration": 29,
    "start_time": "2024-06-18T09:20:25.809Z"
   },
   {
    "duration": 9,
    "start_time": "2024-06-18T09:20:25.839Z"
   },
   {
    "duration": 8,
    "start_time": "2024-06-18T09:20:25.849Z"
   },
   {
    "duration": 21,
    "start_time": "2024-06-18T09:20:25.859Z"
   },
   {
    "duration": 13,
    "start_time": "2024-06-18T09:20:25.881Z"
   },
   {
    "duration": 12,
    "start_time": "2024-06-18T09:20:25.896Z"
   },
   {
    "duration": 20,
    "start_time": "2024-06-18T09:20:25.913Z"
   },
   {
    "duration": 20,
    "start_time": "2024-06-18T09:20:25.936Z"
   },
   {
    "duration": 26,
    "start_time": "2024-06-18T09:20:25.959Z"
   },
   {
    "duration": 13,
    "start_time": "2024-06-18T09:20:25.987Z"
   },
   {
    "duration": 6,
    "start_time": "2024-06-18T09:20:26.003Z"
   },
   {
    "duration": 12,
    "start_time": "2024-06-18T09:20:26.011Z"
   },
   {
    "duration": 9,
    "start_time": "2024-06-18T09:20:26.025Z"
   },
   {
    "duration": 38,
    "start_time": "2024-06-18T09:20:26.036Z"
   },
   {
    "duration": 18,
    "start_time": "2024-06-18T09:20:26.076Z"
   },
   {
    "duration": 16,
    "start_time": "2024-06-18T09:20:26.096Z"
   },
   {
    "duration": 10,
    "start_time": "2024-06-18T09:20:26.114Z"
   },
   {
    "duration": 190,
    "start_time": "2024-06-18T09:20:26.125Z"
   },
   {
    "duration": 198,
    "start_time": "2024-06-18T09:20:26.317Z"
   },
   {
    "duration": 6,
    "start_time": "2024-06-18T09:20:26.517Z"
   },
   {
    "duration": 175,
    "start_time": "2024-06-18T09:20:26.525Z"
   },
   {
    "duration": 271,
    "start_time": "2024-06-18T09:20:26.702Z"
   },
   {
    "duration": 187,
    "start_time": "2024-06-18T09:20:26.975Z"
   },
   {
    "duration": 7,
    "start_time": "2024-06-18T09:20:27.164Z"
   },
   {
    "duration": 28,
    "start_time": "2024-06-18T09:20:27.173Z"
   },
   {
    "duration": 9,
    "start_time": "2024-06-18T09:20:27.203Z"
   },
   {
    "duration": 209,
    "start_time": "2024-06-18T09:20:27.214Z"
   },
   {
    "duration": 217,
    "start_time": "2024-06-18T09:20:27.426Z"
   },
   {
    "duration": 10,
    "start_time": "2024-06-18T09:20:27.645Z"
   },
   {
    "duration": 16,
    "start_time": "2024-06-18T09:20:27.656Z"
   },
   {
    "duration": 34,
    "start_time": "2024-06-18T09:20:27.674Z"
   },
   {
    "duration": 111,
    "start_time": "2024-06-18T09:20:27.710Z"
   },
   {
    "duration": 0,
    "start_time": "2024-06-18T09:20:27.823Z"
   },
   {
    "duration": 0,
    "start_time": "2024-06-18T09:20:27.824Z"
   },
   {
    "duration": 0,
    "start_time": "2024-06-18T09:20:27.825Z"
   },
   {
    "duration": 0,
    "start_time": "2024-06-18T09:20:27.826Z"
   },
   {
    "duration": 0,
    "start_time": "2024-06-18T09:20:27.828Z"
   },
   {
    "duration": 0,
    "start_time": "2024-06-18T09:20:27.829Z"
   },
   {
    "duration": 0,
    "start_time": "2024-06-18T09:20:27.830Z"
   },
   {
    "duration": 0,
    "start_time": "2024-06-18T09:20:27.831Z"
   },
   {
    "duration": 0,
    "start_time": "2024-06-18T09:20:27.832Z"
   },
   {
    "duration": 0,
    "start_time": "2024-06-18T09:20:27.833Z"
   },
   {
    "duration": 0,
    "start_time": "2024-06-18T09:20:27.834Z"
   },
   {
    "duration": 0,
    "start_time": "2024-06-18T09:20:27.836Z"
   },
   {
    "duration": 0,
    "start_time": "2024-06-18T09:20:27.836Z"
   },
   {
    "duration": 0,
    "start_time": "2024-06-18T09:20:27.837Z"
   },
   {
    "duration": 0,
    "start_time": "2024-06-18T09:20:27.839Z"
   },
   {
    "duration": 1,
    "start_time": "2024-06-18T09:20:27.839Z"
   },
   {
    "duration": 0,
    "start_time": "2024-06-18T09:20:27.841Z"
   },
   {
    "duration": 5,
    "start_time": "2024-06-18T09:20:39.899Z"
   },
   {
    "duration": 6,
    "start_time": "2024-06-18T09:20:44.393Z"
   },
   {
    "duration": 67,
    "start_time": "2024-06-18T09:40:21.760Z"
   },
   {
    "duration": 5,
    "start_time": "2024-06-18T09:50:30.948Z"
   },
   {
    "duration": 25,
    "start_time": "2024-06-18T09:50:36.569Z"
   },
   {
    "duration": 59,
    "start_time": "2024-06-18T09:56:17.519Z"
   },
   {
    "duration": 51,
    "start_time": "2024-06-18T09:56:27.593Z"
   },
   {
    "duration": 21,
    "start_time": "2024-06-18T09:56:57.933Z"
   },
   {
    "duration": 22,
    "start_time": "2024-06-18T09:59:35.483Z"
   },
   {
    "duration": 271,
    "start_time": "2024-06-18T10:18:20.694Z"
   },
   {
    "duration": 223,
    "start_time": "2024-06-18T10:18:50.736Z"
   },
   {
    "duration": 20,
    "start_time": "2024-06-18T10:19:22.269Z"
   },
   {
    "duration": 19,
    "start_time": "2024-06-18T10:19:26.410Z"
   },
   {
    "duration": 1153,
    "start_time": "2024-06-18T10:19:34.353Z"
   },
   {
    "duration": 37,
    "start_time": "2024-06-18T10:19:35.508Z"
   },
   {
    "duration": 13,
    "start_time": "2024-06-18T10:19:35.546Z"
   },
   {
    "duration": 5,
    "start_time": "2024-06-18T10:19:35.561Z"
   },
   {
    "duration": 42,
    "start_time": "2024-06-18T10:19:35.568Z"
   },
   {
    "duration": 10,
    "start_time": "2024-06-18T10:19:35.612Z"
   },
   {
    "duration": 10,
    "start_time": "2024-06-18T10:19:35.623Z"
   },
   {
    "duration": 49,
    "start_time": "2024-06-18T10:19:35.635Z"
   },
   {
    "duration": 8,
    "start_time": "2024-06-18T10:19:35.686Z"
   },
   {
    "duration": 31,
    "start_time": "2024-06-18T10:19:35.696Z"
   },
   {
    "duration": 13,
    "start_time": "2024-06-18T10:19:35.729Z"
   },
   {
    "duration": 23,
    "start_time": "2024-06-18T10:19:35.743Z"
   },
   {
    "duration": 16,
    "start_time": "2024-06-18T10:19:35.767Z"
   },
   {
    "duration": 11,
    "start_time": "2024-06-18T10:19:35.785Z"
   },
   {
    "duration": 17,
    "start_time": "2024-06-18T10:19:35.797Z"
   },
   {
    "duration": 24,
    "start_time": "2024-06-18T10:19:35.815Z"
   },
   {
    "duration": 9,
    "start_time": "2024-06-18T10:19:35.841Z"
   },
   {
    "duration": 9,
    "start_time": "2024-06-18T10:19:35.852Z"
   },
   {
    "duration": 9,
    "start_time": "2024-06-18T10:19:35.862Z"
   },
   {
    "duration": 6,
    "start_time": "2024-06-18T10:19:35.872Z"
   },
   {
    "duration": 18,
    "start_time": "2024-06-18T10:19:35.880Z"
   },
   {
    "duration": 21,
    "start_time": "2024-06-18T10:19:35.899Z"
   },
   {
    "duration": 42,
    "start_time": "2024-06-18T10:19:35.922Z"
   },
   {
    "duration": 23,
    "start_time": "2024-06-18T10:19:35.966Z"
   },
   {
    "duration": 201,
    "start_time": "2024-06-18T10:19:35.991Z"
   },
   {
    "duration": 176,
    "start_time": "2024-06-18T10:19:36.194Z"
   },
   {
    "duration": 5,
    "start_time": "2024-06-18T10:19:36.372Z"
   },
   {
    "duration": 156,
    "start_time": "2024-06-18T10:19:36.391Z"
   },
   {
    "duration": 294,
    "start_time": "2024-06-18T10:19:36.549Z"
   },
   {
    "duration": 191,
    "start_time": "2024-06-18T10:19:36.845Z"
   },
   {
    "duration": 8,
    "start_time": "2024-06-18T10:19:37.038Z"
   },
   {
    "duration": 18,
    "start_time": "2024-06-18T10:19:37.047Z"
   },
   {
    "duration": 48,
    "start_time": "2024-06-18T10:19:37.066Z"
   },
   {
    "duration": 196,
    "start_time": "2024-06-18T10:19:37.116Z"
   },
   {
    "duration": 202,
    "start_time": "2024-06-18T10:19:37.313Z"
   },
   {
    "duration": 9,
    "start_time": "2024-06-18T10:19:37.516Z"
   },
   {
    "duration": 24,
    "start_time": "2024-06-18T10:19:37.527Z"
   },
   {
    "duration": 18,
    "start_time": "2024-06-18T10:19:37.553Z"
   },
   {
    "duration": 124,
    "start_time": "2024-06-18T10:19:37.573Z"
   },
   {
    "duration": 0,
    "start_time": "2024-06-18T10:19:37.699Z"
   },
   {
    "duration": 0,
    "start_time": "2024-06-18T10:19:37.700Z"
   },
   {
    "duration": 0,
    "start_time": "2024-06-18T10:19:37.701Z"
   },
   {
    "duration": 0,
    "start_time": "2024-06-18T10:19:37.702Z"
   },
   {
    "duration": 0,
    "start_time": "2024-06-18T10:19:37.703Z"
   },
   {
    "duration": 0,
    "start_time": "2024-06-18T10:19:37.705Z"
   },
   {
    "duration": 0,
    "start_time": "2024-06-18T10:19:37.705Z"
   },
   {
    "duration": 0,
    "start_time": "2024-06-18T10:19:37.706Z"
   },
   {
    "duration": 1,
    "start_time": "2024-06-18T10:19:37.707Z"
   },
   {
    "duration": 0,
    "start_time": "2024-06-18T10:19:37.708Z"
   },
   {
    "duration": 0,
    "start_time": "2024-06-18T10:19:37.710Z"
   },
   {
    "duration": 0,
    "start_time": "2024-06-18T10:19:37.711Z"
   },
   {
    "duration": 0,
    "start_time": "2024-06-18T10:19:37.712Z"
   },
   {
    "duration": 0,
    "start_time": "2024-06-18T10:19:37.713Z"
   },
   {
    "duration": 0,
    "start_time": "2024-06-18T10:19:37.714Z"
   },
   {
    "duration": 0,
    "start_time": "2024-06-18T10:19:37.715Z"
   },
   {
    "duration": 0,
    "start_time": "2024-06-18T10:19:37.716Z"
   },
   {
    "duration": 0,
    "start_time": "2024-06-18T10:19:37.717Z"
   },
   {
    "duration": 7,
    "start_time": "2024-06-18T10:19:42.841Z"
   },
   {
    "duration": 7,
    "start_time": "2024-06-18T10:19:44.305Z"
   },
   {
    "duration": 79,
    "start_time": "2024-06-18T10:19:47.020Z"
   },
   {
    "duration": 40,
    "start_time": "2024-06-18T10:19:48.705Z"
   },
   {
    "duration": 26,
    "start_time": "2024-06-18T10:21:12.013Z"
   },
   {
    "duration": 22,
    "start_time": "2024-06-18T10:28:53.636Z"
   },
   {
    "duration": 110,
    "start_time": "2024-06-18T10:29:25.390Z"
   },
   {
    "duration": 4,
    "start_time": "2024-06-18T10:39:44.813Z"
   },
   {
    "duration": 110,
    "start_time": "2024-06-18T10:41:05.892Z"
   },
   {
    "duration": 18,
    "start_time": "2024-06-18T10:45:25.277Z"
   },
   {
    "duration": 110,
    "start_time": "2024-06-18T10:49:30.384Z"
   },
   {
    "duration": 115,
    "start_time": "2024-06-18T10:49:54.765Z"
   },
   {
    "duration": 1199,
    "start_time": "2024-06-18T10:50:08.067Z"
   },
   {
    "duration": 37,
    "start_time": "2024-06-18T10:50:09.269Z"
   },
   {
    "duration": 13,
    "start_time": "2024-06-18T10:50:09.307Z"
   },
   {
    "duration": 35,
    "start_time": "2024-06-18T10:50:09.322Z"
   },
   {
    "duration": 57,
    "start_time": "2024-06-18T10:50:09.359Z"
   },
   {
    "duration": 10,
    "start_time": "2024-06-18T10:50:09.418Z"
   },
   {
    "duration": 12,
    "start_time": "2024-06-18T10:50:09.429Z"
   },
   {
    "duration": 30,
    "start_time": "2024-06-18T10:50:09.442Z"
   },
   {
    "duration": 7,
    "start_time": "2024-06-18T10:50:09.474Z"
   },
   {
    "duration": 11,
    "start_time": "2024-06-18T10:50:09.483Z"
   },
   {
    "duration": 29,
    "start_time": "2024-06-18T10:50:09.495Z"
   },
   {
    "duration": 44,
    "start_time": "2024-06-18T10:50:09.525Z"
   },
   {
    "duration": 12,
    "start_time": "2024-06-18T10:50:09.571Z"
   },
   {
    "duration": 7,
    "start_time": "2024-06-18T10:50:09.586Z"
   },
   {
    "duration": 14,
    "start_time": "2024-06-18T10:50:09.595Z"
   },
   {
    "duration": 11,
    "start_time": "2024-06-18T10:50:09.610Z"
   },
   {
    "duration": 27,
    "start_time": "2024-06-18T10:50:09.623Z"
   },
   {
    "duration": 5,
    "start_time": "2024-06-18T10:50:09.652Z"
   },
   {
    "duration": 16,
    "start_time": "2024-06-18T10:50:09.658Z"
   },
   {
    "duration": 9,
    "start_time": "2024-06-18T10:50:09.676Z"
   },
   {
    "duration": 10,
    "start_time": "2024-06-18T10:50:09.687Z"
   },
   {
    "duration": 9,
    "start_time": "2024-06-18T10:50:09.699Z"
   },
   {
    "duration": 44,
    "start_time": "2024-06-18T10:50:09.709Z"
   },
   {
    "duration": 26,
    "start_time": "2024-06-18T10:50:09.755Z"
   },
   {
    "duration": 216,
    "start_time": "2024-06-18T10:50:09.783Z"
   },
   {
    "duration": 232,
    "start_time": "2024-06-18T10:50:10.001Z"
   },
   {
    "duration": 6,
    "start_time": "2024-06-18T10:50:10.239Z"
   },
   {
    "duration": 181,
    "start_time": "2024-06-18T10:50:10.247Z"
   },
   {
    "duration": 294,
    "start_time": "2024-06-18T10:50:10.431Z"
   },
   {
    "duration": 198,
    "start_time": "2024-06-18T10:50:10.727Z"
   },
   {
    "duration": 8,
    "start_time": "2024-06-18T10:50:10.927Z"
   },
   {
    "duration": 12,
    "start_time": "2024-06-18T10:50:10.936Z"
   },
   {
    "duration": 8,
    "start_time": "2024-06-18T10:50:10.950Z"
   },
   {
    "duration": 244,
    "start_time": "2024-06-18T10:50:10.960Z"
   },
   {
    "duration": 222,
    "start_time": "2024-06-18T10:50:11.206Z"
   },
   {
    "duration": 9,
    "start_time": "2024-06-18T10:50:11.430Z"
   },
   {
    "duration": 22,
    "start_time": "2024-06-18T10:50:11.441Z"
   },
   {
    "duration": 36,
    "start_time": "2024-06-18T10:50:11.464Z"
   },
   {
    "duration": 26,
    "start_time": "2024-06-18T10:50:11.502Z"
   },
   {
    "duration": 13,
    "start_time": "2024-06-18T10:50:11.530Z"
   },
   {
    "duration": 22,
    "start_time": "2024-06-18T10:50:11.547Z"
   },
   {
    "duration": 14,
    "start_time": "2024-06-18T10:50:11.571Z"
   },
   {
    "duration": 5,
    "start_time": "2024-06-18T10:50:11.593Z"
   },
   {
    "duration": 32,
    "start_time": "2024-06-18T10:50:11.600Z"
   },
   {
    "duration": 23,
    "start_time": "2024-06-18T10:50:11.634Z"
   },
   {
    "duration": 4,
    "start_time": "2024-06-18T10:50:11.659Z"
   },
   {
    "duration": 439,
    "start_time": "2024-06-18T10:50:11.664Z"
   },
   {
    "duration": 13,
    "start_time": "2024-06-18T10:50:12.105Z"
   },
   {
    "duration": 29,
    "start_time": "2024-06-18T10:50:12.120Z"
   },
   {
    "duration": 324,
    "start_time": "2024-06-18T10:50:12.151Z"
   },
   {
    "duration": 19,
    "start_time": "2024-06-18T10:50:12.477Z"
   },
   {
    "duration": 28,
    "start_time": "2024-06-18T10:50:12.499Z"
   },
   {
    "duration": 298,
    "start_time": "2024-06-18T10:50:12.529Z"
   },
   {
    "duration": 6,
    "start_time": "2024-06-18T10:50:12.829Z"
   },
   {
    "duration": 9,
    "start_time": "2024-06-18T10:50:12.837Z"
   },
   {
    "duration": 125,
    "start_time": "2024-06-18T10:50:12.847Z"
   },
   {
    "duration": 32,
    "start_time": "2024-06-18T10:50:12.974Z"
   },
   {
    "duration": 113,
    "start_time": "2024-06-18T10:52:20.595Z"
   },
   {
    "duration": 23,
    "start_time": "2024-06-18T11:54:53.743Z"
   },
   {
    "duration": 19,
    "start_time": "2024-06-18T12:05:15.575Z"
   },
   {
    "duration": 20,
    "start_time": "2024-06-18T12:05:39.145Z"
   },
   {
    "duration": 17,
    "start_time": "2024-06-18T12:11:07.249Z"
   },
   {
    "duration": 18,
    "start_time": "2024-06-18T12:11:12.855Z"
   },
   {
    "duration": 25,
    "start_time": "2024-06-18T12:20:18.258Z"
   },
   {
    "duration": 19,
    "start_time": "2024-06-18T12:20:31.881Z"
   },
   {
    "duration": 14,
    "start_time": "2024-06-18T12:24:01.034Z"
   },
   {
    "duration": 16,
    "start_time": "2024-06-18T12:26:13.509Z"
   },
   {
    "duration": 125,
    "start_time": "2024-06-18T12:40:12.988Z"
   },
   {
    "duration": 51,
    "start_time": "2024-06-18T12:40:26.106Z"
   },
   {
    "duration": 874,
    "start_time": "2024-06-18T12:51:38.127Z"
   },
   {
    "duration": 10,
    "start_time": "2024-06-18T12:59:33.795Z"
   },
   {
    "duration": 114,
    "start_time": "2024-06-18T13:18:09.549Z"
   },
   {
    "duration": 106,
    "start_time": "2024-06-18T13:53:18.805Z"
   },
   {
    "duration": 16,
    "start_time": "2024-06-18T13:53:28.935Z"
   },
   {
    "duration": 12,
    "start_time": "2024-06-18T13:53:32.636Z"
   },
   {
    "duration": 115,
    "start_time": "2024-06-18T13:56:28.984Z"
   },
   {
    "duration": 121,
    "start_time": "2024-06-18T13:56:43.947Z"
   },
   {
    "duration": 128,
    "start_time": "2024-06-18T13:57:41.805Z"
   },
   {
    "duration": 1116,
    "start_time": "2024-06-18T13:57:55.351Z"
   },
   {
    "duration": 38,
    "start_time": "2024-06-18T13:57:56.469Z"
   },
   {
    "duration": 12,
    "start_time": "2024-06-18T13:57:56.509Z"
   },
   {
    "duration": 60,
    "start_time": "2024-06-18T13:57:56.523Z"
   },
   {
    "duration": 50,
    "start_time": "2024-06-18T13:57:56.585Z"
   },
   {
    "duration": 10,
    "start_time": "2024-06-18T13:57:56.637Z"
   },
   {
    "duration": 11,
    "start_time": "2024-06-18T13:57:56.649Z"
   },
   {
    "duration": 55,
    "start_time": "2024-06-18T13:57:56.662Z"
   },
   {
    "duration": 7,
    "start_time": "2024-06-18T13:57:56.719Z"
   },
   {
    "duration": 32,
    "start_time": "2024-06-18T13:57:56.728Z"
   },
   {
    "duration": 12,
    "start_time": "2024-06-18T13:57:56.762Z"
   },
   {
    "duration": 13,
    "start_time": "2024-06-18T13:57:56.775Z"
   },
   {
    "duration": 16,
    "start_time": "2024-06-18T13:57:56.789Z"
   },
   {
    "duration": 19,
    "start_time": "2024-06-18T13:57:56.808Z"
   },
   {
    "duration": 37,
    "start_time": "2024-06-18T13:57:56.829Z"
   },
   {
    "duration": 13,
    "start_time": "2024-06-18T13:57:56.868Z"
   },
   {
    "duration": 26,
    "start_time": "2024-06-18T13:57:56.883Z"
   },
   {
    "duration": 32,
    "start_time": "2024-06-18T13:57:56.910Z"
   },
   {
    "duration": 24,
    "start_time": "2024-06-18T13:57:56.944Z"
   },
   {
    "duration": 18,
    "start_time": "2024-06-18T13:57:56.970Z"
   },
   {
    "duration": 20,
    "start_time": "2024-06-18T13:57:56.990Z"
   },
   {
    "duration": 12,
    "start_time": "2024-06-18T13:57:57.012Z"
   },
   {
    "duration": 12,
    "start_time": "2024-06-18T13:57:57.026Z"
   },
   {
    "duration": 10,
    "start_time": "2024-06-18T13:57:57.040Z"
   },
   {
    "duration": 167,
    "start_time": "2024-06-18T13:57:57.051Z"
   },
   {
    "duration": 184,
    "start_time": "2024-06-18T13:57:57.220Z"
   },
   {
    "duration": 5,
    "start_time": "2024-06-18T13:57:57.405Z"
   },
   {
    "duration": 222,
    "start_time": "2024-06-18T13:57:57.412Z"
   },
   {
    "duration": 657,
    "start_time": "2024-06-18T13:57:57.636Z"
   },
   {
    "duration": 334,
    "start_time": "2024-06-18T13:57:58.295Z"
   },
   {
    "duration": 63,
    "start_time": "2024-06-18T13:57:58.630Z"
   },
   {
    "duration": 8,
    "start_time": "2024-06-18T13:57:58.694Z"
   },
   {
    "duration": 31,
    "start_time": "2024-06-18T13:57:58.703Z"
   },
   {
    "duration": 466,
    "start_time": "2024-06-18T13:57:58.736Z"
   },
   {
    "duration": 214,
    "start_time": "2024-06-18T13:57:59.204Z"
   },
   {
    "duration": 9,
    "start_time": "2024-06-18T13:57:59.420Z"
   },
   {
    "duration": 17,
    "start_time": "2024-06-18T13:57:59.430Z"
   },
   {
    "duration": 26,
    "start_time": "2024-06-18T13:57:59.448Z"
   },
   {
    "duration": 4,
    "start_time": "2024-06-18T13:57:59.491Z"
   },
   {
    "duration": 27,
    "start_time": "2024-06-18T13:57:59.496Z"
   },
   {
    "duration": 15,
    "start_time": "2024-06-18T13:57:59.527Z"
   },
   {
    "duration": 23,
    "start_time": "2024-06-18T13:57:59.544Z"
   },
   {
    "duration": 4,
    "start_time": "2024-06-18T13:57:59.569Z"
   },
   {
    "duration": 20,
    "start_time": "2024-06-18T13:57:59.574Z"
   },
   {
    "duration": 37,
    "start_time": "2024-06-18T13:57:59.596Z"
   },
   {
    "duration": 10,
    "start_time": "2024-06-18T13:57:59.634Z"
   },
   {
    "duration": 422,
    "start_time": "2024-06-18T13:57:59.646Z"
   },
   {
    "duration": 11,
    "start_time": "2024-06-18T13:58:00.069Z"
   },
   {
    "duration": 57,
    "start_time": "2024-06-18T13:58:00.082Z"
   },
   {
    "duration": 389,
    "start_time": "2024-06-18T13:58:00.140Z"
   },
   {
    "duration": 9,
    "start_time": "2024-06-18T13:58:00.531Z"
   },
   {
    "duration": 51,
    "start_time": "2024-06-18T13:58:00.542Z"
   },
   {
    "duration": 387,
    "start_time": "2024-06-18T13:58:00.594Z"
   },
   {
    "duration": 9,
    "start_time": "2024-06-18T13:58:00.983Z"
   },
   {
    "duration": 41,
    "start_time": "2024-06-18T13:58:00.994Z"
   },
   {
    "duration": 166,
    "start_time": "2024-06-18T13:58:01.036Z"
   },
   {
    "duration": 179,
    "start_time": "2024-06-18T13:58:01.204Z"
   },
   {
    "duration": 160,
    "start_time": "2024-06-18T13:58:01.385Z"
   },
   {
    "duration": 224,
    "start_time": "2024-06-18T13:58:01.547Z"
   },
   {
    "duration": 120,
    "start_time": "2024-06-18T14:01:35.809Z"
   },
   {
    "duration": 17,
    "start_time": "2024-06-18T14:01:41.095Z"
   },
   {
    "duration": 15,
    "start_time": "2024-06-18T14:01:43.768Z"
   },
   {
    "duration": 120,
    "start_time": "2024-06-18T14:01:48.005Z"
   },
   {
    "duration": 1112,
    "start_time": "2024-06-18T14:08:04.667Z"
   },
   {
    "duration": 137,
    "start_time": "2024-06-18T14:29:35.077Z"
   },
   {
    "duration": 142,
    "start_time": "2024-06-18T14:35:19.545Z"
   },
   {
    "duration": 1147,
    "start_time": "2024-06-18T14:37:36.038Z"
   },
   {
    "duration": 39,
    "start_time": "2024-06-18T14:37:37.187Z"
   },
   {
    "duration": 14,
    "start_time": "2024-06-18T14:37:37.228Z"
   },
   {
    "duration": 6,
    "start_time": "2024-06-18T14:37:37.244Z"
   },
   {
    "duration": 49,
    "start_time": "2024-06-18T14:37:37.252Z"
   },
   {
    "duration": 10,
    "start_time": "2024-06-18T14:37:37.303Z"
   },
   {
    "duration": 14,
    "start_time": "2024-06-18T14:37:37.315Z"
   },
   {
    "duration": 37,
    "start_time": "2024-06-18T14:37:37.331Z"
   },
   {
    "duration": 7,
    "start_time": "2024-06-18T14:37:37.370Z"
   },
   {
    "duration": 11,
    "start_time": "2024-06-18T14:37:37.380Z"
   },
   {
    "duration": 8,
    "start_time": "2024-06-18T14:37:37.393Z"
   },
   {
    "duration": 14,
    "start_time": "2024-06-18T14:37:37.403Z"
   },
   {
    "duration": 39,
    "start_time": "2024-06-18T14:37:37.418Z"
   },
   {
    "duration": 11,
    "start_time": "2024-06-18T14:37:37.458Z"
   },
   {
    "duration": 23,
    "start_time": "2024-06-18T14:37:37.471Z"
   },
   {
    "duration": 8,
    "start_time": "2024-06-18T14:37:37.495Z"
   },
   {
    "duration": 24,
    "start_time": "2024-06-18T14:37:37.505Z"
   },
   {
    "duration": 9,
    "start_time": "2024-06-18T14:37:37.530Z"
   },
   {
    "duration": 23,
    "start_time": "2024-06-18T14:37:37.541Z"
   },
   {
    "duration": 4,
    "start_time": "2024-06-18T14:37:37.566Z"
   },
   {
    "duration": 9,
    "start_time": "2024-06-18T14:37:37.572Z"
   },
   {
    "duration": 13,
    "start_time": "2024-06-18T14:37:37.583Z"
   },
   {
    "duration": 10,
    "start_time": "2024-06-18T14:37:37.598Z"
   },
   {
    "duration": 10,
    "start_time": "2024-06-18T14:37:37.610Z"
   },
   {
    "duration": 189,
    "start_time": "2024-06-18T14:37:37.621Z"
   },
   {
    "duration": 189,
    "start_time": "2024-06-18T14:37:37.812Z"
   },
   {
    "duration": 7,
    "start_time": "2024-06-18T14:37:38.003Z"
   },
   {
    "duration": 195,
    "start_time": "2024-06-18T14:37:38.016Z"
   },
   {
    "duration": 292,
    "start_time": "2024-06-18T14:37:38.213Z"
   },
   {
    "duration": 195,
    "start_time": "2024-06-18T14:37:38.506Z"
   },
   {
    "duration": 7,
    "start_time": "2024-06-18T14:37:38.703Z"
   },
   {
    "duration": 8,
    "start_time": "2024-06-18T14:37:38.712Z"
   },
   {
    "duration": 9,
    "start_time": "2024-06-18T14:37:38.721Z"
   },
   {
    "duration": 226,
    "start_time": "2024-06-18T14:37:38.732Z"
   },
   {
    "duration": 205,
    "start_time": "2024-06-18T14:37:38.960Z"
   },
   {
    "duration": 9,
    "start_time": "2024-06-18T14:37:39.167Z"
   },
   {
    "duration": 27,
    "start_time": "2024-06-18T14:37:39.177Z"
   },
   {
    "duration": 20,
    "start_time": "2024-06-18T14:37:39.206Z"
   },
   {
    "duration": 5,
    "start_time": "2024-06-18T14:37:39.227Z"
   },
   {
    "duration": 10,
    "start_time": "2024-06-18T14:37:39.233Z"
   },
   {
    "duration": 16,
    "start_time": "2024-06-18T14:37:39.245Z"
   },
   {
    "duration": 40,
    "start_time": "2024-06-18T14:37:39.263Z"
   },
   {
    "duration": 25,
    "start_time": "2024-06-18T14:37:39.305Z"
   },
   {
    "duration": 24,
    "start_time": "2024-06-18T14:37:39.332Z"
   },
   {
    "duration": 18,
    "start_time": "2024-06-18T14:37:39.358Z"
   },
   {
    "duration": 4,
    "start_time": "2024-06-18T14:37:39.378Z"
   },
   {
    "duration": 393,
    "start_time": "2024-06-18T14:37:39.384Z"
   },
   {
    "duration": 16,
    "start_time": "2024-06-18T14:37:39.778Z"
   },
   {
    "duration": 13,
    "start_time": "2024-06-18T14:37:39.799Z"
   },
   {
    "duration": 363,
    "start_time": "2024-06-18T14:37:39.814Z"
   },
   {
    "duration": 16,
    "start_time": "2024-06-18T14:37:40.180Z"
   },
   {
    "duration": 24,
    "start_time": "2024-06-18T14:37:40.197Z"
   },
   {
    "duration": 277,
    "start_time": "2024-06-18T14:37:40.223Z"
   },
   {
    "duration": 5,
    "start_time": "2024-06-18T14:37:40.502Z"
   },
   {
    "duration": 7,
    "start_time": "2024-06-18T14:37:40.509Z"
   },
   {
    "duration": 125,
    "start_time": "2024-06-18T14:37:40.518Z"
   },
   {
    "duration": 16,
    "start_time": "2024-06-18T14:37:40.645Z"
   },
   {
    "duration": 29,
    "start_time": "2024-06-18T14:37:40.663Z"
   },
   {
    "duration": 152,
    "start_time": "2024-06-18T14:37:40.694Z"
   },
   {
    "duration": 4,
    "start_time": "2024-06-18T14:40:55.165Z"
   },
   {
    "duration": 4,
    "start_time": "2024-06-18T14:41:55.370Z"
   },
   {
    "duration": 6,
    "start_time": "2024-06-18T14:44:37.348Z"
   },
   {
    "duration": 215,
    "start_time": "2024-06-18T14:46:17.989Z"
   },
   {
    "duration": 197,
    "start_time": "2024-06-18T14:47:46.057Z"
   },
   {
    "duration": 196,
    "start_time": "2024-06-18T14:47:59.951Z"
   },
   {
    "duration": 234,
    "start_time": "2024-06-18T14:48:10.014Z"
   },
   {
    "duration": 71,
    "start_time": "2024-06-18T15:06:56.812Z"
   },
   {
    "duration": 11,
    "start_time": "2024-06-18T15:32:03.460Z"
   },
   {
    "duration": 53,
    "start_time": "2024-06-18T15:51:08.869Z"
   },
   {
    "duration": 7,
    "start_time": "2024-06-18T15:53:17.418Z"
   },
   {
    "duration": 7,
    "start_time": "2024-06-18T15:59:21.304Z"
   },
   {
    "duration": 140,
    "start_time": "2024-06-18T16:11:53.856Z"
   },
   {
    "duration": 15,
    "start_time": "2024-06-18T16:23:32.605Z"
   },
   {
    "duration": 1063,
    "start_time": "2024-06-18T16:24:57.902Z"
   },
   {
    "duration": 11,
    "start_time": "2024-06-18T16:37:40.901Z"
   },
   {
    "duration": 5,
    "start_time": "2024-06-18T16:38:10.496Z"
   },
   {
    "duration": 816,
    "start_time": "2024-06-18T17:33:57.815Z"
   },
   {
    "duration": 945,
    "start_time": "2024-06-18T17:47:34.049Z"
   },
   {
    "duration": 10,
    "start_time": "2024-06-18T17:48:18.526Z"
   },
   {
    "duration": 10,
    "start_time": "2024-06-18T17:48:33.783Z"
   },
   {
    "duration": 1156,
    "start_time": "2024-06-18T18:03:51.927Z"
   },
   {
    "duration": 37,
    "start_time": "2024-06-18T18:03:53.085Z"
   },
   {
    "duration": 14,
    "start_time": "2024-06-18T18:03:53.124Z"
   },
   {
    "duration": 41,
    "start_time": "2024-06-18T18:03:53.140Z"
   },
   {
    "duration": 49,
    "start_time": "2024-06-18T18:03:53.183Z"
   },
   {
    "duration": 10,
    "start_time": "2024-06-18T18:03:53.234Z"
   },
   {
    "duration": 27,
    "start_time": "2024-06-18T18:03:53.246Z"
   },
   {
    "duration": 42,
    "start_time": "2024-06-18T18:03:53.275Z"
   },
   {
    "duration": 20,
    "start_time": "2024-06-18T18:03:53.318Z"
   },
   {
    "duration": 18,
    "start_time": "2024-06-18T18:03:53.340Z"
   },
   {
    "duration": 13,
    "start_time": "2024-06-18T18:03:53.360Z"
   },
   {
    "duration": 35,
    "start_time": "2024-06-18T18:03:53.374Z"
   },
   {
    "duration": 12,
    "start_time": "2024-06-18T18:03:53.411Z"
   },
   {
    "duration": 41,
    "start_time": "2024-06-18T18:03:53.425Z"
   },
   {
    "duration": 36,
    "start_time": "2024-06-18T18:03:53.468Z"
   },
   {
    "duration": 69,
    "start_time": "2024-06-18T18:03:53.506Z"
   },
   {
    "duration": 27,
    "start_time": "2024-06-18T18:03:53.576Z"
   },
   {
    "duration": 6,
    "start_time": "2024-06-18T18:03:53.605Z"
   },
   {
    "duration": 18,
    "start_time": "2024-06-18T18:03:53.613Z"
   },
   {
    "duration": 18,
    "start_time": "2024-06-18T18:03:53.633Z"
   },
   {
    "duration": 24,
    "start_time": "2024-06-18T18:03:53.652Z"
   },
   {
    "duration": 14,
    "start_time": "2024-06-18T18:03:53.678Z"
   },
   {
    "duration": 36,
    "start_time": "2024-06-18T18:03:53.694Z"
   },
   {
    "duration": 17,
    "start_time": "2024-06-18T18:03:53.732Z"
   },
   {
    "duration": 182,
    "start_time": "2024-06-18T18:03:53.751Z"
   },
   {
    "duration": 192,
    "start_time": "2024-06-18T18:03:53.935Z"
   },
   {
    "duration": 5,
    "start_time": "2024-06-18T18:03:54.129Z"
   },
   {
    "duration": 185,
    "start_time": "2024-06-18T18:03:54.139Z"
   },
   {
    "duration": 277,
    "start_time": "2024-06-18T18:03:54.326Z"
   },
   {
    "duration": 216,
    "start_time": "2024-06-18T18:03:54.605Z"
   },
   {
    "duration": 9,
    "start_time": "2024-06-18T18:03:54.823Z"
   },
   {
    "duration": 35,
    "start_time": "2024-06-18T18:03:54.834Z"
   },
   {
    "duration": 43,
    "start_time": "2024-06-18T18:03:54.872Z"
   },
   {
    "duration": 273,
    "start_time": "2024-06-18T18:03:54.918Z"
   },
   {
    "duration": 210,
    "start_time": "2024-06-18T18:03:55.193Z"
   },
   {
    "duration": 11,
    "start_time": "2024-06-18T18:03:55.404Z"
   },
   {
    "duration": 52,
    "start_time": "2024-06-18T18:03:55.417Z"
   },
   {
    "duration": 31,
    "start_time": "2024-06-18T18:03:55.471Z"
   },
   {
    "duration": 48,
    "start_time": "2024-06-18T18:03:55.504Z"
   },
   {
    "duration": 52,
    "start_time": "2024-06-18T18:03:55.554Z"
   },
   {
    "duration": 44,
    "start_time": "2024-06-18T18:03:55.608Z"
   },
   {
    "duration": 49,
    "start_time": "2024-06-18T18:03:55.654Z"
   },
   {
    "duration": 39,
    "start_time": "2024-06-18T18:03:55.705Z"
   },
   {
    "duration": 56,
    "start_time": "2024-06-18T18:03:55.745Z"
   },
   {
    "duration": 48,
    "start_time": "2024-06-18T18:03:55.802Z"
   },
   {
    "duration": 48,
    "start_time": "2024-06-18T18:03:55.852Z"
   },
   {
    "duration": 463,
    "start_time": "2024-06-18T18:03:55.903Z"
   },
   {
    "duration": 11,
    "start_time": "2024-06-18T18:03:56.368Z"
   },
   {
    "duration": 10,
    "start_time": "2024-06-18T18:03:56.392Z"
   },
   {
    "duration": 373,
    "start_time": "2024-06-18T18:03:56.404Z"
   },
   {
    "duration": 21,
    "start_time": "2024-06-18T18:03:56.779Z"
   },
   {
    "duration": 51,
    "start_time": "2024-06-18T18:03:56.802Z"
   },
   {
    "duration": 315,
    "start_time": "2024-06-18T18:03:56.855Z"
   },
   {
    "duration": 5,
    "start_time": "2024-06-18T18:03:57.172Z"
   },
   {
    "duration": 27,
    "start_time": "2024-06-18T18:03:57.179Z"
   },
   {
    "duration": 141,
    "start_time": "2024-06-18T18:03:57.208Z"
   },
   {
    "duration": 16,
    "start_time": "2024-06-18T18:03:57.351Z"
   },
   {
    "duration": 55,
    "start_time": "2024-06-18T18:03:57.369Z"
   },
   {
    "duration": 164,
    "start_time": "2024-06-18T18:03:57.426Z"
   },
   {
    "duration": 5,
    "start_time": "2024-06-18T18:03:57.592Z"
   },
   {
    "duration": 27,
    "start_time": "2024-06-18T18:03:57.599Z"
   },
   {
    "duration": 213,
    "start_time": "2024-06-18T18:03:57.628Z"
   },
   {
    "duration": 5,
    "start_time": "2024-06-18T18:03:57.842Z"
   },
   {
    "duration": 42,
    "start_time": "2024-06-18T18:03:57.848Z"
   },
   {
    "duration": 22,
    "start_time": "2024-06-18T18:03:57.891Z"
   },
   {
    "duration": 123,
    "start_time": "2024-06-18T18:03:57.915Z"
   },
   {
    "duration": 10,
    "start_time": "2024-06-18T18:25:41.855Z"
   },
   {
    "duration": 7,
    "start_time": "2024-06-18T18:27:16.656Z"
   },
   {
    "duration": 5,
    "start_time": "2024-06-18T18:28:03.802Z"
   },
   {
    "duration": 8,
    "start_time": "2024-06-18T18:28:31.990Z"
   },
   {
    "duration": 6,
    "start_time": "2024-06-18T18:28:46.473Z"
   },
   {
    "duration": 874,
    "start_time": "2024-06-18T18:31:49.417Z"
   },
   {
    "duration": 10,
    "start_time": "2024-06-18T18:34:05.315Z"
   },
   {
    "duration": 4,
    "start_time": "2024-06-18T20:26:05.613Z"
   },
   {
    "duration": 5,
    "start_time": "2024-06-18T20:27:05.421Z"
   },
   {
    "duration": 269,
    "start_time": "2024-06-18T20:28:08.736Z"
   },
   {
    "duration": 1155,
    "start_time": "2024-06-18T20:33:14.232Z"
   },
   {
    "duration": 38,
    "start_time": "2024-06-18T20:33:15.389Z"
   },
   {
    "duration": 13,
    "start_time": "2024-06-18T20:33:15.429Z"
   },
   {
    "duration": 31,
    "start_time": "2024-06-18T20:33:15.444Z"
   },
   {
    "duration": 39,
    "start_time": "2024-06-18T20:33:15.477Z"
   },
   {
    "duration": 37,
    "start_time": "2024-06-18T20:33:15.518Z"
   },
   {
    "duration": 5,
    "start_time": "2024-06-18T20:33:15.557Z"
   },
   {
    "duration": 23,
    "start_time": "2024-06-18T20:33:15.564Z"
   },
   {
    "duration": 8,
    "start_time": "2024-06-18T20:33:15.588Z"
   },
   {
    "duration": 31,
    "start_time": "2024-06-18T20:33:15.597Z"
   },
   {
    "duration": 22,
    "start_time": "2024-06-18T20:33:15.629Z"
   },
   {
    "duration": 15,
    "start_time": "2024-06-18T20:33:15.653Z"
   },
   {
    "duration": 57,
    "start_time": "2024-06-18T20:33:15.670Z"
   },
   {
    "duration": 12,
    "start_time": "2024-06-18T20:33:15.730Z"
   },
   {
    "duration": 7,
    "start_time": "2024-06-18T20:33:15.744Z"
   },
   {
    "duration": 16,
    "start_time": "2024-06-18T20:33:15.753Z"
   },
   {
    "duration": 39,
    "start_time": "2024-06-18T20:33:15.770Z"
   },
   {
    "duration": 4,
    "start_time": "2024-06-18T20:33:15.811Z"
   },
   {
    "duration": 15,
    "start_time": "2024-06-18T20:33:15.816Z"
   },
   {
    "duration": 18,
    "start_time": "2024-06-18T20:33:15.833Z"
   },
   {
    "duration": 9,
    "start_time": "2024-06-18T20:33:15.853Z"
   },
   {
    "duration": 16,
    "start_time": "2024-06-18T20:33:15.864Z"
   },
   {
    "duration": 14,
    "start_time": "2024-06-18T20:33:15.881Z"
   },
   {
    "duration": 37,
    "start_time": "2024-06-18T20:33:15.897Z"
   },
   {
    "duration": 174,
    "start_time": "2024-06-18T20:33:15.936Z"
   },
   {
    "duration": 194,
    "start_time": "2024-06-18T20:33:16.112Z"
   },
   {
    "duration": 5,
    "start_time": "2024-06-18T20:33:16.308Z"
   },
   {
    "duration": 184,
    "start_time": "2024-06-18T20:33:16.315Z"
   },
   {
    "duration": 274,
    "start_time": "2024-06-18T20:33:16.501Z"
   },
   {
    "duration": 193,
    "start_time": "2024-06-18T20:33:16.777Z"
   },
   {
    "duration": 20,
    "start_time": "2024-06-18T20:33:16.972Z"
   },
   {
    "duration": 8,
    "start_time": "2024-06-18T20:33:16.994Z"
   },
   {
    "duration": 8,
    "start_time": "2024-06-18T20:33:17.004Z"
   },
   {
    "duration": 218,
    "start_time": "2024-06-18T20:33:17.014Z"
   },
   {
    "duration": 200,
    "start_time": "2024-06-18T20:33:17.234Z"
   },
   {
    "duration": 9,
    "start_time": "2024-06-18T20:33:17.436Z"
   },
   {
    "duration": 16,
    "start_time": "2024-06-18T20:33:17.447Z"
   },
   {
    "duration": 40,
    "start_time": "2024-06-18T20:33:17.464Z"
   },
   {
    "duration": 10,
    "start_time": "2024-06-18T20:33:17.506Z"
   },
   {
    "duration": 7,
    "start_time": "2024-06-18T20:33:17.518Z"
   },
   {
    "duration": 15,
    "start_time": "2024-06-18T20:33:17.531Z"
   },
   {
    "duration": 50,
    "start_time": "2024-06-18T20:33:17.548Z"
   },
   {
    "duration": 5,
    "start_time": "2024-06-18T20:33:17.601Z"
   },
   {
    "duration": 17,
    "start_time": "2024-06-18T20:33:17.608Z"
   },
   {
    "duration": 13,
    "start_time": "2024-06-18T20:33:17.627Z"
   },
   {
    "duration": 485,
    "start_time": "2024-06-18T20:33:17.642Z"
   },
   {
    "duration": 12,
    "start_time": "2024-06-18T20:33:18.129Z"
   },
   {
    "duration": 10,
    "start_time": "2024-06-18T20:33:18.143Z"
   },
   {
    "duration": 339,
    "start_time": "2024-06-18T20:33:18.155Z"
   },
   {
    "duration": 9,
    "start_time": "2024-06-18T20:33:18.496Z"
   },
   {
    "duration": 9,
    "start_time": "2024-06-18T20:33:18.507Z"
   },
   {
    "duration": 26,
    "start_time": "2024-06-18T20:33:18.517Z"
   },
   {
    "duration": 9,
    "start_time": "2024-06-18T20:33:18.544Z"
   },
   {
    "duration": 120,
    "start_time": "2024-06-18T20:33:18.555Z"
   },
   {
    "duration": 19,
    "start_time": "2024-06-18T20:33:18.677Z"
   },
   {
    "duration": 14,
    "start_time": "2024-06-18T20:33:18.698Z"
   },
   {
    "duration": 160,
    "start_time": "2024-06-18T20:33:18.714Z"
   },
   {
    "duration": 16,
    "start_time": "2024-06-18T20:33:18.875Z"
   },
   {
    "duration": 7,
    "start_time": "2024-06-18T20:33:18.893Z"
   },
   {
    "duration": 205,
    "start_time": "2024-06-18T20:33:18.901Z"
   },
   {
    "duration": 4,
    "start_time": "2024-06-18T20:33:19.108Z"
   },
   {
    "duration": 18,
    "start_time": "2024-06-18T20:33:19.114Z"
   },
   {
    "duration": 115,
    "start_time": "2024-06-18T20:33:19.134Z"
   },
   {
    "duration": 0,
    "start_time": "2024-06-18T20:33:19.251Z"
   },
   {
    "duration": 57,
    "start_time": "2024-06-19T04:32:43.676Z"
   },
   {
    "duration": 8,
    "start_time": "2024-06-19T04:32:45.768Z"
   },
   {
    "duration": 7,
    "start_time": "2024-06-19T04:32:56.288Z"
   },
   {
    "duration": 701,
    "start_time": "2024-06-19T04:33:09.893Z"
   },
   {
    "duration": 7,
    "start_time": "2024-06-19T04:33:14.782Z"
   },
   {
    "duration": 10,
    "start_time": "2024-06-19T04:33:27.995Z"
   },
   {
    "duration": 46,
    "start_time": "2024-06-19T12:35:44.060Z"
   },
   {
    "duration": 1226,
    "start_time": "2024-06-19T12:35:51.513Z"
   },
   {
    "duration": 106,
    "start_time": "2024-06-19T12:35:52.741Z"
   },
   {
    "duration": 11,
    "start_time": "2024-06-19T12:35:52.849Z"
   },
   {
    "duration": 32,
    "start_time": "2024-06-19T12:35:52.861Z"
   },
   {
    "duration": 147,
    "start_time": "2024-06-19T12:35:52.895Z"
   },
   {
    "duration": 9,
    "start_time": "2024-06-19T12:35:53.044Z"
   },
   {
    "duration": 19,
    "start_time": "2024-06-19T12:35:53.054Z"
   },
   {
    "duration": 98,
    "start_time": "2024-06-19T12:35:53.074Z"
   },
   {
    "duration": 7,
    "start_time": "2024-06-19T12:35:53.173Z"
   },
   {
    "duration": 16,
    "start_time": "2024-06-19T12:35:53.182Z"
   },
   {
    "duration": 18,
    "start_time": "2024-06-19T12:35:53.200Z"
   },
   {
    "duration": 18,
    "start_time": "2024-06-19T12:35:53.219Z"
   },
   {
    "duration": 15,
    "start_time": "2024-06-19T12:35:53.238Z"
   },
   {
    "duration": 4,
    "start_time": "2024-06-19T12:35:53.256Z"
   },
   {
    "duration": 15,
    "start_time": "2024-06-19T12:35:53.261Z"
   },
   {
    "duration": 13,
    "start_time": "2024-06-19T12:35:53.277Z"
   },
   {
    "duration": 30,
    "start_time": "2024-06-19T12:35:53.292Z"
   },
   {
    "duration": 4,
    "start_time": "2024-06-19T12:35:53.323Z"
   },
   {
    "duration": 3,
    "start_time": "2024-06-19T12:35:53.328Z"
   },
   {
    "duration": 9,
    "start_time": "2024-06-19T12:35:53.332Z"
   },
   {
    "duration": 29,
    "start_time": "2024-06-19T12:35:53.342Z"
   },
   {
    "duration": 37,
    "start_time": "2024-06-19T12:35:53.372Z"
   },
   {
    "duration": 24,
    "start_time": "2024-06-19T12:35:53.411Z"
   },
   {
    "duration": 23,
    "start_time": "2024-06-19T12:35:53.437Z"
   },
   {
    "duration": 54,
    "start_time": "2024-06-19T12:35:53.462Z"
   },
   {
    "duration": 165,
    "start_time": "2024-06-19T12:35:53.518Z"
   },
   {
    "duration": 159,
    "start_time": "2024-06-19T12:35:53.685Z"
   },
   {
    "duration": 4,
    "start_time": "2024-06-19T12:35:53.845Z"
   },
   {
    "duration": 133,
    "start_time": "2024-06-19T12:35:53.850Z"
   },
   {
    "duration": 229,
    "start_time": "2024-06-19T12:35:53.984Z"
   },
   {
    "duration": 156,
    "start_time": "2024-06-19T12:35:54.214Z"
   },
   {
    "duration": 7,
    "start_time": "2024-06-19T12:35:54.371Z"
   },
   {
    "duration": 25,
    "start_time": "2024-06-19T12:35:54.379Z"
   },
   {
    "duration": 18,
    "start_time": "2024-06-19T12:35:54.406Z"
   },
   {
    "duration": 164,
    "start_time": "2024-06-19T12:35:54.425Z"
   },
   {
    "duration": 162,
    "start_time": "2024-06-19T12:35:54.591Z"
   },
   {
    "duration": 7,
    "start_time": "2024-06-19T12:35:54.755Z"
   },
   {
    "duration": 53,
    "start_time": "2024-06-19T12:35:54.764Z"
   },
   {
    "duration": 26,
    "start_time": "2024-06-19T12:35:54.819Z"
   },
   {
    "duration": 19,
    "start_time": "2024-06-19T12:35:54.847Z"
   },
   {
    "duration": 14,
    "start_time": "2024-06-19T12:35:54.869Z"
   },
   {
    "duration": 37,
    "start_time": "2024-06-19T12:35:54.884Z"
   },
   {
    "duration": 17,
    "start_time": "2024-06-19T12:35:54.923Z"
   },
   {
    "duration": 4,
    "start_time": "2024-06-19T12:35:54.941Z"
   },
   {
    "duration": 17,
    "start_time": "2024-06-19T12:35:54.946Z"
   },
   {
    "duration": 15,
    "start_time": "2024-06-19T12:35:54.964Z"
   },
   {
    "duration": 307,
    "start_time": "2024-06-19T12:35:54.980Z"
   },
   {
    "duration": 9,
    "start_time": "2024-06-19T12:35:55.288Z"
   },
   {
    "duration": 7,
    "start_time": "2024-06-19T12:35:55.309Z"
   },
   {
    "duration": 282,
    "start_time": "2024-06-19T12:35:55.317Z"
   },
   {
    "duration": 11,
    "start_time": "2024-06-19T12:35:55.600Z"
   },
   {
    "duration": 23,
    "start_time": "2024-06-19T12:35:55.612Z"
   },
   {
    "duration": 6,
    "start_time": "2024-06-19T12:35:55.636Z"
   },
   {
    "duration": 8,
    "start_time": "2024-06-19T12:35:55.643Z"
   },
   {
    "duration": 98,
    "start_time": "2024-06-19T12:35:55.652Z"
   },
   {
    "duration": 13,
    "start_time": "2024-06-19T12:35:55.752Z"
   },
   {
    "duration": 34,
    "start_time": "2024-06-19T12:35:55.767Z"
   },
   {
    "duration": 151,
    "start_time": "2024-06-19T12:35:55.802Z"
   },
   {
    "duration": 5,
    "start_time": "2024-06-19T12:35:55.954Z"
   },
   {
    "duration": 10,
    "start_time": "2024-06-19T12:35:55.960Z"
   },
   {
    "duration": 169,
    "start_time": "2024-06-19T12:35:55.972Z"
   },
   {
    "duration": 3,
    "start_time": "2024-06-19T12:35:56.142Z"
   },
   {
    "duration": 23,
    "start_time": "2024-06-19T12:35:56.147Z"
   },
   {
    "duration": 124,
    "start_time": "2024-06-19T12:35:56.172Z"
   },
   {
    "duration": 0,
    "start_time": "2024-06-19T12:35:56.298Z"
   },
   {
    "duration": 4,
    "start_time": "2024-06-19T13:04:56.158Z"
   },
   {
    "duration": 1040,
    "start_time": "2024-06-19T13:05:10.926Z"
   },
   {
    "duration": 36,
    "start_time": "2024-06-19T13:05:11.968Z"
   },
   {
    "duration": 12,
    "start_time": "2024-06-19T13:05:12.005Z"
   },
   {
    "duration": 57,
    "start_time": "2024-06-19T13:05:12.019Z"
   },
   {
    "duration": 62,
    "start_time": "2024-06-19T13:05:12.077Z"
   },
   {
    "duration": 8,
    "start_time": "2024-06-19T13:05:12.140Z"
   },
   {
    "duration": 25,
    "start_time": "2024-06-19T13:05:12.150Z"
   },
   {
    "duration": 50,
    "start_time": "2024-06-19T13:05:12.176Z"
   },
   {
    "duration": 28,
    "start_time": "2024-06-19T13:05:12.228Z"
   },
   {
    "duration": 24,
    "start_time": "2024-06-19T13:05:12.259Z"
   },
   {
    "duration": 21,
    "start_time": "2024-06-19T13:05:12.285Z"
   },
   {
    "duration": 28,
    "start_time": "2024-06-19T13:05:12.307Z"
   },
   {
    "duration": 21,
    "start_time": "2024-06-19T13:05:12.336Z"
   },
   {
    "duration": 36,
    "start_time": "2024-06-19T13:05:12.359Z"
   },
   {
    "duration": 28,
    "start_time": "2024-06-19T13:05:12.397Z"
   },
   {
    "duration": 47,
    "start_time": "2024-06-19T13:05:12.426Z"
   },
   {
    "duration": 26,
    "start_time": "2024-06-19T13:05:12.475Z"
   },
   {
    "duration": 18,
    "start_time": "2024-06-19T13:05:12.503Z"
   },
   {
    "duration": 24,
    "start_time": "2024-06-19T13:05:12.523Z"
   },
   {
    "duration": 22,
    "start_time": "2024-06-19T13:05:12.548Z"
   },
   {
    "duration": 27,
    "start_time": "2024-06-19T13:05:12.572Z"
   },
   {
    "duration": 44,
    "start_time": "2024-06-19T13:05:12.601Z"
   },
   {
    "duration": 41,
    "start_time": "2024-06-19T13:05:12.646Z"
   },
   {
    "duration": 33,
    "start_time": "2024-06-19T13:05:12.688Z"
   },
   {
    "duration": 23,
    "start_time": "2024-06-19T13:05:12.722Z"
   },
   {
    "duration": 145,
    "start_time": "2024-06-19T13:05:12.746Z"
   },
   {
    "duration": 164,
    "start_time": "2024-06-19T13:05:12.893Z"
   },
   {
    "duration": 6,
    "start_time": "2024-06-19T13:05:13.062Z"
   },
   {
    "duration": 182,
    "start_time": "2024-06-19T13:05:13.069Z"
   },
   {
    "duration": 232,
    "start_time": "2024-06-19T13:05:13.252Z"
   },
   {
    "duration": 158,
    "start_time": "2024-06-19T13:05:13.486Z"
   },
   {
    "duration": 8,
    "start_time": "2024-06-19T13:05:13.645Z"
   },
   {
    "duration": 16,
    "start_time": "2024-06-19T13:05:13.655Z"
   },
   {
    "duration": 21,
    "start_time": "2024-06-19T13:05:13.672Z"
   },
   {
    "duration": 204,
    "start_time": "2024-06-19T13:05:13.695Z"
   },
   {
    "duration": 169,
    "start_time": "2024-06-19T13:05:13.900Z"
   },
   {
    "duration": 9,
    "start_time": "2024-06-19T13:05:14.071Z"
   },
   {
    "duration": 40,
    "start_time": "2024-06-19T13:05:14.081Z"
   },
   {
    "duration": 25,
    "start_time": "2024-06-19T13:05:14.123Z"
   },
   {
    "duration": 34,
    "start_time": "2024-06-19T13:05:14.149Z"
   },
   {
    "duration": 39,
    "start_time": "2024-06-19T13:05:14.185Z"
   },
   {
    "duration": 46,
    "start_time": "2024-06-19T13:05:14.226Z"
   },
   {
    "duration": 29,
    "start_time": "2024-06-19T13:05:14.274Z"
   },
   {
    "duration": 5,
    "start_time": "2024-06-19T13:05:14.304Z"
   },
   {
    "duration": 43,
    "start_time": "2024-06-19T13:05:14.310Z"
   },
   {
    "duration": 51,
    "start_time": "2024-06-19T13:05:14.354Z"
   },
   {
    "duration": 309,
    "start_time": "2024-06-19T13:05:14.406Z"
   },
   {
    "duration": 8,
    "start_time": "2024-06-19T13:05:14.716Z"
   },
   {
    "duration": 32,
    "start_time": "2024-06-19T13:05:14.725Z"
   },
   {
    "duration": 256,
    "start_time": "2024-06-19T13:05:14.759Z"
   },
   {
    "duration": 8,
    "start_time": "2024-06-19T13:05:15.017Z"
   },
   {
    "duration": 84,
    "start_time": "2024-06-19T13:05:15.026Z"
   },
   {
    "duration": 52,
    "start_time": "2024-06-19T13:05:15.112Z"
   },
   {
    "duration": 42,
    "start_time": "2024-06-19T13:05:15.166Z"
   },
   {
    "duration": 130,
    "start_time": "2024-06-19T13:05:15.210Z"
   },
   {
    "duration": 13,
    "start_time": "2024-06-19T13:05:15.342Z"
   },
   {
    "duration": 48,
    "start_time": "2024-06-19T13:05:15.356Z"
   },
   {
    "duration": 203,
    "start_time": "2024-06-19T13:05:15.405Z"
   },
   {
    "duration": 5,
    "start_time": "2024-06-19T13:05:15.609Z"
   },
   {
    "duration": 50,
    "start_time": "2024-06-19T13:05:15.616Z"
   },
   {
    "duration": 205,
    "start_time": "2024-06-19T13:05:15.668Z"
   },
   {
    "duration": 30,
    "start_time": "2024-06-19T13:05:15.874Z"
   },
   {
    "duration": 176,
    "start_time": "2024-06-19T13:05:15.906Z"
   },
   {
    "duration": 126,
    "start_time": "2024-06-19T13:05:16.084Z"
   },
   {
    "duration": 0,
    "start_time": "2024-06-19T13:05:16.212Z"
   },
   {
    "duration": 137,
    "start_time": "2024-06-19T13:25:07.036Z"
   },
   {
    "duration": 127,
    "start_time": "2024-06-19T13:33:24.169Z"
   },
   {
    "duration": 120,
    "start_time": "2024-06-19T13:33:38.068Z"
   },
   {
    "duration": 124,
    "start_time": "2024-06-19T13:35:11.176Z"
   },
   {
    "duration": 178,
    "start_time": "2024-06-19T13:35:19.599Z"
   },
   {
    "duration": 8,
    "start_time": "2024-06-19T13:37:01.070Z"
   },
   {
    "duration": 7,
    "start_time": "2024-06-19T13:37:50.978Z"
   },
   {
    "duration": 7,
    "start_time": "2024-06-19T13:37:53.536Z"
   },
   {
    "duration": 1011,
    "start_time": "2024-06-19T13:38:06.060Z"
   },
   {
    "duration": 34,
    "start_time": "2024-06-19T13:38:07.073Z"
   },
   {
    "duration": 11,
    "start_time": "2024-06-19T13:38:07.108Z"
   },
   {
    "duration": 4,
    "start_time": "2024-06-19T13:38:07.121Z"
   },
   {
    "duration": 37,
    "start_time": "2024-06-19T13:38:07.126Z"
   },
   {
    "duration": 8,
    "start_time": "2024-06-19T13:38:07.164Z"
   },
   {
    "duration": 5,
    "start_time": "2024-06-19T13:38:07.173Z"
   },
   {
    "duration": 20,
    "start_time": "2024-06-19T13:38:07.180Z"
   },
   {
    "duration": 8,
    "start_time": "2024-06-19T13:38:07.202Z"
   },
   {
    "duration": 7,
    "start_time": "2024-06-19T13:38:07.213Z"
   },
   {
    "duration": 13,
    "start_time": "2024-06-19T13:38:07.221Z"
   },
   {
    "duration": 25,
    "start_time": "2024-06-19T13:38:07.236Z"
   },
   {
    "duration": 6,
    "start_time": "2024-06-19T13:38:07.263Z"
   },
   {
    "duration": 36,
    "start_time": "2024-06-19T13:38:07.271Z"
   },
   {
    "duration": 9,
    "start_time": "2024-06-19T13:38:07.309Z"
   },
   {
    "duration": 15,
    "start_time": "2024-06-19T13:38:07.319Z"
   },
   {
    "duration": 8,
    "start_time": "2024-06-19T13:38:07.335Z"
   },
   {
    "duration": 6,
    "start_time": "2024-06-19T13:38:07.344Z"
   },
   {
    "duration": 28,
    "start_time": "2024-06-19T13:38:07.351Z"
   },
   {
    "duration": 4,
    "start_time": "2024-06-19T13:38:07.380Z"
   },
   {
    "duration": 7,
    "start_time": "2024-06-19T13:38:07.385Z"
   },
   {
    "duration": 11,
    "start_time": "2024-06-19T13:38:07.394Z"
   },
   {
    "duration": 13,
    "start_time": "2024-06-19T13:38:07.406Z"
   },
   {
    "duration": 9,
    "start_time": "2024-06-19T13:38:07.421Z"
   },
   {
    "duration": 10,
    "start_time": "2024-06-19T13:38:07.431Z"
   },
   {
    "duration": 167,
    "start_time": "2024-06-19T13:38:07.442Z"
   },
   {
    "duration": 115,
    "start_time": "2024-06-19T13:38:07.610Z"
   },
   {
    "duration": 0,
    "start_time": "2024-06-19T13:38:07.728Z"
   },
   {
    "duration": 0,
    "start_time": "2024-06-19T13:38:07.729Z"
   },
   {
    "duration": 0,
    "start_time": "2024-06-19T13:38:07.730Z"
   },
   {
    "duration": 0,
    "start_time": "2024-06-19T13:38:07.731Z"
   },
   {
    "duration": 0,
    "start_time": "2024-06-19T13:38:07.732Z"
   },
   {
    "duration": 0,
    "start_time": "2024-06-19T13:38:07.733Z"
   },
   {
    "duration": 0,
    "start_time": "2024-06-19T13:38:07.734Z"
   },
   {
    "duration": 0,
    "start_time": "2024-06-19T13:38:07.735Z"
   },
   {
    "duration": 0,
    "start_time": "2024-06-19T13:38:07.736Z"
   },
   {
    "duration": 0,
    "start_time": "2024-06-19T13:38:07.737Z"
   },
   {
    "duration": 0,
    "start_time": "2024-06-19T13:38:07.738Z"
   },
   {
    "duration": 0,
    "start_time": "2024-06-19T13:38:07.739Z"
   },
   {
    "duration": 0,
    "start_time": "2024-06-19T13:38:07.740Z"
   },
   {
    "duration": 0,
    "start_time": "2024-06-19T13:38:07.740Z"
   },
   {
    "duration": 0,
    "start_time": "2024-06-19T13:38:07.741Z"
   },
   {
    "duration": 0,
    "start_time": "2024-06-19T13:38:07.742Z"
   },
   {
    "duration": 0,
    "start_time": "2024-06-19T13:38:07.743Z"
   },
   {
    "duration": 0,
    "start_time": "2024-06-19T13:38:07.743Z"
   },
   {
    "duration": 0,
    "start_time": "2024-06-19T13:38:07.744Z"
   },
   {
    "duration": 0,
    "start_time": "2024-06-19T13:38:07.745Z"
   },
   {
    "duration": 0,
    "start_time": "2024-06-19T13:38:07.746Z"
   },
   {
    "duration": 0,
    "start_time": "2024-06-19T13:38:07.747Z"
   },
   {
    "duration": 0,
    "start_time": "2024-06-19T13:38:07.748Z"
   },
   {
    "duration": 0,
    "start_time": "2024-06-19T13:38:07.749Z"
   },
   {
    "duration": 0,
    "start_time": "2024-06-19T13:38:07.750Z"
   },
   {
    "duration": 0,
    "start_time": "2024-06-19T13:38:07.751Z"
   },
   {
    "duration": 0,
    "start_time": "2024-06-19T13:38:07.752Z"
   },
   {
    "duration": 0,
    "start_time": "2024-06-19T13:38:07.753Z"
   },
   {
    "duration": 0,
    "start_time": "2024-06-19T13:38:07.754Z"
   },
   {
    "duration": 0,
    "start_time": "2024-06-19T13:38:07.754Z"
   },
   {
    "duration": 0,
    "start_time": "2024-06-19T13:38:07.755Z"
   },
   {
    "duration": 0,
    "start_time": "2024-06-19T13:38:07.756Z"
   },
   {
    "duration": 0,
    "start_time": "2024-06-19T13:38:07.757Z"
   },
   {
    "duration": 0,
    "start_time": "2024-06-19T13:38:07.809Z"
   },
   {
    "duration": 0,
    "start_time": "2024-06-19T13:38:07.811Z"
   },
   {
    "duration": 0,
    "start_time": "2024-06-19T13:38:07.812Z"
   },
   {
    "duration": 0,
    "start_time": "2024-06-19T13:38:07.812Z"
   },
   {
    "duration": 0,
    "start_time": "2024-06-19T13:38:07.813Z"
   },
   {
    "duration": 91,
    "start_time": "2024-06-19T13:39:22.190Z"
   },
   {
    "duration": 92,
    "start_time": "2024-06-19T13:39:30.938Z"
   },
   {
    "duration": 93,
    "start_time": "2024-06-19T13:39:40.448Z"
   },
   {
    "duration": 108,
    "start_time": "2024-06-19T13:39:49.645Z"
   },
   {
    "duration": 160,
    "start_time": "2024-06-19T13:40:27.951Z"
   },
   {
    "duration": 93,
    "start_time": "2024-06-19T13:40:55.008Z"
   },
   {
    "duration": 94,
    "start_time": "2024-06-19T13:42:12.707Z"
   },
   {
    "duration": 136,
    "start_time": "2024-06-19T13:42:22.781Z"
   },
   {
    "duration": 101,
    "start_time": "2024-06-19T13:42:29.616Z"
   },
   {
    "duration": 81,
    "start_time": "2024-06-19T13:43:02.113Z"
   },
   {
    "duration": 81,
    "start_time": "2024-06-19T13:43:07.108Z"
   },
   {
    "duration": 181,
    "start_time": "2024-06-19T13:44:31.879Z"
   },
   {
    "duration": 86,
    "start_time": "2024-06-19T13:45:04.581Z"
   },
   {
    "duration": 82,
    "start_time": "2024-06-19T13:52:51.955Z"
   },
   {
    "duration": 105,
    "start_time": "2024-06-19T13:52:59.605Z"
   },
   {
    "duration": 7,
    "start_time": "2024-06-19T13:53:07.375Z"
   },
   {
    "duration": 169,
    "start_time": "2024-06-19T13:55:45.064Z"
   },
   {
    "duration": 158,
    "start_time": "2024-06-19T13:56:07.732Z"
   },
   {
    "duration": 94,
    "start_time": "2024-06-19T13:56:15.372Z"
   },
   {
    "duration": 189,
    "start_time": "2024-06-19T13:56:26.828Z"
   },
   {
    "duration": 218,
    "start_time": "2024-06-19T13:56:42.943Z"
   },
   {
    "duration": 143,
    "start_time": "2024-06-19T13:56:43.931Z"
   },
   {
    "duration": 3,
    "start_time": "2024-06-19T13:58:19.464Z"
   },
   {
    "duration": 3,
    "start_time": "2024-06-19T13:59:02.282Z"
   },
   {
    "duration": 4,
    "start_time": "2024-06-19T13:59:03.519Z"
   },
   {
    "duration": 17,
    "start_time": "2024-06-19T13:59:59.536Z"
   },
   {
    "duration": 25,
    "start_time": "2024-06-19T14:00:00.075Z"
   },
   {
    "duration": 4,
    "start_time": "2024-06-19T14:00:01.321Z"
   },
   {
    "duration": 3,
    "start_time": "2024-06-19T14:02:40.973Z"
   },
   {
    "duration": 4,
    "start_time": "2024-06-19T14:02:41.789Z"
   },
   {
    "duration": 4,
    "start_time": "2024-06-19T14:08:07.181Z"
   },
   {
    "duration": 4,
    "start_time": "2024-06-19T14:12:45.445Z"
   },
   {
    "duration": 1067,
    "start_time": "2024-06-19T14:15:58.712Z"
   },
   {
    "duration": 35,
    "start_time": "2024-06-19T14:15:59.781Z"
   },
   {
    "duration": 11,
    "start_time": "2024-06-19T14:15:59.817Z"
   },
   {
    "duration": 8,
    "start_time": "2024-06-19T14:15:59.829Z"
   },
   {
    "duration": 51,
    "start_time": "2024-06-19T14:15:59.839Z"
   },
   {
    "duration": 8,
    "start_time": "2024-06-19T14:15:59.891Z"
   },
   {
    "duration": 6,
    "start_time": "2024-06-19T14:15:59.900Z"
   },
   {
    "duration": 30,
    "start_time": "2024-06-19T14:15:59.907Z"
   },
   {
    "duration": 7,
    "start_time": "2024-06-19T14:15:59.938Z"
   },
   {
    "duration": 3,
    "start_time": "2024-06-19T14:15:59.947Z"
   },
   {
    "duration": 5,
    "start_time": "2024-06-19T14:15:59.952Z"
   },
   {
    "duration": 18,
    "start_time": "2024-06-19T14:15:59.958Z"
   },
   {
    "duration": 5,
    "start_time": "2024-06-19T14:15:59.977Z"
   },
   {
    "duration": 6,
    "start_time": "2024-06-19T14:15:59.984Z"
   },
   {
    "duration": 10,
    "start_time": "2024-06-19T14:15:59.991Z"
   },
   {
    "duration": 12,
    "start_time": "2024-06-19T14:16:00.002Z"
   },
   {
    "duration": 25,
    "start_time": "2024-06-19T14:16:00.015Z"
   },
   {
    "duration": 12,
    "start_time": "2024-06-19T14:16:00.041Z"
   },
   {
    "duration": 47,
    "start_time": "2024-06-19T14:16:00.054Z"
   },
   {
    "duration": 55,
    "start_time": "2024-06-19T14:16:00.102Z"
   },
   {
    "duration": 44,
    "start_time": "2024-06-19T14:16:00.158Z"
   },
   {
    "duration": 103,
    "start_time": "2024-06-19T14:16:00.203Z"
   },
   {
    "duration": 55,
    "start_time": "2024-06-19T14:16:00.308Z"
   },
   {
    "duration": 34,
    "start_time": "2024-06-19T14:16:00.365Z"
   },
   {
    "duration": 37,
    "start_time": "2024-06-19T14:16:00.401Z"
   },
   {
    "duration": 218,
    "start_time": "2024-06-19T14:16:00.440Z"
   },
   {
    "duration": 4,
    "start_time": "2024-06-19T14:16:00.660Z"
   },
   {
    "duration": 164,
    "start_time": "2024-06-19T14:16:00.665Z"
   },
   {
    "duration": 225,
    "start_time": "2024-06-19T14:16:00.831Z"
   },
   {
    "duration": 154,
    "start_time": "2024-06-19T14:16:01.057Z"
   },
   {
    "duration": 7,
    "start_time": "2024-06-19T14:16:01.212Z"
   },
   {
    "duration": 46,
    "start_time": "2024-06-19T14:16:01.220Z"
   },
   {
    "duration": 36,
    "start_time": "2024-06-19T14:16:01.267Z"
   },
   {
    "duration": 216,
    "start_time": "2024-06-19T14:16:01.304Z"
   },
   {
    "duration": 100,
    "start_time": "2024-06-19T14:16:01.521Z"
   },
   {
    "duration": 161,
    "start_time": "2024-06-19T14:16:01.622Z"
   },
   {
    "duration": 153,
    "start_time": "2024-06-19T14:16:01.785Z"
   },
   {
    "duration": 29,
    "start_time": "2024-06-19T14:16:01.940Z"
   },
   {
    "duration": 28,
    "start_time": "2024-06-19T14:16:01.971Z"
   },
   {
    "duration": 24,
    "start_time": "2024-06-19T14:16:02.000Z"
   },
   {
    "duration": 9,
    "start_time": "2024-06-19T14:16:02.028Z"
   },
   {
    "duration": 26,
    "start_time": "2024-06-19T14:16:02.038Z"
   },
   {
    "duration": 34,
    "start_time": "2024-06-19T14:16:02.065Z"
   },
   {
    "duration": 52,
    "start_time": "2024-06-19T14:16:02.100Z"
   },
   {
    "duration": 35,
    "start_time": "2024-06-19T14:16:02.154Z"
   },
   {
    "duration": 28,
    "start_time": "2024-06-19T14:16:02.190Z"
   },
   {
    "duration": 40,
    "start_time": "2024-06-19T14:16:02.220Z"
   },
   {
    "duration": 28,
    "start_time": "2024-06-19T14:16:02.261Z"
   },
   {
    "duration": 25,
    "start_time": "2024-06-19T14:16:02.290Z"
   },
   {
    "duration": 28,
    "start_time": "2024-06-19T14:16:02.317Z"
   },
   {
    "duration": 235,
    "start_time": "2024-06-19T14:16:02.347Z"
   },
   {
    "duration": 8,
    "start_time": "2024-06-19T14:16:02.584Z"
   },
   {
    "duration": 19,
    "start_time": "2024-06-19T14:16:02.594Z"
   },
   {
    "duration": 254,
    "start_time": "2024-06-19T14:16:02.615Z"
   },
   {
    "duration": 8,
    "start_time": "2024-06-19T14:16:02.871Z"
   },
   {
    "duration": 89,
    "start_time": "2024-06-19T14:16:02.881Z"
   },
   {
    "duration": 6,
    "start_time": "2024-06-19T14:16:02.972Z"
   },
   {
    "duration": 40,
    "start_time": "2024-06-19T14:16:02.979Z"
   },
   {
    "duration": 143,
    "start_time": "2024-06-19T14:16:03.020Z"
   },
   {
    "duration": 14,
    "start_time": "2024-06-19T14:16:03.164Z"
   },
   {
    "duration": 16,
    "start_time": "2024-06-19T14:16:03.179Z"
   },
   {
    "duration": 145,
    "start_time": "2024-06-19T14:16:03.196Z"
   },
   {
    "duration": 4,
    "start_time": "2024-06-19T14:16:03.343Z"
   },
   {
    "duration": 14,
    "start_time": "2024-06-19T14:16:03.348Z"
   },
   {
    "duration": 187,
    "start_time": "2024-06-19T14:16:03.363Z"
   },
   {
    "duration": 3,
    "start_time": "2024-06-19T14:16:03.551Z"
   },
   {
    "duration": 27,
    "start_time": "2024-06-19T14:16:03.555Z"
   },
   {
    "duration": 148,
    "start_time": "2024-06-19T14:16:03.583Z"
   },
   {
    "duration": 0,
    "start_time": "2024-06-19T14:16:03.733Z"
   },
   {
    "duration": 7,
    "start_time": "2024-06-19T14:16:19.467Z"
   },
   {
    "duration": 8,
    "start_time": "2024-06-19T14:16:45.011Z"
   },
   {
    "duration": 245,
    "start_time": "2024-06-19T14:38:17.292Z"
   },
   {
    "duration": 8,
    "start_time": "2024-06-19T14:38:20.407Z"
   },
   {
    "duration": 7,
    "start_time": "2024-06-19T14:38:21.043Z"
   },
   {
    "duration": 311,
    "start_time": "2024-06-19T14:38:29.849Z"
   },
   {
    "duration": 73,
    "start_time": "2024-06-19T15:06:59.080Z"
   },
   {
    "duration": 884,
    "start_time": "2024-06-19T15:07:35.198Z"
   },
   {
    "duration": 275,
    "start_time": "2024-06-19T15:08:06.237Z"
   },
   {
    "duration": 155,
    "start_time": "2024-06-19T15:08:42.240Z"
   },
   {
    "duration": 917,
    "start_time": "2024-06-19T15:10:24.402Z"
   },
   {
    "duration": 818,
    "start_time": "2024-06-19T15:10:35.863Z"
   },
   {
    "duration": 168,
    "start_time": "2024-06-19T15:11:04.928Z"
   },
   {
    "duration": 163,
    "start_time": "2024-06-19T15:11:09.787Z"
   },
   {
    "duration": 923,
    "start_time": "2024-06-19T15:11:21.994Z"
   },
   {
    "duration": 206,
    "start_time": "2024-06-19T15:11:49.463Z"
   },
   {
    "duration": 177,
    "start_time": "2024-06-19T15:12:02.480Z"
   },
   {
    "duration": 176,
    "start_time": "2024-06-19T15:12:08.793Z"
   },
   {
    "duration": 10,
    "start_time": "2024-06-19T15:12:38.754Z"
   },
   {
    "duration": 264,
    "start_time": "2024-06-19T15:15:12.103Z"
   },
   {
    "duration": 1088,
    "start_time": "2024-06-19T15:18:16.503Z"
   },
   {
    "duration": 34,
    "start_time": "2024-06-19T15:18:17.592Z"
   },
   {
    "duration": 11,
    "start_time": "2024-06-19T15:18:17.627Z"
   },
   {
    "duration": 4,
    "start_time": "2024-06-19T15:18:17.639Z"
   },
   {
    "duration": 38,
    "start_time": "2024-06-19T15:18:17.645Z"
   },
   {
    "duration": 8,
    "start_time": "2024-06-19T15:18:17.685Z"
   },
   {
    "duration": 11,
    "start_time": "2024-06-19T15:18:17.694Z"
   },
   {
    "duration": 47,
    "start_time": "2024-06-19T15:18:17.706Z"
   },
   {
    "duration": 6,
    "start_time": "2024-06-19T15:18:17.754Z"
   },
   {
    "duration": 8,
    "start_time": "2024-06-19T15:18:17.761Z"
   },
   {
    "duration": 5,
    "start_time": "2024-06-19T15:18:17.770Z"
   },
   {
    "duration": 8,
    "start_time": "2024-06-19T15:18:17.776Z"
   },
   {
    "duration": 4,
    "start_time": "2024-06-19T15:18:17.786Z"
   },
   {
    "duration": 14,
    "start_time": "2024-06-19T15:18:17.793Z"
   },
   {
    "duration": 14,
    "start_time": "2024-06-19T15:18:17.808Z"
   },
   {
    "duration": 4,
    "start_time": "2024-06-19T15:18:17.823Z"
   },
   {
    "duration": 11,
    "start_time": "2024-06-19T15:18:17.829Z"
   },
   {
    "duration": 5,
    "start_time": "2024-06-19T15:18:17.841Z"
   },
   {
    "duration": 11,
    "start_time": "2024-06-19T15:18:17.848Z"
   },
   {
    "duration": 5,
    "start_time": "2024-06-19T15:18:17.861Z"
   },
   {
    "duration": 7,
    "start_time": "2024-06-19T15:18:17.868Z"
   },
   {
    "duration": 11,
    "start_time": "2024-06-19T15:18:17.877Z"
   },
   {
    "duration": 47,
    "start_time": "2024-06-19T15:18:17.889Z"
   },
   {
    "duration": 28,
    "start_time": "2024-06-19T15:18:17.937Z"
   },
   {
    "duration": 21,
    "start_time": "2024-06-19T15:18:17.966Z"
   },
   {
    "duration": 161,
    "start_time": "2024-06-19T15:18:17.988Z"
   },
   {
    "duration": 4,
    "start_time": "2024-06-19T15:18:18.151Z"
   },
   {
    "duration": 134,
    "start_time": "2024-06-19T15:18:18.157Z"
   },
   {
    "duration": 231,
    "start_time": "2024-06-19T15:18:18.293Z"
   },
   {
    "duration": 164,
    "start_time": "2024-06-19T15:18:18.525Z"
   },
   {
    "duration": 6,
    "start_time": "2024-06-19T15:18:18.691Z"
   },
   {
    "duration": 16,
    "start_time": "2024-06-19T15:18:18.698Z"
   },
   {
    "duration": 7,
    "start_time": "2024-06-19T15:18:18.715Z"
   },
   {
    "duration": 180,
    "start_time": "2024-06-19T15:18:18.723Z"
   },
   {
    "duration": 91,
    "start_time": "2024-06-19T15:18:18.905Z"
   },
   {
    "duration": 180,
    "start_time": "2024-06-19T15:18:18.998Z"
   },
   {
    "duration": 148,
    "start_time": "2024-06-19T15:18:19.179Z"
   },
   {
    "duration": 8,
    "start_time": "2024-06-19T15:18:19.329Z"
   },
   {
    "duration": 11,
    "start_time": "2024-06-19T15:18:19.338Z"
   },
   {
    "duration": 4,
    "start_time": "2024-06-19T15:18:19.351Z"
   },
   {
    "duration": 3,
    "start_time": "2024-06-19T15:18:19.359Z"
   },
   {
    "duration": 16,
    "start_time": "2024-06-19T15:18:19.364Z"
   },
   {
    "duration": 40,
    "start_time": "2024-06-19T15:18:19.382Z"
   },
   {
    "duration": 4,
    "start_time": "2024-06-19T15:18:19.424Z"
   },
   {
    "duration": 6,
    "start_time": "2024-06-19T15:18:19.429Z"
   },
   {
    "duration": 13,
    "start_time": "2024-06-19T15:18:19.437Z"
   },
   {
    "duration": 23,
    "start_time": "2024-06-19T15:18:19.451Z"
   },
   {
    "duration": 4,
    "start_time": "2024-06-19T15:18:19.476Z"
   },
   {
    "duration": 32,
    "start_time": "2024-06-19T15:18:19.481Z"
   },
   {
    "duration": 11,
    "start_time": "2024-06-19T15:18:19.514Z"
   },
   {
    "duration": 265,
    "start_time": "2024-06-19T15:18:19.526Z"
   },
   {
    "duration": 7,
    "start_time": "2024-06-19T15:18:19.793Z"
   },
   {
    "duration": 6,
    "start_time": "2024-06-19T15:18:19.809Z"
   },
   {
    "duration": 259,
    "start_time": "2024-06-19T15:18:19.816Z"
   },
   {
    "duration": 8,
    "start_time": "2024-06-19T15:18:20.076Z"
   },
   {
    "duration": 34,
    "start_time": "2024-06-19T15:18:20.085Z"
   },
   {
    "duration": 5,
    "start_time": "2024-06-19T15:18:20.120Z"
   },
   {
    "duration": 15,
    "start_time": "2024-06-19T15:18:20.126Z"
   },
   {
    "duration": 132,
    "start_time": "2024-06-19T15:18:20.142Z"
   },
   {
    "duration": 13,
    "start_time": "2024-06-19T15:18:20.275Z"
   },
   {
    "duration": 21,
    "start_time": "2024-06-19T15:18:20.289Z"
   },
   {
    "duration": 152,
    "start_time": "2024-06-19T15:18:20.311Z"
   },
   {
    "duration": 5,
    "start_time": "2024-06-19T15:18:20.464Z"
   },
   {
    "duration": 19,
    "start_time": "2024-06-19T15:18:20.471Z"
   },
   {
    "duration": 175,
    "start_time": "2024-06-19T15:18:20.492Z"
   },
   {
    "duration": 3,
    "start_time": "2024-06-19T15:18:20.668Z"
   },
   {
    "duration": 22,
    "start_time": "2024-06-19T15:18:20.673Z"
   },
   {
    "duration": 109,
    "start_time": "2024-06-19T15:18:20.696Z"
   },
   {
    "duration": 0,
    "start_time": "2024-06-19T15:18:20.806Z"
   },
   {
    "duration": 168,
    "start_time": "2024-06-19T15:19:40.221Z"
   },
   {
    "duration": 166,
    "start_time": "2024-06-19T15:21:31.255Z"
   },
   {
    "duration": 159,
    "start_time": "2024-06-19T15:21:46.133Z"
   },
   {
    "duration": 240,
    "start_time": "2024-06-19T15:21:59.878Z"
   },
   {
    "duration": 167,
    "start_time": "2024-06-19T15:22:38.089Z"
   },
   {
    "duration": 183,
    "start_time": "2024-06-19T15:24:05.916Z"
   },
   {
    "duration": 6,
    "start_time": "2024-06-19T15:28:06.771Z"
   },
   {
    "duration": 7,
    "start_time": "2024-06-19T15:35:21.213Z"
   },
   {
    "duration": 159,
    "start_time": "2024-06-19T15:47:55.604Z"
   },
   {
    "duration": 163,
    "start_time": "2024-06-19T15:48:27.183Z"
   },
   {
    "duration": 172,
    "start_time": "2024-06-19T15:51:21.185Z"
   },
   {
    "duration": 210,
    "start_time": "2024-06-19T15:51:54.804Z"
   },
   {
    "duration": 202,
    "start_time": "2024-06-19T15:52:20.007Z"
   },
   {
    "duration": 5,
    "start_time": "2024-06-19T16:00:11.127Z"
   },
   {
    "duration": 9,
    "start_time": "2024-06-19T16:10:28.734Z"
   },
   {
    "duration": 8,
    "start_time": "2024-06-19T16:10:30.925Z"
   },
   {
    "duration": 4,
    "start_time": "2024-06-19T16:10:49.885Z"
   },
   {
    "duration": 5,
    "start_time": "2024-06-19T16:10:59.769Z"
   },
   {
    "duration": 9,
    "start_time": "2024-06-19T16:11:17.259Z"
   },
   {
    "duration": 7,
    "start_time": "2024-06-19T16:12:05.359Z"
   },
   {
    "duration": 8,
    "start_time": "2024-06-19T16:16:59.465Z"
   },
   {
    "duration": 1048,
    "start_time": "2024-06-19T16:17:12.245Z"
   },
   {
    "duration": 34,
    "start_time": "2024-06-19T16:17:13.294Z"
   },
   {
    "duration": 10,
    "start_time": "2024-06-19T16:17:13.330Z"
   },
   {
    "duration": 4,
    "start_time": "2024-06-19T16:17:13.341Z"
   },
   {
    "duration": 32,
    "start_time": "2024-06-19T16:17:13.347Z"
   },
   {
    "duration": 8,
    "start_time": "2024-06-19T16:17:13.380Z"
   },
   {
    "duration": 20,
    "start_time": "2024-06-19T16:17:13.389Z"
   },
   {
    "duration": 25,
    "start_time": "2024-06-19T16:17:13.410Z"
   },
   {
    "duration": 6,
    "start_time": "2024-06-19T16:17:13.437Z"
   },
   {
    "duration": 5,
    "start_time": "2024-06-19T16:17:13.444Z"
   },
   {
    "duration": 7,
    "start_time": "2024-06-19T16:17:13.450Z"
   },
   {
    "duration": 8,
    "start_time": "2024-06-19T16:17:13.458Z"
   },
   {
    "duration": 5,
    "start_time": "2024-06-19T16:17:13.467Z"
   },
   {
    "duration": 3,
    "start_time": "2024-06-19T16:17:13.475Z"
   },
   {
    "duration": 5,
    "start_time": "2024-06-19T16:17:13.479Z"
   },
   {
    "duration": 4,
    "start_time": "2024-06-19T16:17:13.485Z"
   },
   {
    "duration": 8,
    "start_time": "2024-06-19T16:17:13.508Z"
   },
   {
    "duration": 4,
    "start_time": "2024-06-19T16:17:13.517Z"
   },
   {
    "duration": 3,
    "start_time": "2024-06-19T16:17:13.522Z"
   },
   {
    "duration": 4,
    "start_time": "2024-06-19T16:17:13.527Z"
   },
   {
    "duration": 6,
    "start_time": "2024-06-19T16:17:13.532Z"
   },
   {
    "duration": 7,
    "start_time": "2024-06-19T16:17:13.539Z"
   },
   {
    "duration": 8,
    "start_time": "2024-06-19T16:17:13.547Z"
   },
   {
    "duration": 4,
    "start_time": "2024-06-19T16:17:13.556Z"
   },
   {
    "duration": 49,
    "start_time": "2024-06-19T16:17:13.561Z"
   },
   {
    "duration": 158,
    "start_time": "2024-06-19T16:17:13.611Z"
   },
   {
    "duration": 4,
    "start_time": "2024-06-19T16:17:13.770Z"
   },
   {
    "duration": 140,
    "start_time": "2024-06-19T16:17:13.775Z"
   },
   {
    "duration": 218,
    "start_time": "2024-06-19T16:17:13.916Z"
   },
   {
    "duration": 155,
    "start_time": "2024-06-19T16:17:14.135Z"
   },
   {
    "duration": 6,
    "start_time": "2024-06-19T16:17:14.292Z"
   },
   {
    "duration": 14,
    "start_time": "2024-06-19T16:17:14.299Z"
   },
   {
    "duration": 7,
    "start_time": "2024-06-19T16:17:14.314Z"
   },
   {
    "duration": 180,
    "start_time": "2024-06-19T16:17:14.323Z"
   },
   {
    "duration": 89,
    "start_time": "2024-06-19T16:17:14.505Z"
   },
   {
    "duration": 192,
    "start_time": "2024-06-19T16:17:14.595Z"
   },
   {
    "duration": 152,
    "start_time": "2024-06-19T16:17:14.788Z"
   },
   {
    "duration": 7,
    "start_time": "2024-06-19T16:17:14.941Z"
   },
   {
    "duration": 3,
    "start_time": "2024-06-19T16:17:14.949Z"
   },
   {
    "duration": 22,
    "start_time": "2024-06-19T16:17:14.953Z"
   },
   {
    "duration": 3,
    "start_time": "2024-06-19T16:17:14.978Z"
   },
   {
    "duration": 12,
    "start_time": "2024-06-19T16:17:14.983Z"
   },
   {
    "duration": 25,
    "start_time": "2024-06-19T16:17:14.997Z"
   },
   {
    "duration": 6,
    "start_time": "2024-06-19T16:17:15.024Z"
   },
   {
    "duration": 38,
    "start_time": "2024-06-19T16:17:15.031Z"
   },
   {
    "duration": 15,
    "start_time": "2024-06-19T16:17:15.070Z"
   },
   {
    "duration": 15,
    "start_time": "2024-06-19T16:17:15.087Z"
   },
   {
    "duration": 10,
    "start_time": "2024-06-19T16:17:15.103Z"
   },
   {
    "duration": 124,
    "start_time": "2024-06-19T16:17:15.114Z"
   },
   {
    "duration": 22,
    "start_time": "2024-06-19T16:17:15.239Z"
   },
   {
    "duration": 250,
    "start_time": "2024-06-19T16:17:15.263Z"
   },
   {
    "duration": 8,
    "start_time": "2024-06-19T16:17:15.515Z"
   },
   {
    "duration": 8,
    "start_time": "2024-06-19T16:17:15.524Z"
   },
   {
    "duration": 262,
    "start_time": "2024-06-19T16:17:15.533Z"
   },
   {
    "duration": 14,
    "start_time": "2024-06-19T16:17:15.797Z"
   },
   {
    "duration": 20,
    "start_time": "2024-06-19T16:17:15.813Z"
   },
   {
    "duration": 18,
    "start_time": "2024-06-19T16:17:15.834Z"
   },
   {
    "duration": 29,
    "start_time": "2024-06-19T16:17:15.854Z"
   },
   {
    "duration": 101,
    "start_time": "2024-06-19T16:17:15.884Z"
   },
   {
    "duration": 24,
    "start_time": "2024-06-19T16:17:15.986Z"
   },
   {
    "duration": 16,
    "start_time": "2024-06-19T16:17:16.012Z"
   },
   {
    "duration": 6,
    "start_time": "2024-06-19T16:17:16.030Z"
   },
   {
    "duration": 136,
    "start_time": "2024-06-19T16:17:16.037Z"
   },
   {
    "duration": 6,
    "start_time": "2024-06-19T16:17:16.174Z"
   },
   {
    "duration": 10,
    "start_time": "2024-06-19T16:17:16.181Z"
   },
   {
    "duration": 169,
    "start_time": "2024-06-19T16:17:16.192Z"
   },
   {
    "duration": 235,
    "start_time": "2024-06-19T16:17:16.363Z"
   },
   {
    "duration": 4,
    "start_time": "2024-06-19T16:17:16.600Z"
   },
   {
    "duration": 8,
    "start_time": "2024-06-19T16:17:16.605Z"
   },
   {
    "duration": 5,
    "start_time": "2024-06-19T16:17:16.615Z"
   },
   {
    "duration": 12,
    "start_time": "2024-06-19T16:17:16.621Z"
   },
   {
    "duration": 8,
    "start_time": "2024-06-19T16:22:30.169Z"
   },
   {
    "duration": 5,
    "start_time": "2024-06-19T16:43:11.770Z"
   },
   {
    "duration": 4,
    "start_time": "2024-06-19T16:43:14.537Z"
   },
   {
    "duration": 4,
    "start_time": "2024-06-19T16:43:47.197Z"
   },
   {
    "duration": 6,
    "start_time": "2024-06-19T16:48:20.792Z"
   },
   {
    "duration": 4,
    "start_time": "2024-06-19T16:48:32.525Z"
   },
   {
    "duration": 4,
    "start_time": "2024-06-19T16:49:03.239Z"
   },
   {
    "duration": 10,
    "start_time": "2024-06-19T17:05:51.293Z"
   },
   {
    "duration": 5,
    "start_time": "2024-06-19T17:19:03.872Z"
   },
   {
    "duration": 5,
    "start_time": "2024-06-19T17:23:44.142Z"
   },
   {
    "duration": 4,
    "start_time": "2024-06-19T17:23:52.981Z"
   },
   {
    "duration": 73,
    "start_time": "2024-06-19T17:25:15.212Z"
   },
   {
    "duration": 5,
    "start_time": "2024-06-19T17:25:23.796Z"
   },
   {
    "duration": 3,
    "start_time": "2024-06-19T17:29:39.877Z"
   },
   {
    "duration": 9,
    "start_time": "2024-06-19T17:40:07.421Z"
   },
   {
    "duration": 1070,
    "start_time": "2024-06-19T17:40:53.603Z"
   },
   {
    "duration": 34,
    "start_time": "2024-06-19T17:40:54.675Z"
   },
   {
    "duration": 12,
    "start_time": "2024-06-19T17:40:54.710Z"
   },
   {
    "duration": 24,
    "start_time": "2024-06-19T17:40:54.723Z"
   },
   {
    "duration": 62,
    "start_time": "2024-06-19T17:40:54.749Z"
   },
   {
    "duration": 9,
    "start_time": "2024-06-19T17:40:54.813Z"
   },
   {
    "duration": 7,
    "start_time": "2024-06-19T17:40:54.823Z"
   },
   {
    "duration": 20,
    "start_time": "2024-06-19T17:40:54.832Z"
   },
   {
    "duration": 6,
    "start_time": "2024-06-19T17:40:54.854Z"
   },
   {
    "duration": 6,
    "start_time": "2024-06-19T17:40:54.862Z"
   },
   {
    "duration": 6,
    "start_time": "2024-06-19T17:40:54.869Z"
   },
   {
    "duration": 8,
    "start_time": "2024-06-19T17:40:54.876Z"
   },
   {
    "duration": 6,
    "start_time": "2024-06-19T17:40:54.908Z"
   },
   {
    "duration": 21,
    "start_time": "2024-06-19T17:40:54.917Z"
   },
   {
    "duration": 12,
    "start_time": "2024-06-19T17:40:54.939Z"
   },
   {
    "duration": 6,
    "start_time": "2024-06-19T17:40:54.953Z"
   },
   {
    "duration": 15,
    "start_time": "2024-06-19T17:40:54.960Z"
   },
   {
    "duration": 12,
    "start_time": "2024-06-19T17:40:54.976Z"
   },
   {
    "duration": 14,
    "start_time": "2024-06-19T17:40:54.989Z"
   },
   {
    "duration": 11,
    "start_time": "2024-06-19T17:40:55.006Z"
   },
   {
    "duration": 27,
    "start_time": "2024-06-19T17:40:55.019Z"
   },
   {
    "duration": 26,
    "start_time": "2024-06-19T17:40:55.047Z"
   },
   {
    "duration": 23,
    "start_time": "2024-06-19T17:40:55.074Z"
   },
   {
    "duration": 3,
    "start_time": "2024-06-19T17:40:55.098Z"
   },
   {
    "duration": 43,
    "start_time": "2024-06-19T17:40:55.103Z"
   },
   {
    "duration": 9,
    "start_time": "2024-06-19T17:40:55.147Z"
   },
   {
    "duration": 14,
    "start_time": "2024-06-19T17:40:55.157Z"
   },
   {
    "duration": 174,
    "start_time": "2024-06-19T17:40:55.172Z"
   },
   {
    "duration": 5,
    "start_time": "2024-06-19T17:40:55.348Z"
   },
   {
    "duration": 165,
    "start_time": "2024-06-19T17:40:55.355Z"
   },
   {
    "duration": 224,
    "start_time": "2024-06-19T17:40:55.522Z"
   },
   {
    "duration": 152,
    "start_time": "2024-06-19T17:40:55.747Z"
   },
   {
    "duration": 13,
    "start_time": "2024-06-19T17:40:55.901Z"
   },
   {
    "duration": 16,
    "start_time": "2024-06-19T17:40:55.915Z"
   },
   {
    "duration": 7,
    "start_time": "2024-06-19T17:40:55.932Z"
   },
   {
    "duration": 168,
    "start_time": "2024-06-19T17:40:55.941Z"
   },
   {
    "duration": 85,
    "start_time": "2024-06-19T17:40:56.110Z"
   },
   {
    "duration": 177,
    "start_time": "2024-06-19T17:40:56.196Z"
   },
   {
    "duration": 154,
    "start_time": "2024-06-19T17:40:56.374Z"
   },
   {
    "duration": 8,
    "start_time": "2024-06-19T17:40:56.529Z"
   },
   {
    "duration": 35,
    "start_time": "2024-06-19T17:40:56.542Z"
   },
   {
    "duration": 17,
    "start_time": "2024-06-19T17:40:56.579Z"
   },
   {
    "duration": 30,
    "start_time": "2024-06-19T17:40:56.598Z"
   },
   {
    "duration": 30,
    "start_time": "2024-06-19T17:40:56.629Z"
   },
   {
    "duration": 17,
    "start_time": "2024-06-19T17:40:56.661Z"
   },
   {
    "duration": 9,
    "start_time": "2024-06-19T17:40:56.679Z"
   },
   {
    "duration": 8,
    "start_time": "2024-06-19T17:40:56.689Z"
   },
   {
    "duration": 14,
    "start_time": "2024-06-19T17:40:56.699Z"
   },
   {
    "duration": 36,
    "start_time": "2024-06-19T17:40:56.715Z"
   },
   {
    "duration": 10,
    "start_time": "2024-06-19T17:40:56.753Z"
   },
   {
    "duration": 34,
    "start_time": "2024-06-19T17:40:56.765Z"
   },
   {
    "duration": 33,
    "start_time": "2024-06-19T17:40:56.800Z"
   },
   {
    "duration": 258,
    "start_time": "2024-06-19T17:40:56.835Z"
   },
   {
    "duration": 16,
    "start_time": "2024-06-19T17:40:57.094Z"
   },
   {
    "duration": 56,
    "start_time": "2024-06-19T17:40:57.111Z"
   },
   {
    "duration": 267,
    "start_time": "2024-06-19T17:40:57.169Z"
   },
   {
    "duration": 9,
    "start_time": "2024-06-19T17:40:57.438Z"
   },
   {
    "duration": 54,
    "start_time": "2024-06-19T17:40:57.448Z"
   },
   {
    "duration": 14,
    "start_time": "2024-06-19T17:40:57.503Z"
   },
   {
    "duration": 7,
    "start_time": "2024-06-19T17:40:57.518Z"
   },
   {
    "duration": 116,
    "start_time": "2024-06-19T17:40:57.526Z"
   },
   {
    "duration": 13,
    "start_time": "2024-06-19T17:40:57.643Z"
   },
   {
    "duration": 30,
    "start_time": "2024-06-19T17:40:57.657Z"
   },
   {
    "duration": 19,
    "start_time": "2024-06-19T17:40:57.689Z"
   },
   {
    "duration": 147,
    "start_time": "2024-06-19T17:40:57.709Z"
   },
   {
    "duration": 5,
    "start_time": "2024-06-19T17:40:57.857Z"
   },
   {
    "duration": 9,
    "start_time": "2024-06-19T17:40:57.864Z"
   },
   {
    "duration": 166,
    "start_time": "2024-06-19T17:40:57.875Z"
   },
   {
    "duration": 239,
    "start_time": "2024-06-19T17:40:58.043Z"
   },
   {
    "duration": 4,
    "start_time": "2024-06-19T17:40:58.283Z"
   },
   {
    "duration": 19,
    "start_time": "2024-06-19T17:40:58.288Z"
   },
   {
    "duration": 21,
    "start_time": "2024-06-19T17:40:58.309Z"
   },
   {
    "duration": 23,
    "start_time": "2024-06-19T17:40:58.331Z"
   },
   {
    "duration": 4,
    "start_time": "2024-06-19T17:52:37.225Z"
   },
   {
    "duration": 146,
    "start_time": "2024-06-19T17:52:53.758Z"
   },
   {
    "duration": 220,
    "start_time": "2024-06-19T17:54:06.802Z"
   },
   {
    "duration": 145,
    "start_time": "2024-06-19T17:55:47.418Z"
   },
   {
    "duration": 213,
    "start_time": "2024-06-19T20:42:38.850Z"
   },
   {
    "duration": 147,
    "start_time": "2024-06-19T20:42:47.616Z"
   },
   {
    "duration": 233,
    "start_time": "2024-06-19T20:45:28.644Z"
   },
   {
    "duration": 216,
    "start_time": "2024-06-19T20:45:39.656Z"
   },
   {
    "duration": 1121,
    "start_time": "2024-06-19T21:01:59.808Z"
   },
   {
    "duration": 38,
    "start_time": "2024-06-19T21:02:00.931Z"
   },
   {
    "duration": 26,
    "start_time": "2024-06-19T21:02:00.971Z"
   },
   {
    "duration": 26,
    "start_time": "2024-06-19T21:02:01.000Z"
   },
   {
    "duration": 63,
    "start_time": "2024-06-19T21:02:01.028Z"
   },
   {
    "duration": 21,
    "start_time": "2024-06-19T21:02:01.092Z"
   },
   {
    "duration": 110,
    "start_time": "2024-06-19T21:02:01.114Z"
   },
   {
    "duration": 68,
    "start_time": "2024-06-19T21:02:01.225Z"
   },
   {
    "duration": 22,
    "start_time": "2024-06-19T21:02:01.294Z"
   },
   {
    "duration": 149,
    "start_time": "2024-06-19T21:02:01.319Z"
   },
   {
    "duration": 128,
    "start_time": "2024-06-19T21:02:01.469Z"
   },
   {
    "duration": 250,
    "start_time": "2024-06-19T21:02:01.598Z"
   },
   {
    "duration": 427,
    "start_time": "2024-06-19T21:02:01.849Z"
   },
   {
    "duration": 922,
    "start_time": "2024-06-19T21:02:02.277Z"
   },
   {
    "duration": 218,
    "start_time": "2024-06-19T21:02:03.201Z"
   },
   {
    "duration": 5,
    "start_time": "2024-06-19T21:02:03.421Z"
   },
   {
    "duration": 9,
    "start_time": "2024-06-19T21:02:03.428Z"
   },
   {
    "duration": 4,
    "start_time": "2024-06-19T21:02:03.438Z"
   },
   {
    "duration": 19,
    "start_time": "2024-06-19T21:02:03.444Z"
   },
   {
    "duration": 4,
    "start_time": "2024-06-19T21:02:03.464Z"
   },
   {
    "duration": 11,
    "start_time": "2024-06-19T21:02:03.470Z"
   },
   {
    "duration": 9,
    "start_time": "2024-06-19T21:02:03.482Z"
   },
   {
    "duration": 26,
    "start_time": "2024-06-19T21:02:03.492Z"
   },
   {
    "duration": 4,
    "start_time": "2024-06-19T21:02:03.519Z"
   },
   {
    "duration": 14,
    "start_time": "2024-06-19T21:02:03.524Z"
   },
   {
    "duration": 11,
    "start_time": "2024-06-19T21:02:03.540Z"
   },
   {
    "duration": 5,
    "start_time": "2024-06-19T21:02:03.552Z"
   },
   {
    "duration": 187,
    "start_time": "2024-06-19T21:02:03.562Z"
   },
   {
    "duration": 4,
    "start_time": "2024-06-19T21:02:03.751Z"
   },
   {
    "duration": 158,
    "start_time": "2024-06-19T21:02:03.756Z"
   },
   {
    "duration": 234,
    "start_time": "2024-06-19T21:02:03.915Z"
   },
   {
    "duration": 169,
    "start_time": "2024-06-19T21:02:04.151Z"
   },
   {
    "duration": 103,
    "start_time": "2024-06-19T21:02:04.321Z"
   },
   {
    "duration": 7,
    "start_time": "2024-06-19T21:02:04.426Z"
   },
   {
    "duration": 6,
    "start_time": "2024-06-19T21:02:04.434Z"
   },
   {
    "duration": 7,
    "start_time": "2024-06-19T21:02:04.441Z"
   },
   {
    "duration": 204,
    "start_time": "2024-06-19T21:02:04.449Z"
   },
   {
    "duration": 92,
    "start_time": "2024-06-19T21:02:04.654Z"
   },
   {
    "duration": 212,
    "start_time": "2024-06-19T21:02:04.747Z"
   },
   {
    "duration": 93,
    "start_time": "2024-06-19T21:02:04.960Z"
   },
   {
    "duration": 6,
    "start_time": "2024-06-19T21:02:05.055Z"
   },
   {
    "duration": 3,
    "start_time": "2024-06-19T21:02:05.063Z"
   },
   {
    "duration": 6,
    "start_time": "2024-06-19T21:02:05.067Z"
   },
   {
    "duration": 17,
    "start_time": "2024-06-19T21:02:05.074Z"
   },
   {
    "duration": 22,
    "start_time": "2024-06-19T21:02:05.092Z"
   },
   {
    "duration": 15,
    "start_time": "2024-06-19T21:02:05.116Z"
   },
   {
    "duration": 4,
    "start_time": "2024-06-19T21:02:05.132Z"
   },
   {
    "duration": 26,
    "start_time": "2024-06-19T21:02:05.137Z"
   },
   {
    "duration": 32,
    "start_time": "2024-06-19T21:02:05.164Z"
   },
   {
    "duration": 18,
    "start_time": "2024-06-19T21:02:05.197Z"
   },
   {
    "duration": 8,
    "start_time": "2024-06-19T21:02:05.216Z"
   },
   {
    "duration": 16,
    "start_time": "2024-06-19T21:02:05.225Z"
   },
   {
    "duration": 30,
    "start_time": "2024-06-19T21:02:05.242Z"
   },
   {
    "duration": 259,
    "start_time": "2024-06-19T21:02:05.273Z"
   },
   {
    "duration": 9,
    "start_time": "2024-06-19T21:02:05.534Z"
   },
   {
    "duration": 8,
    "start_time": "2024-06-19T21:02:05.545Z"
   },
   {
    "duration": 275,
    "start_time": "2024-06-19T21:02:05.554Z"
   },
   {
    "duration": 8,
    "start_time": "2024-06-19T21:02:05.830Z"
   },
   {
    "duration": 18,
    "start_time": "2024-06-19T21:02:05.839Z"
   },
   {
    "duration": 4,
    "start_time": "2024-06-19T21:02:05.859Z"
   },
   {
    "duration": 5,
    "start_time": "2024-06-19T21:02:05.865Z"
   },
   {
    "duration": 122,
    "start_time": "2024-06-19T21:02:05.871Z"
   },
   {
    "duration": 18,
    "start_time": "2024-06-19T21:02:05.995Z"
   },
   {
    "duration": 10,
    "start_time": "2024-06-19T21:02:06.014Z"
   },
   {
    "duration": 5,
    "start_time": "2024-06-19T21:02:06.026Z"
   },
   {
    "duration": 162,
    "start_time": "2024-06-19T21:02:06.032Z"
   },
   {
    "duration": 4,
    "start_time": "2024-06-19T21:02:06.196Z"
   },
   {
    "duration": 14,
    "start_time": "2024-06-19T21:02:06.201Z"
   },
   {
    "duration": 173,
    "start_time": "2024-06-19T21:02:06.216Z"
   },
   {
    "duration": 203,
    "start_time": "2024-06-19T21:02:06.390Z"
   },
   {
    "duration": 3,
    "start_time": "2024-06-19T21:02:06.594Z"
   },
   {
    "duration": 13,
    "start_time": "2024-06-19T21:02:06.598Z"
   },
   {
    "duration": 4,
    "start_time": "2024-06-19T21:02:06.612Z"
   },
   {
    "duration": 13,
    "start_time": "2024-06-19T21:02:06.617Z"
   },
   {
    "duration": 984,
    "start_time": "2024-06-20T05:26:31.334Z"
   },
   {
    "duration": 32,
    "start_time": "2024-06-20T05:26:32.320Z"
   },
   {
    "duration": 10,
    "start_time": "2024-06-20T05:26:32.353Z"
   },
   {
    "duration": 3,
    "start_time": "2024-06-20T05:26:32.365Z"
   },
   {
    "duration": 31,
    "start_time": "2024-06-20T05:26:32.369Z"
   },
   {
    "duration": 7,
    "start_time": "2024-06-20T05:26:32.401Z"
   },
   {
    "duration": 13,
    "start_time": "2024-06-20T05:26:32.409Z"
   },
   {
    "duration": 20,
    "start_time": "2024-06-20T05:26:32.423Z"
   },
   {
    "duration": 5,
    "start_time": "2024-06-20T05:26:32.444Z"
   },
   {
    "duration": 4,
    "start_time": "2024-06-20T05:26:32.451Z"
   },
   {
    "duration": 5,
    "start_time": "2024-06-20T05:26:32.456Z"
   },
   {
    "duration": 11,
    "start_time": "2024-06-20T05:26:32.470Z"
   },
   {
    "duration": 16,
    "start_time": "2024-06-20T05:26:32.482Z"
   },
   {
    "duration": 17,
    "start_time": "2024-06-20T05:26:32.500Z"
   },
   {
    "duration": 7,
    "start_time": "2024-06-20T05:26:32.518Z"
   },
   {
    "duration": 19,
    "start_time": "2024-06-20T05:26:32.527Z"
   },
   {
    "duration": 19,
    "start_time": "2024-06-20T05:26:32.548Z"
   },
   {
    "duration": 4,
    "start_time": "2024-06-20T05:26:32.568Z"
   },
   {
    "duration": 6,
    "start_time": "2024-06-20T05:26:32.573Z"
   },
   {
    "duration": 4,
    "start_time": "2024-06-20T05:26:32.580Z"
   },
   {
    "duration": 15,
    "start_time": "2024-06-20T05:26:32.585Z"
   },
   {
    "duration": 16,
    "start_time": "2024-06-20T05:26:32.602Z"
   },
   {
    "duration": 20,
    "start_time": "2024-06-20T05:26:32.619Z"
   },
   {
    "duration": 3,
    "start_time": "2024-06-20T05:26:32.641Z"
   },
   {
    "duration": 7,
    "start_time": "2024-06-20T05:26:32.646Z"
   },
   {
    "duration": 8,
    "start_time": "2024-06-20T05:26:32.655Z"
   },
   {
    "duration": 3,
    "start_time": "2024-06-20T05:26:32.671Z"
   },
   {
    "duration": 156,
    "start_time": "2024-06-20T05:26:32.678Z"
   },
   {
    "duration": 4,
    "start_time": "2024-06-20T05:26:32.836Z"
   },
   {
    "duration": 131,
    "start_time": "2024-06-20T05:26:32.841Z"
   },
   {
    "duration": 216,
    "start_time": "2024-06-20T05:26:32.974Z"
   },
   {
    "duration": 149,
    "start_time": "2024-06-20T05:26:33.191Z"
   },
   {
    "duration": 82,
    "start_time": "2024-06-20T05:26:33.341Z"
   },
   {
    "duration": 5,
    "start_time": "2024-06-20T05:26:33.424Z"
   },
   {
    "duration": 5,
    "start_time": "2024-06-20T05:26:33.431Z"
   },
   {
    "duration": 8,
    "start_time": "2024-06-20T05:26:33.437Z"
   },
   {
    "duration": 172,
    "start_time": "2024-06-20T05:26:33.446Z"
   },
   {
    "duration": 83,
    "start_time": "2024-06-20T05:26:33.619Z"
   },
   {
    "duration": 216,
    "start_time": "2024-06-20T05:26:33.703Z"
   },
   {
    "duration": 100,
    "start_time": "2024-06-20T05:26:33.921Z"
   },
   {
    "duration": 7,
    "start_time": "2024-06-20T05:26:34.022Z"
   },
   {
    "duration": 10,
    "start_time": "2024-06-20T05:26:34.030Z"
   },
   {
    "duration": 36,
    "start_time": "2024-06-20T05:26:34.041Z"
   },
   {
    "duration": 12,
    "start_time": "2024-06-20T05:26:34.079Z"
   },
   {
    "duration": 14,
    "start_time": "2024-06-20T05:26:34.093Z"
   },
   {
    "duration": 20,
    "start_time": "2024-06-20T05:26:34.108Z"
   },
   {
    "duration": 5,
    "start_time": "2024-06-20T05:26:34.129Z"
   },
   {
    "duration": 7,
    "start_time": "2024-06-20T05:26:34.135Z"
   },
   {
    "duration": 15,
    "start_time": "2024-06-20T05:26:34.143Z"
   },
   {
    "duration": 10,
    "start_time": "2024-06-20T05:26:34.170Z"
   },
   {
    "duration": 3,
    "start_time": "2024-06-20T05:26:34.183Z"
   },
   {
    "duration": 16,
    "start_time": "2024-06-20T05:26:34.187Z"
   },
   {
    "duration": 12,
    "start_time": "2024-06-20T05:26:34.204Z"
   },
   {
    "duration": 245,
    "start_time": "2024-06-20T05:26:34.217Z"
   },
   {
    "duration": 13,
    "start_time": "2024-06-20T05:26:34.463Z"
   },
   {
    "duration": 23,
    "start_time": "2024-06-20T05:26:34.478Z"
   },
   {
    "duration": 235,
    "start_time": "2024-06-20T05:26:34.502Z"
   },
   {
    "duration": 7,
    "start_time": "2024-06-20T05:26:34.738Z"
   },
   {
    "duration": 6,
    "start_time": "2024-06-20T05:26:34.746Z"
   },
   {
    "duration": 4,
    "start_time": "2024-06-20T05:26:34.771Z"
   },
   {
    "duration": 7,
    "start_time": "2024-06-20T05:26:34.776Z"
   },
   {
    "duration": 99,
    "start_time": "2024-06-20T05:26:34.784Z"
   },
   {
    "duration": 11,
    "start_time": "2024-06-20T05:26:34.884Z"
   },
   {
    "duration": 19,
    "start_time": "2024-06-20T05:26:34.897Z"
   },
   {
    "duration": 4,
    "start_time": "2024-06-20T05:26:34.917Z"
   },
   {
    "duration": 136,
    "start_time": "2024-06-20T05:26:34.922Z"
   },
   {
    "duration": 5,
    "start_time": "2024-06-20T05:26:35.059Z"
   },
   {
    "duration": 31,
    "start_time": "2024-06-20T05:26:35.065Z"
   },
   {
    "duration": 182,
    "start_time": "2024-06-20T05:26:35.098Z"
   },
   {
    "duration": 239,
    "start_time": "2024-06-20T05:26:35.281Z"
   },
   {
    "duration": 3,
    "start_time": "2024-06-20T05:26:35.521Z"
   },
   {
    "duration": 37,
    "start_time": "2024-06-20T05:26:35.525Z"
   },
   {
    "duration": 30,
    "start_time": "2024-06-20T05:26:35.564Z"
   },
   {
    "duration": 49,
    "start_time": "2024-06-20T05:26:35.596Z"
   }
  ],
  "kernelspec": {
   "display_name": "Python 3 (ipykernel)",
   "language": "python",
   "name": "python3"
  },
  "language_info": {
   "codemirror_mode": {
    "name": "ipython",
    "version": 3
   },
   "file_extension": ".py",
   "mimetype": "text/x-python",
   "name": "python",
   "nbconvert_exporter": "python",
   "pygments_lexer": "ipython3",
   "version": "3.11.7"
  },
  "toc": {
   "base_numbering": 1,
   "nav_menu": {
    "height": "208px",
    "width": "324px"
   },
   "number_sections": false,
   "sideBar": true,
   "skip_h1_title": true,
   "title_cell": "Навигация",
   "title_sidebar": "Навигация",
   "toc_cell": true,
   "toc_position": {
    "height": "calc(100% - 180px)",
    "left": "10px",
    "top": "150px",
    "width": "343px"
   },
   "toc_section_display": true,
   "toc_window_display": true
  }
 },
 "nbformat": 4,
 "nbformat_minor": 5
}
